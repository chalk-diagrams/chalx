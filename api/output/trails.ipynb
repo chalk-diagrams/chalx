{
 "cells": [
  {
   "cell_type": "code",
   "execution_count": 1,
   "id": "254d5075",
   "metadata": {
    "execution": {
     "iopub.execute_input": "2024-08-05T01:30:34.886623Z",
     "iopub.status.busy": "2024-08-05T01:30:34.886351Z",
     "iopub.status.idle": "2024-08-05T01:30:35.417892Z",
     "shell.execute_reply": "2024-08-05T01:30:35.417437Z"
    },
    "lines_to_end_of_cell_marker": 0,
    "lines_to_next_cell": 1,
    "tags": [
     "hide_inp"
    ]
   },
   "outputs": [],
   "source": [
    "import math\n",
    "from chalk import *\n",
    "def help(f):\n",
    "    import pydoc\n",
    "    from IPython.display import HTML\n",
    "    return HTML(pydoc.HTMLDoc().docroutine(f))"
   ]
  },
  {
   "cell_type": "markdown",
   "id": "a7ff2799",
   "metadata": {},
   "source": [
    "Chalk also includes a ``Trail`` primitive which allows for creating new ``Diagram``s and more complex shapes.\n",
    "``Trail``s are specified by position-invariant offsets and can be rendered as ``Path``s.\n",
    "See the [Koch](../examples/koch/) example for a use case. "
   ]
  },
  {
   "cell_type": "markdown",
   "id": "fdf7b461",
   "metadata": {},
   "source": [
    "### Constructors"
   ]
  },
  {
   "cell_type": "markdown",
   "id": "cbd93bea",
   "metadata": {},
   "source": [
    "``Trail``s are a sequence of vectors and can be constructed using the ``from_offsets`` method:"
   ]
  },
  {
   "cell_type": "code",
   "execution_count": 2,
   "id": "a4c662af",
   "metadata": {
    "execution": {
     "iopub.execute_input": "2024-08-05T01:30:35.420197Z",
     "iopub.status.busy": "2024-08-05T01:30:35.420020Z",
     "iopub.status.idle": "2024-08-05T01:30:35.423724Z",
     "shell.execute_reply": "2024-08-05T01:30:35.423355Z"
    }
   },
   "outputs": [],
   "source": [
    "trail = Trail.from_offsets([V2(1, 0), V2(1, 1), V2(0, 1)])"
   ]
  },
  {
   "cell_type": "markdown",
   "id": "c00717b5",
   "metadata": {},
   "source": [
    "### Converting to ``Diagram``"
   ]
  },
  {
   "cell_type": "markdown",
   "id": "6058b67d",
   "metadata": {},
   "source": [
    "In order to render, `Trail`s have to be turned into ``Diagram``s, which can be achieved using the `stroke` method."
   ]
  },
  {
   "cell_type": "code",
   "execution_count": 3,
   "id": "bac778c3",
   "metadata": {
    "execution": {
     "iopub.execute_input": "2024-08-05T01:30:35.425528Z",
     "iopub.status.busy": "2024-08-05T01:30:35.425272Z",
     "iopub.status.idle": "2024-08-05T01:30:35.443477Z",
     "shell.execute_reply": "2024-08-05T01:30:35.442774Z"
    },
    "tags": [
     "hide_inp"
    ]
   },
   "outputs": [
    {
     "data": {
      "text/html": [
       "<dl><dt><a name=\"-stroke\"><strong>stroke</strong></a>(self) -&gt; 'Diagram'</dt></dl>\n"
      ],
      "text/plain": [
       "<IPython.core.display.HTML object>"
      ]
     },
     "execution_count": 3,
     "metadata": {},
     "output_type": "execute_result"
    }
   ],
   "source": [
    "help(Trail.stroke)"
   ]
  },
  {
   "cell_type": "code",
   "execution_count": 4,
   "id": "3cc5ec3d",
   "metadata": {
    "execution": {
     "iopub.execute_input": "2024-08-05T01:30:35.446251Z",
     "iopub.status.busy": "2024-08-05T01:30:35.446020Z",
     "iopub.status.idle": "2024-08-05T01:30:35.469882Z",
     "shell.execute_reply": "2024-08-05T01:30:35.469649Z"
    }
   },
   "outputs": [
    {
     "data": {
      "image/svg+xml": [
       "<?xml version=\"1.0\" encoding=\"utf-8\" ?>\n",
       "<svg baseProfile=\"full\" height=\"200\" version=\"1.1\" width=\"200\" xmlns=\"http://www.w3.org/2000/svg\" xmlns:ev=\"http://www.w3.org/2001/xml-events\" xmlns:xlink=\"http://www.w3.org/1999/xlink\"><defs /><g style=\"fill-opacity: 1.0;stroke: rgb(0.0 0.0 0.0);fill: rgb(256.0 256.0 256.0);stroke-width: 0.6000000000000001;\"><path d=\"M 4.761904761906976 4.85709526190459 C 36.49194450381637 4.730174595253625 68.22236500810575 4.730174595253627 99.95240475001441 4.85709526190324 C 131.7722544164134 36.497452000179884 163.5025479998451 68.22774558361158 195.1429047381204 100.0475952500113 C 195.26982540477272 131.77763499191934 195.26982540477272 163.50805549620873 195.1429047381231 195.23809523811738\" style=\"vector-effect: non-scaling-stroke;\" /></g></svg>"
      ],
      "text/html": [
       "<?xml version=\"1.0\" encoding=\"utf-8\" ?>\n",
       "<svg baseProfile=\"full\" height=\"200\" version=\"1.1\" width=\"200\" xmlns=\"http://www.w3.org/2000/svg\" xmlns:ev=\"http://www.w3.org/2001/xml-events\" xmlns:xlink=\"http://www.w3.org/1999/xlink\"><defs /><g style=\"fill-opacity: 1.0;stroke: rgb(0.0 0.0 0.0);fill: rgb(256.0 256.0 256.0);stroke-width: 0.6000000000000001;\"><path d=\"M 4.761904761906976 4.85709526190459 C 36.49194450381637 4.730174595253625 68.22236500810575 4.730174595253627 99.95240475001441 4.85709526190324 C 131.7722544164134 36.497452000179884 163.5025479998451 68.22774558361158 195.1429047381204 100.0475952500113 C 195.26982540477272 131.77763499191934 195.26982540477272 163.50805549620873 195.1429047381231 195.23809523811738\" style=\"vector-effect: non-scaling-stroke;\" /></g></svg>"
      ],
      "text/plain": [
       "Primitive(prim_shape=Path(loc_trails=(Located(trail=Trail(segments=Segment(transform=array([[[ 7.65407311e-15,  1.25000500e+02,  5.00000000e-01],\n",
       "        [-1.25000500e+02,  7.65407311e-15,  1.24999500e+02],\n",
       "        [ 0.00000000e+00,  0.00000000e+00,  1.00000000e+00]],\n",
       "\n",
       "       [[ 1.76777049e+02,  1.76777049e+02, -1.76276342e+02],\n",
       "        [-1.76777049e+02,  1.76777049e+02,  1.77276342e+02],\n",
       "        [ 0.00000000e+00,  0.00000000e+00,  1.00000000e+00]],\n",
       "\n",
       "       [[ 1.25000500e+02,  0.00000000e+00, -1.24999500e+02],\n",
       "        [ 0.00000000e+00,  1.25000500e+02,  5.00000000e-01],\n",
       "        [ 0.00000000e+00,  0.00000000e+00,  1.00000000e+00]]]), angles=array([[-0.22918281,  0.45836562],\n",
       "       [-0.16205683,  0.32411366],\n",
       "       [-0.22918281,  0.45836562]])), closed=array(False)), location=array([[0.],\n",
       "       [0.],\n",
       "       [1.]])),), text=None), style=None, transform=array([[1., 0., 0.],\n",
       "       [0., 1., 0.],\n",
       "       [0., 0., 1.]]), order=None)"
      ]
     },
     "execution_count": 4,
     "metadata": {},
     "output_type": "execute_result"
    }
   ],
   "source": [
    "trail.stroke()"
   ]
  },
  {
   "cell_type": "markdown",
   "id": "36358e88",
   "metadata": {},
   "source": [
    "### Transformations"
   ]
  },
  {
   "cell_type": "markdown",
   "id": "c6117da5",
   "metadata": {},
   "source": [
    "`Trail`s can be transformed using the usual geometric transformations, which are also applied to the ``Diagram`` object.\n",
    "For example, ``Trail``s can be rotated:"
   ]
  },
  {
   "cell_type": "code",
   "execution_count": 5,
   "id": "0a0808b7",
   "metadata": {
    "execution": {
     "iopub.execute_input": "2024-08-05T01:30:35.471339Z",
     "iopub.status.busy": "2024-08-05T01:30:35.471230Z",
     "iopub.status.idle": "2024-08-05T01:30:35.473522Z",
     "shell.execute_reply": "2024-08-05T01:30:35.473262Z"
    },
    "tags": [
     "hide_inp"
    ]
   },
   "outputs": [
    {
     "data": {
      "text/html": [
       "<dl><dt><a name=\"-rotate_by\"><strong>rotate_by</strong></a>(self, turns: Union[jaxtyping.Float[ndarray, '*#B'], jaxtyping.Int[ndarray, '*#B'], int, numpy.int64, float, numpy.float64]) -&gt; Self</dt><dd><span class=\"code\">Rotate&nbsp;by&nbsp;fractions&nbsp;of&nbsp;a&nbsp;circle&nbsp;(turn).</span></dd></dl>\n"
      ],
      "text/plain": [
       "<IPython.core.display.HTML object>"
      ]
     },
     "execution_count": 5,
     "metadata": {},
     "output_type": "execute_result"
    }
   ],
   "source": [
    "help(Trail.rotate_by)"
   ]
  },
  {
   "cell_type": "code",
   "execution_count": 6,
   "id": "c4f50e2f",
   "metadata": {
    "execution": {
     "iopub.execute_input": "2024-08-05T01:30:35.474959Z",
     "iopub.status.busy": "2024-08-05T01:30:35.474853Z",
     "iopub.status.idle": "2024-08-05T01:30:35.490587Z",
     "shell.execute_reply": "2024-08-05T01:30:35.490347Z"
    }
   },
   "outputs": [
    {
     "data": {
      "image/svg+xml": [
       "<?xml version=\"1.0\" encoding=\"utf-8\" ?>\n",
       "<svg baseProfile=\"full\" height=\"200\" version=\"1.1\" width=\"316\" xmlns=\"http://www.w3.org/2000/svg\" xmlns:ev=\"http://www.w3.org/2001/xml-events\" xmlns:xlink=\"http://www.w3.org/1999/xlink\"><defs /><g style=\"fill-opacity: 1.0;stroke: rgb(0.0 0.0 0.0);fill: rgb(256.0 256.0 256.0);stroke-width: 0.6000000000000001;\"><path d=\"M 7.532942028434718 195.23809523803538 C 19.696998380764132 157.2850916306851 32.01281809124791 119.38089606091069 44.48010558228091 81.52641822303715 C 94.62724438859058 55.7962557286059 144.84705879009294 30.207982222152594 195.13894615112906 4.761904761892481 C 233.0919497584785 16.9259611142202 270.9961453282529 29.241780824703994 308.85062316612647 41.70906831573697\" style=\"vector-effect: non-scaling-stroke;\" /></g></svg>"
      ],
      "text/html": [
       "<?xml version=\"1.0\" encoding=\"utf-8\" ?>\n",
       "<svg baseProfile=\"full\" height=\"200\" version=\"1.1\" width=\"316\" xmlns=\"http://www.w3.org/2000/svg\" xmlns:ev=\"http://www.w3.org/2001/xml-events\" xmlns:xlink=\"http://www.w3.org/1999/xlink\"><defs /><g style=\"fill-opacity: 1.0;stroke: rgb(0.0 0.0 0.0);fill: rgb(256.0 256.0 256.0);stroke-width: 0.6000000000000001;\"><path d=\"M 7.532942028434718 195.23809523803538 C 19.696998380764132 157.2850916306851 32.01281809124791 119.38089606091069 44.48010558228091 81.52641822303715 C 94.62724438859058 55.7962557286059 144.84705879009294 30.207982222152594 195.13894615112906 4.761904761892481 C 233.0919497584785 16.9259611142202 270.9961453282529 29.241780824703994 308.85062316612647 41.70906831573697\" style=\"vector-effect: non-scaling-stroke;\" /></g></svg>"
      ],
      "text/plain": [
       "Primitive(prim_shape=Path(loc_trails=(Located(trail=Trail(segments=Segment(transform=array([[[-118.88254007,   38.62727881,  119.03609751],\n",
       "        [ -38.62727881, -118.88254007,   38.15144153],\n",
       "        [   0.        ,    0.        ,    1.        ]],\n",
       "\n",
       "       [[-113.49785193,  222.75207655,  114.12743469],\n",
       "        [-222.75207655, -113.49785193,  222.43016578],\n",
       "        [   0.        ,    0.        ,    1.        ]],\n",
       "\n",
       "       [[  38.62727881,  118.88254007,  -38.15144153],\n",
       "        [-118.88254007,   38.62727881,  119.03609751],\n",
       "        [   0.        ,    0.        ,    1.        ]]]), angles=array([[-0.22918281,  0.45836562],\n",
       "       [-0.16205683,  0.32411366],\n",
       "       [-0.22918281,  0.45836562]])), closed=array(False)), location=array([[0.],\n",
       "       [0.],\n",
       "       [1.]])),), text=None), style=None, transform=array([[1., 0., 0.],\n",
       "       [0., 1., 0.],\n",
       "       [0., 0., 1.]]), order=None)"
      ]
     },
     "execution_count": 6,
     "metadata": {},
     "output_type": "execute_result"
    }
   ],
   "source": [
    "trail2 = trail.rotate_by(0.2)\n",
    "trail2.stroke()"
   ]
  },
  {
   "cell_type": "markdown",
   "id": "369596ae",
   "metadata": {},
   "source": [
    "However, since `Trail`s are translation invariant, applying the `translate` method leaves the `Trail` instance unchanged."
   ]
  },
  {
   "cell_type": "markdown",
   "id": "79eb05bc",
   "metadata": {},
   "source": [
    "### Composition"
   ]
  },
  {
   "cell_type": "markdown",
   "id": "0aa50105",
   "metadata": {},
   "source": [
    "``Trail``s form a monoid with addition given by list concatenation and identity given by the empty list.\n",
    "Intuitively, adding two ``Trails`` appends the two sequences of offsets."
   ]
  },
  {
   "cell_type": "code",
   "execution_count": 7,
   "id": "13ebd55f",
   "metadata": {
    "execution": {
     "iopub.execute_input": "2024-08-05T01:30:35.492185Z",
     "iopub.status.busy": "2024-08-05T01:30:35.492035Z",
     "iopub.status.idle": "2024-08-05T01:30:35.494171Z",
     "shell.execute_reply": "2024-08-05T01:30:35.493978Z"
    },
    "tags": [
     "hide_inp"
    ]
   },
   "outputs": [
    {
     "data": {
      "text/html": [
       "<dl><dt><a name=\"-__add__\"><strong>__add__</strong></a>(self, other: 'Trail') -&gt; 'Trail'</dt></dl>\n"
      ],
      "text/plain": [
       "<IPython.core.display.HTML object>"
      ]
     },
     "execution_count": 7,
     "metadata": {},
     "output_type": "execute_result"
    }
   ],
   "source": [
    "help(Trail.__add__)"
   ]
  },
  {
   "cell_type": "code",
   "execution_count": 8,
   "id": "236ccfd9",
   "metadata": {
    "execution": {
     "iopub.execute_input": "2024-08-05T01:30:35.495628Z",
     "iopub.status.busy": "2024-08-05T01:30:35.495523Z",
     "iopub.status.idle": "2024-08-05T01:30:35.511303Z",
     "shell.execute_reply": "2024-08-05T01:30:35.511065Z"
    }
   },
   "outputs": [
    {
     "data": {
      "image/svg+xml": [
       "<?xml version=\"1.0\" encoding=\"utf-8\" ?>\n",
       "<svg baseProfile=\"full\" height=\"200\" version=\"1.1\" width=\"452\" xmlns=\"http://www.w3.org/2000/svg\" xmlns:ev=\"http://www.w3.org/2001/xml-events\" xmlns:xlink=\"http://www.w3.org/1999/xlink\"><defs /><g style=\"fill-opacity: 1.0;stroke: rgb(0.0 0.0 0.0);fill: rgb(256.0 256.0 256.0);stroke-width: 0.6000000000000001;\"><path d=\"M 10.756876374532226 4.857095261901392 C 42.486916116441165 4.730174595250429 74.2173366207301 4.730174595250431 105.94737636263831 4.857095261900042 C 137.76722602903686 36.49745200017624 169.4975196124681 68.22774558360749 201.13787635074294 100.04759525000675 C 201.26479701739527 131.77763499191434 201.26479701739527 163.50805549620327 201.13787635074564 195.2380952381115 C 210.82228913611772 165.02181353633267 220.62752831060635 134.84439035094329 230.55335855011802 104.70654993502941 C 270.4780003093324 84.22148250248257 310.46050273960043 63.84937997978817 350.50038605257396 43.59048683132538 C 380.7166677543518 53.27489961669657 410.8940909397412 63.0801387911852 441.0319313556551 73.00596903069686\" style=\"vector-effect: non-scaling-stroke;\" /></g></svg>"
      ],
      "text/html": [
       "<?xml version=\"1.0\" encoding=\"utf-8\" ?>\n",
       "<svg baseProfile=\"full\" height=\"200\" version=\"1.1\" width=\"452\" xmlns=\"http://www.w3.org/2000/svg\" xmlns:ev=\"http://www.w3.org/2001/xml-events\" xmlns:xlink=\"http://www.w3.org/1999/xlink\"><defs /><g style=\"fill-opacity: 1.0;stroke: rgb(0.0 0.0 0.0);fill: rgb(256.0 256.0 256.0);stroke-width: 0.6000000000000001;\"><path d=\"M 10.756876374532226 4.857095261901392 C 42.486916116441165 4.730174595250429 74.2173366207301 4.730174595250431 105.94737636263831 4.857095261900042 C 137.76722602903686 36.49745200017624 169.4975196124681 68.22774558360749 201.13787635074294 100.04759525000675 C 201.26479701739527 131.77763499191434 201.26479701739527 163.50805549620327 201.13787635074564 195.2380952381115 C 210.82228913611772 165.02181353633267 220.62752831060635 134.84439035094329 230.55335855011802 104.70654993502941 C 270.4780003093324 84.22148250248257 310.46050273960043 63.84937997978817 350.50038605257396 43.59048683132538 C 380.7166677543518 53.27489961669657 410.8940909397412 63.0801387911852 441.0319313556551 73.00596903069686\" style=\"vector-effect: non-scaling-stroke;\" /></g></svg>"
      ],
      "text/plain": [
       "Primitive(prim_shape=Path(loc_trails=(Located(trail=Trail(segments=Segment(transform=array([[[ 7.65407311e-15,  1.25000500e+02,  5.00000000e-01],\n",
       "        [-1.25000500e+02,  7.65407311e-15,  1.24999500e+02],\n",
       "        [ 0.00000000e+00,  0.00000000e+00,  1.00000000e+00]],\n",
       "\n",
       "       [[ 1.76777049e+02,  1.76777049e+02, -1.76276342e+02],\n",
       "        [-1.76777049e+02,  1.76777049e+02,  1.77276342e+02],\n",
       "        [ 0.00000000e+00,  0.00000000e+00,  1.00000000e+00]],\n",
       "\n",
       "       [[ 1.25000500e+02,  0.00000000e+00, -1.24999500e+02],\n",
       "        [ 0.00000000e+00,  1.25000500e+02,  5.00000000e-01],\n",
       "        [ 0.00000000e+00,  0.00000000e+00,  1.00000000e+00]],\n",
       "\n",
       "       [[-1.18882540e+02,  3.86272788e+01,  1.19036098e+02],\n",
       "        [-3.86272788e+01, -1.18882540e+02,  3.81514415e+01],\n",
       "        [ 0.00000000e+00,  0.00000000e+00,  1.00000000e+00]],\n",
       "\n",
       "       [[-1.13497852e+02,  2.22752077e+02,  1.14127435e+02],\n",
       "        [-2.22752077e+02, -1.13497852e+02,  2.22430166e+02],\n",
       "        [ 0.00000000e+00,  0.00000000e+00,  1.00000000e+00]],\n",
       "\n",
       "       [[ 3.86272788e+01,  1.18882540e+02, -3.81514415e+01],\n",
       "        [-1.18882540e+02,  3.86272788e+01,  1.19036098e+02],\n",
       "        [ 0.00000000e+00,  0.00000000e+00,  1.00000000e+00]]]), angles=array([[-0.22918281,  0.45836562],\n",
       "       [-0.16205683,  0.32411366],\n",
       "       [-0.22918281,  0.45836562],\n",
       "       [-0.22918281,  0.45836562],\n",
       "       [-0.16205683,  0.32411366],\n",
       "       [-0.22918281,  0.45836562]])), closed=array(False)), location=array([[0.],\n",
       "       [0.],\n",
       "       [1.]])),), text=None), style=None, transform=array([[1., 0., 0.],\n",
       "       [0., 1., 0.],\n",
       "       [0., 0., 1.]]), order=None)"
      ]
     },
     "execution_count": 8,
     "metadata": {},
     "output_type": "execute_result"
    }
   ],
   "source": [
    "(trail + trail2).stroke()"
   ]
  }
 ],
 "metadata": {
  "jupytext": {
   "cell_metadata_filter": "tags,-all"
  },
  "kernelspec": {
   "display_name": "chalk",
   "language": "python",
   "name": "chalk"
  },
  "language_info": {
   "codemirror_mode": {
    "name": "ipython",
    "version": 3
   },
   "file_extension": ".py",
   "mimetype": "text/x-python",
   "name": "python",
   "nbconvert_exporter": "python",
   "pygments_lexer": "ipython3",
   "version": "3.12.4"
  }
 },
 "nbformat": 4,
 "nbformat_minor": 5
}
