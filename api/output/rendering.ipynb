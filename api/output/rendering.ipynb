{
 "cells": [
  {
   "cell_type": "code",
   "execution_count": 1,
   "id": "53de63bf",
   "metadata": {
    "execution": {
     "iopub.execute_input": "2024-08-05T01:29:28.399951Z",
     "iopub.status.busy": "2024-08-05T01:29:28.399692Z",
     "iopub.status.idle": "2024-08-05T01:29:28.926426Z",
     "shell.execute_reply": "2024-08-05T01:29:28.926102Z"
    },
    "lines_to_end_of_cell_marker": 0,
    "lines_to_next_cell": 1,
    "tags": [
     "hide"
    ]
   },
   "outputs": [],
   "source": [
    "import math\n",
    "\n",
    "from chalk.core import BaseDiagram\n",
    "from chalk import *\n",
    "\n",
    "def help(f):\n",
    "    import pydoc\n",
    "    from IPython.display import HTML\n",
    "    return HTML(pydoc.HTMLDoc().docroutine(f))"
   ]
  },
  {
   "cell_type": "markdown",
   "id": "1a9bcd66",
   "metadata": {},
   "source": [
    "Chalk supports three back-ends (Cairo, SVG, TikZ),\n",
    "which allow the created `Diagram`s to be rendered as PNG, SVG, PDF files, respectively.\n",
    "The three corresponding methods for rendering are: `render`, `render_svg`, `render_pdf`;\n",
    "these are documented below.\n",
    "\n",
    "### Diagram.render"
   ]
  },
  {
   "cell_type": "code",
   "execution_count": 2,
   "id": "d30cc64c",
   "metadata": {
    "execution": {
     "iopub.execute_input": "2024-08-05T01:29:28.928138Z",
     "iopub.status.busy": "2024-08-05T01:29:28.927985Z",
     "iopub.status.idle": "2024-08-05T01:29:28.932134Z",
     "shell.execute_reply": "2024-08-05T01:29:28.931840Z"
    },
    "tags": [
     "hide_inp"
    ]
   },
   "outputs": [
    {
     "data": {
      "text/html": [
       "<dl><dt><a name=\"-render\"><strong>render</strong></a>(self: 'Diagram', path: 'str', height: 'int' = 128, width: 'Optional[int]' = None) -&gt; 'None'</dt><dd><span class=\"code\">Render&nbsp;the&nbsp;diagram&nbsp;to&nbsp;a&nbsp;PNG&nbsp;file.<br>\n",
       "&nbsp;<br>\n",
       "Args:<br>\n",
       "&nbsp;&nbsp;&nbsp;&nbsp;self&nbsp;(Diagram):&nbsp;Given&nbsp;``Diagram``&nbsp;instance.<br>\n",
       "&nbsp;&nbsp;&nbsp;&nbsp;path&nbsp;(str):&nbsp;Path&nbsp;of&nbsp;the&nbsp;.png&nbsp;file.<br>\n",
       "&nbsp;&nbsp;&nbsp;&nbsp;height&nbsp;(int,&nbsp;optional):&nbsp;Height&nbsp;of&nbsp;the&nbsp;rendered&nbsp;image.<br>\n",
       "&nbsp;&nbsp;&nbsp;&nbsp;&nbsp;&nbsp;&nbsp;&nbsp;&nbsp;&nbsp;&nbsp;&nbsp;&nbsp;&nbsp;&nbsp;&nbsp;&nbsp;&nbsp;&nbsp;&nbsp;&nbsp;&nbsp;&nbsp;&nbsp;&nbsp;&nbsp;&nbsp;&nbsp;Defaults&nbsp;to&nbsp;128.<br>\n",
       "&nbsp;&nbsp;&nbsp;&nbsp;width&nbsp;(Optional[int],&nbsp;optional):&nbsp;Width&nbsp;of&nbsp;the&nbsp;rendered&nbsp;image.<br>\n",
       "&nbsp;&nbsp;&nbsp;&nbsp;&nbsp;&nbsp;&nbsp;&nbsp;&nbsp;&nbsp;&nbsp;&nbsp;&nbsp;&nbsp;&nbsp;&nbsp;&nbsp;&nbsp;&nbsp;&nbsp;&nbsp;&nbsp;&nbsp;&nbsp;&nbsp;&nbsp;&nbsp;&nbsp;&nbsp;&nbsp;&nbsp;&nbsp;&nbsp;&nbsp;&nbsp;&nbsp;&nbsp;Defaults&nbsp;to&nbsp;None.</span></dd></dl>\n"
      ],
      "text/plain": [
       "<IPython.core.display.HTML object>"
      ]
     },
     "execution_count": 2,
     "metadata": {},
     "output_type": "execute_result"
    }
   ],
   "source": [
    "help(BaseDiagram.render)"
   ]
  },
  {
   "cell_type": "code",
   "execution_count": 3,
   "id": "95bfbb94",
   "metadata": {
    "execution": {
     "iopub.execute_input": "2024-08-05T01:29:28.933506Z",
     "iopub.status.busy": "2024-08-05T01:29:28.933376Z",
     "iopub.status.idle": "2024-08-05T01:29:28.960116Z",
     "shell.execute_reply": "2024-08-05T01:29:28.959833Z"
    }
   },
   "outputs": [
    {
     "data": {
      "image/png": "[encoded data removed]",
      "text/plain": [
       "<IPython.core.display.Image object>"
      ]
     },
     "execution_count": 3,
     "metadata": {},
     "output_type": "execute_result"
    }
   ],
   "source": [
    "circle(1).render(\"circle.png\")\n",
    "from IPython.display import Image\n",
    "Image(\"circle.png\")"
   ]
  },
  {
   "cell_type": "markdown",
   "id": "6bcfeb24",
   "metadata": {},
   "source": [
    "### Diagram.render_svg"
   ]
  },
  {
   "cell_type": "code",
   "execution_count": 4,
   "id": "bbfb51bb",
   "metadata": {
    "execution": {
     "iopub.execute_input": "2024-08-05T01:29:28.961662Z",
     "iopub.status.busy": "2024-08-05T01:29:28.961521Z",
     "iopub.status.idle": "2024-08-05T01:29:28.964054Z",
     "shell.execute_reply": "2024-08-05T01:29:28.963801Z"
    },
    "tags": [
     "hide_inp"
    ]
   },
   "outputs": [
    {
     "data": {
      "text/html": [
       "<dl><dt><a name=\"-render\"><strong>render</strong></a>(self: 'Diagram', path: 'str', height: 'int' = 128, width: 'Optional[int]' = None, draw_height: 'Optional[int]' = None) -&gt; 'None'</dt><dd><span class=\"code\">Render&nbsp;the&nbsp;diagram&nbsp;to&nbsp;an&nbsp;SVG&nbsp;file.<br>\n",
       "&nbsp;<br>\n",
       "Args:<br>\n",
       "&nbsp;&nbsp;&nbsp;&nbsp;self&nbsp;(Diagram):&nbsp;Given&nbsp;``Diagram``&nbsp;instance.<br>\n",
       "&nbsp;&nbsp;&nbsp;&nbsp;path&nbsp;(str):&nbsp;Path&nbsp;of&nbsp;the&nbsp;.svg&nbsp;file.<br>\n",
       "&nbsp;&nbsp;&nbsp;&nbsp;height&nbsp;(int,&nbsp;optional):&nbsp;Height&nbsp;of&nbsp;the&nbsp;rendered&nbsp;image.<br>\n",
       "&nbsp;&nbsp;&nbsp;&nbsp;&nbsp;&nbsp;&nbsp;&nbsp;&nbsp;&nbsp;&nbsp;&nbsp;&nbsp;&nbsp;&nbsp;&nbsp;&nbsp;&nbsp;&nbsp;&nbsp;&nbsp;&nbsp;&nbsp;&nbsp;&nbsp;&nbsp;&nbsp;&nbsp;Defaults&nbsp;to&nbsp;128.<br>\n",
       "&nbsp;&nbsp;&nbsp;&nbsp;width&nbsp;(Optional[int],&nbsp;optional):&nbsp;Width&nbsp;of&nbsp;the&nbsp;rendered&nbsp;image.<br>\n",
       "&nbsp;&nbsp;&nbsp;&nbsp;&nbsp;&nbsp;&nbsp;&nbsp;&nbsp;&nbsp;&nbsp;&nbsp;&nbsp;&nbsp;&nbsp;&nbsp;&nbsp;&nbsp;&nbsp;&nbsp;&nbsp;&nbsp;&nbsp;&nbsp;&nbsp;&nbsp;&nbsp;&nbsp;&nbsp;&nbsp;&nbsp;&nbsp;&nbsp;&nbsp;&nbsp;&nbsp;&nbsp;Defaults&nbsp;to&nbsp;None.<br>\n",
       "&nbsp;&nbsp;&nbsp;&nbsp;draw_height&nbsp;(Optional[int],&nbsp;optional):&nbsp;Override&nbsp;the&nbsp;height&nbsp;for<br>\n",
       "&nbsp;&nbsp;&nbsp;&nbsp;&nbsp;&nbsp;&nbsp;&nbsp;&nbsp;&nbsp;&nbsp;&nbsp;&nbsp;&nbsp;&nbsp;&nbsp;&nbsp;&nbsp;&nbsp;&nbsp;&nbsp;&nbsp;&nbsp;&nbsp;&nbsp;&nbsp;&nbsp;&nbsp;&nbsp;&nbsp;&nbsp;&nbsp;&nbsp;&nbsp;&nbsp;&nbsp;&nbsp;&nbsp;&nbsp;&nbsp;&nbsp;&nbsp;&nbsp;line&nbsp;width.</span></dd></dl>\n"
      ],
      "text/plain": [
       "<IPython.core.display.HTML object>"
      ]
     },
     "execution_count": 4,
     "metadata": {},
     "output_type": "execute_result"
    }
   ],
   "source": [
    "help(BaseDiagram.render_svg)"
   ]
  },
  {
   "cell_type": "markdown",
   "id": "d3484871",
   "metadata": {},
   "source": [
    "### Diagram.render_pdf"
   ]
  },
  {
   "cell_type": "code",
   "execution_count": 5,
   "id": "55558f8e",
   "metadata": {
    "execution": {
     "iopub.execute_input": "2024-08-05T01:29:28.965482Z",
     "iopub.status.busy": "2024-08-05T01:29:28.965356Z",
     "iopub.status.idle": "2024-08-05T01:29:28.968038Z",
     "shell.execute_reply": "2024-08-05T01:29:28.967672Z"
    },
    "tags": [
     "hide_inp"
    ]
   },
   "outputs": [
    {
     "data": {
      "text/html": [
       "<dl><dt><a name=\"-render_pdf\"><strong>render_pdf</strong></a>(self, *args, **kwargs) -&gt; 'None'</dt></dl>\n"
      ],
      "text/plain": [
       "<IPython.core.display.HTML object>"
      ]
     },
     "execution_count": 5,
     "metadata": {},
     "output_type": "execute_result"
    }
   ],
   "source": [
    "help(BaseDiagram.render_pdf)"
   ]
  },
  {
   "cell_type": "markdown",
   "id": "798e93a8",
   "metadata": {},
   "source": [
    "### ``Diagram``s in IPython notebooks"
   ]
  },
  {
   "cell_type": "markdown",
   "id": "4fae07ad",
   "metadata": {},
   "source": [
    "When a ``Diagram`` is used in an IPython notebook, it is automatically displayed as an SVG.\n",
    "To adjust the height of the generated image, one can use the `set_svg_height` function:"
   ]
  },
  {
   "cell_type": "code",
   "execution_count": 6,
   "id": "2b87d6a0",
   "metadata": {
    "execution": {
     "iopub.execute_input": "2024-08-05T01:29:28.969518Z",
     "iopub.status.busy": "2024-08-05T01:29:28.969345Z",
     "iopub.status.idle": "2024-08-05T01:29:28.971537Z",
     "shell.execute_reply": "2024-08-05T01:29:28.971276Z"
    },
    "tags": [
     "hide_inp"
    ]
   },
   "outputs": [
    {
     "data": {
      "text/html": [
       "<dl><dt><a name=\"-set_svg_height\"><strong>set_svg_height</strong></a>(height: 'int') -&gt; 'None'</dt><dd><span class=\"code\">Globally&nbsp;set&nbsp;the&nbsp;svg&nbsp;preview&nbsp;height&nbsp;for&nbsp;notebooks.</span></dd></dl>\n"
      ],
      "text/plain": [
       "<IPython.core.display.HTML object>"
      ]
     },
     "execution_count": 6,
     "metadata": {},
     "output_type": "execute_result"
    }
   ],
   "source": [
    "help(set_svg_height)"
   ]
  },
  {
   "cell_type": "markdown",
   "id": "7548f13f",
   "metadata": {},
   "source": [
    "This function is particularly useful for showing tall drawings:"
   ]
  },
  {
   "cell_type": "code",
   "execution_count": 7,
   "id": "b1414fca",
   "metadata": {
    "execution": {
     "iopub.execute_input": "2024-08-05T01:29:28.972858Z",
     "iopub.status.busy": "2024-08-05T01:29:28.972707Z",
     "iopub.status.idle": "2024-08-05T01:29:29.007429Z",
     "shell.execute_reply": "2024-08-05T01:29:29.007173Z"
    }
   },
   "outputs": [
    {
     "data": {
      "image/svg+xml": [
       "<?xml version=\"1.0\" encoding=\"utf-8\" ?>\n",
       "<svg baseProfile=\"full\" height=\"500\" version=\"1.1\" width=\"100\" xmlns=\"http://www.w3.org/2000/svg\" xmlns:ev=\"http://www.w3.org/2001/xml-events\" xmlns:xlink=\"http://www.w3.org/1999/xlink\"><defs /><g style=\"fill-opacity: 1.0;stroke: rgb(0.0 0.0 0.0);fill: rgb(256.0 256.0 256.0);stroke-width: 1.5;\"><path d=\"M 97.61904761904762 59.52380952380952 C 97.61904761904762 33.400772840244585 76.12303668356492 11.904761904761898 49.99999999999999 11.904761904761898 C 23.876963316435067 11.904761904761898 2.3809523809523796 33.400772840244585 2.3809523809523796 59.523809523809526 C 2.3809523809523796 85.64684620737444 23.876963316435067 107.14285714285714 50.00000000000001 107.14285714285714 C 76.12303668356492 107.14285714285714 97.61904761904762 85.64684620737445 97.61904761904762 59.52380952380952\" style=\"vector-effect: non-scaling-stroke;\" /></g><g style=\"fill-opacity: 1.0;stroke: rgb(0.0 0.0 0.0);fill: rgb(256.0 256.0 256.0);stroke-width: 1.5;\"><path d=\"M 97.61904761904762 154.76190476190476 C 97.61904761904762 128.63886807833984 76.12303668356492 107.14285714285714 49.99999999999999 107.14285714285714 C 23.876963316435067 107.14285714285714 2.3809523809523796 128.63886807833984 2.3809523809523796 154.76190476190476 C 2.3809523809523796 180.88494144546968 23.876963316435067 202.38095238095238 50.00000000000001 202.38095238095238 C 76.12303668356492 202.38095238095238 97.61904761904762 180.88494144546968 97.61904761904762 154.76190476190476\" style=\"vector-effect: non-scaling-stroke;\" /></g><g style=\"fill-opacity: 1.0;stroke: rgb(0.0 0.0 0.0);fill: rgb(256.0 256.0 256.0);stroke-width: 1.5;\"><path d=\"M 97.61904761904762 250.0 C 97.61904761904762 223.87696331643508 76.12303668356492 202.38095238095238 49.99999999999999 202.38095238095238 C 23.876963316435067 202.38095238095238 2.3809523809523796 223.87696331643508 2.3809523809523796 250.0 C 2.3809523809523796 276.1230366835649 23.876963316435067 297.6190476190476 50.00000000000001 297.6190476190476 C 76.12303668356492 297.6190476190476 97.61904761904762 276.1230366835649 97.61904761904762 250.0\" style=\"vector-effect: non-scaling-stroke;\" /></g><g style=\"fill-opacity: 1.0;stroke: rgb(0.0 0.0 0.0);fill: rgb(256.0 256.0 256.0);stroke-width: 1.5;\"><path d=\"M 97.61904761904762 345.23809523809524 C 97.61904761904762 319.1150585545303 76.12303668356492 297.6190476190476 49.99999999999999 297.6190476190476 C 23.876963316435067 297.6190476190476 2.3809523809523796 319.1150585545303 2.3809523809523796 345.23809523809524 C 2.3809523809523796 371.36113192166016 23.876963316435067 392.85714285714283 50.00000000000001 392.85714285714283 C 76.12303668356492 392.8571428571429 97.61904761904762 371.36113192166016 97.61904761904762 345.23809523809524\" style=\"vector-effect: non-scaling-stroke;\" /></g><g style=\"fill-opacity: 1.0;stroke: rgb(0.0 0.0 0.0);fill: rgb(256.0 256.0 256.0);stroke-width: 1.5;\"><path d=\"M 97.61904761904762 440.4761904761905 C 97.61904761904762 414.35315379262556 76.12303668356492 392.8571428571429 49.99999999999999 392.8571428571429 C 23.876963316435067 392.8571428571429 2.3809523809523796 414.35315379262556 2.3809523809523796 440.4761904761905 C 2.3809523809523796 466.5992271597554 23.876963316435067 488.0952380952381 50.00000000000001 488.0952380952381 C 76.12303668356492 488.0952380952381 97.61904761904762 466.5992271597554 97.61904761904762 440.4761904761905\" style=\"vector-effect: non-scaling-stroke;\" /></g></svg>"
      ],
      "text/html": [
       "<?xml version=\"1.0\" encoding=\"utf-8\" ?>\n",
       "<svg baseProfile=\"full\" height=\"500\" version=\"1.1\" width=\"100\" xmlns=\"http://www.w3.org/2000/svg\" xmlns:ev=\"http://www.w3.org/2001/xml-events\" xmlns:xlink=\"http://www.w3.org/1999/xlink\"><defs /><g style=\"fill-opacity: 1.0;stroke: rgb(0.0 0.0 0.0);fill: rgb(256.0 256.0 256.0);stroke-width: 1.5;\"><path d=\"M 97.61904761904762 59.52380952380952 C 97.61904761904762 33.400772840244585 76.12303668356492 11.904761904761898 49.99999999999999 11.904761904761898 C 23.876963316435067 11.904761904761898 2.3809523809523796 33.400772840244585 2.3809523809523796 59.523809523809526 C 2.3809523809523796 85.64684620737444 23.876963316435067 107.14285714285714 50.00000000000001 107.14285714285714 C 76.12303668356492 107.14285714285714 97.61904761904762 85.64684620737445 97.61904761904762 59.52380952380952\" style=\"vector-effect: non-scaling-stroke;\" /></g><g style=\"fill-opacity: 1.0;stroke: rgb(0.0 0.0 0.0);fill: rgb(256.0 256.0 256.0);stroke-width: 1.5;\"><path d=\"M 97.61904761904762 154.76190476190476 C 97.61904761904762 128.63886807833984 76.12303668356492 107.14285714285714 49.99999999999999 107.14285714285714 C 23.876963316435067 107.14285714285714 2.3809523809523796 128.63886807833984 2.3809523809523796 154.76190476190476 C 2.3809523809523796 180.88494144546968 23.876963316435067 202.38095238095238 50.00000000000001 202.38095238095238 C 76.12303668356492 202.38095238095238 97.61904761904762 180.88494144546968 97.61904761904762 154.76190476190476\" style=\"vector-effect: non-scaling-stroke;\" /></g><g style=\"fill-opacity: 1.0;stroke: rgb(0.0 0.0 0.0);fill: rgb(256.0 256.0 256.0);stroke-width: 1.5;\"><path d=\"M 97.61904761904762 250.0 C 97.61904761904762 223.87696331643508 76.12303668356492 202.38095238095238 49.99999999999999 202.38095238095238 C 23.876963316435067 202.38095238095238 2.3809523809523796 223.87696331643508 2.3809523809523796 250.0 C 2.3809523809523796 276.1230366835649 23.876963316435067 297.6190476190476 50.00000000000001 297.6190476190476 C 76.12303668356492 297.6190476190476 97.61904761904762 276.1230366835649 97.61904761904762 250.0\" style=\"vector-effect: non-scaling-stroke;\" /></g><g style=\"fill-opacity: 1.0;stroke: rgb(0.0 0.0 0.0);fill: rgb(256.0 256.0 256.0);stroke-width: 1.5;\"><path d=\"M 97.61904761904762 345.23809523809524 C 97.61904761904762 319.1150585545303 76.12303668356492 297.6190476190476 49.99999999999999 297.6190476190476 C 23.876963316435067 297.6190476190476 2.3809523809523796 319.1150585545303 2.3809523809523796 345.23809523809524 C 2.3809523809523796 371.36113192166016 23.876963316435067 392.85714285714283 50.00000000000001 392.85714285714283 C 76.12303668356492 392.8571428571429 97.61904761904762 371.36113192166016 97.61904761904762 345.23809523809524\" style=\"vector-effect: non-scaling-stroke;\" /></g><g style=\"fill-opacity: 1.0;stroke: rgb(0.0 0.0 0.0);fill: rgb(256.0 256.0 256.0);stroke-width: 1.5;\"><path d=\"M 97.61904761904762 440.4761904761905 C 97.61904761904762 414.35315379262556 76.12303668356492 392.8571428571429 49.99999999999999 392.8571428571429 C 23.876963316435067 392.8571428571429 2.3809523809523796 414.35315379262556 2.3809523809523796 440.4761904761905 C 2.3809523809523796 466.5992271597554 23.876963316435067 488.0952380952381 50.00000000000001 488.0952380952381 C 76.12303668356492 488.0952380952381 97.61904761904762 466.5992271597554 97.61904761904762 440.4761904761905\" style=\"vector-effect: non-scaling-stroke;\" /></g></svg>"
      ],
      "text/plain": [
       "Compose(envelope=None, diagrams=(Compose(envelope=None, diagrams=(Primitive(prim_shape=Path(loc_trails=(Located(trail=Trail(segments=Segment(transform=array([[[ 1.0000000e+00,  0.0000000e+00, -1.0000000e+00],\n",
       "        [ 0.0000000e+00,  1.0000000e+00,  0.0000000e+00],\n",
       "        [ 0.0000000e+00,  0.0000000e+00,  1.0000000e+00]],\n",
       "\n",
       "       [[ 6.1232340e-17,  1.0000000e+00, -6.1232340e-17],\n",
       "        [-1.0000000e+00,  6.1232340e-17,  1.0000000e+00],\n",
       "        [ 0.0000000e+00,  0.0000000e+00,  1.0000000e+00]],\n",
       "\n",
       "       [[-1.0000000e+00,  1.2246468e-16,  1.0000000e+00],\n",
       "        [-1.2246468e-16, -1.0000000e+00,  1.2246468e-16],\n",
       "        [ 0.0000000e+00,  0.0000000e+00,  1.0000000e+00]],\n",
       "\n",
       "       [[-1.8369702e-16, -1.0000000e+00,  1.8369702e-16],\n",
       "        [ 1.0000000e+00, -1.8369702e-16, -1.0000000e+00],\n",
       "        [ 0.0000000e+00,  0.0000000e+00,  1.0000000e+00]]]), angles=array([[  0., -90.],\n",
       "       [  0., -90.],\n",
       "       [  0., -90.],\n",
       "       [  0., -90.]])), closed=array(True)), location=array([[0.],\n",
       "       [0.],\n",
       "       [1.]])),), text=None), style=None, transform=array([[1., 0., 1.],\n",
       "       [0., 1., 0.],\n",
       "       [0., 0., 1.]]), order=None),)), ApplyTransform(transform=array([[1., 0., 0.],\n",
       "       [0., 1., 2.],\n",
       "       [0., 0., 1.]]), diagram=Compose(envelope=None, diagrams=(Compose(envelope=None, diagrams=(Compose(envelope=None, diagrams=(Compose(envelope=None, diagrams=(Primitive(prim_shape=Path(loc_trails=(Located(trail=Trail(segments=Segment(transform=array([[[ 1.0000000e+00,  0.0000000e+00, -1.0000000e+00],\n",
       "        [ 0.0000000e+00,  1.0000000e+00,  0.0000000e+00],\n",
       "        [ 0.0000000e+00,  0.0000000e+00,  1.0000000e+00]],\n",
       "\n",
       "       [[ 6.1232340e-17,  1.0000000e+00, -6.1232340e-17],\n",
       "        [-1.0000000e+00,  6.1232340e-17,  1.0000000e+00],\n",
       "        [ 0.0000000e+00,  0.0000000e+00,  1.0000000e+00]],\n",
       "\n",
       "       [[-1.0000000e+00,  1.2246468e-16,  1.0000000e+00],\n",
       "        [-1.2246468e-16, -1.0000000e+00,  1.2246468e-16],\n",
       "        [ 0.0000000e+00,  0.0000000e+00,  1.0000000e+00]],\n",
       "\n",
       "       [[-1.8369702e-16, -1.0000000e+00,  1.8369702e-16],\n",
       "        [ 1.0000000e+00, -1.8369702e-16, -1.0000000e+00],\n",
       "        [ 0.0000000e+00,  0.0000000e+00,  1.0000000e+00]]]), angles=array([[  0., -90.],\n",
       "       [  0., -90.],\n",
       "       [  0., -90.],\n",
       "       [  0., -90.]])), closed=array(True)), location=array([[0.],\n",
       "       [0.],\n",
       "       [1.]])),), text=None), style=None, transform=array([[1., 0., 1.],\n",
       "       [0., 1., 0.],\n",
       "       [0., 0., 1.]]), order=None),)), Primitive(prim_shape=Path(loc_trails=(Located(trail=Trail(segments=Segment(transform=array([[[ 1.0000000e+00,  0.0000000e+00, -1.0000000e+00],\n",
       "        [ 0.0000000e+00,  1.0000000e+00,  0.0000000e+00],\n",
       "        [ 0.0000000e+00,  0.0000000e+00,  1.0000000e+00]],\n",
       "\n",
       "       [[ 6.1232340e-17,  1.0000000e+00, -6.1232340e-17],\n",
       "        [-1.0000000e+00,  6.1232340e-17,  1.0000000e+00],\n",
       "        [ 0.0000000e+00,  0.0000000e+00,  1.0000000e+00]],\n",
       "\n",
       "       [[-1.0000000e+00,  1.2246468e-16,  1.0000000e+00],\n",
       "        [-1.2246468e-16, -1.0000000e+00,  1.2246468e-16],\n",
       "        [ 0.0000000e+00,  0.0000000e+00,  1.0000000e+00]],\n",
       "\n",
       "       [[-1.8369702e-16, -1.0000000e+00,  1.8369702e-16],\n",
       "        [ 1.0000000e+00, -1.8369702e-16, -1.0000000e+00],\n",
       "        [ 0.0000000e+00,  0.0000000e+00,  1.0000000e+00]]]), angles=array([[  0., -90.],\n",
       "       [  0., -90.],\n",
       "       [  0., -90.],\n",
       "       [  0., -90.]])), closed=array(True)), location=array([[0.],\n",
       "       [0.],\n",
       "       [1.]])),), text=None), style=None, transform=array([[1., 0., 1.],\n",
       "       [0., 1., 2.],\n",
       "       [0., 0., 1.]]), order=None))), Empty())), ApplyTransform(transform=array([[1., 0., 0.],\n",
       "       [0., 1., 4.],\n",
       "       [0., 0., 1.]]), diagram=Compose(envelope=None, diagrams=(Compose(envelope=None, diagrams=(Primitive(prim_shape=Path(loc_trails=(Located(trail=Trail(segments=Segment(transform=array([[[ 1.0000000e+00,  0.0000000e+00, -1.0000000e+00],\n",
       "        [ 0.0000000e+00,  1.0000000e+00,  0.0000000e+00],\n",
       "        [ 0.0000000e+00,  0.0000000e+00,  1.0000000e+00]],\n",
       "\n",
       "       [[ 6.1232340e-17,  1.0000000e+00, -6.1232340e-17],\n",
       "        [-1.0000000e+00,  6.1232340e-17,  1.0000000e+00],\n",
       "        [ 0.0000000e+00,  0.0000000e+00,  1.0000000e+00]],\n",
       "\n",
       "       [[-1.0000000e+00,  1.2246468e-16,  1.0000000e+00],\n",
       "        [-1.2246468e-16, -1.0000000e+00,  1.2246468e-16],\n",
       "        [ 0.0000000e+00,  0.0000000e+00,  1.0000000e+00]],\n",
       "\n",
       "       [[-1.8369702e-16, -1.0000000e+00,  1.8369702e-16],\n",
       "        [ 1.0000000e+00, -1.8369702e-16, -1.0000000e+00],\n",
       "        [ 0.0000000e+00,  0.0000000e+00,  1.0000000e+00]]]), angles=array([[  0., -90.],\n",
       "       [  0., -90.],\n",
       "       [  0., -90.],\n",
       "       [  0., -90.]])), closed=array(True)), location=array([[0.],\n",
       "       [0.],\n",
       "       [1.]])),), text=None), style=None, transform=array([[1., 0., 1.],\n",
       "       [0., 1., 0.],\n",
       "       [0., 0., 1.]]), order=None),)), Primitive(prim_shape=Path(loc_trails=(Located(trail=Trail(segments=Segment(transform=array([[[ 1.0000000e+00,  0.0000000e+00, -1.0000000e+00],\n",
       "        [ 0.0000000e+00,  1.0000000e+00,  0.0000000e+00],\n",
       "        [ 0.0000000e+00,  0.0000000e+00,  1.0000000e+00]],\n",
       "\n",
       "       [[ 6.1232340e-17,  1.0000000e+00, -6.1232340e-17],\n",
       "        [-1.0000000e+00,  6.1232340e-17,  1.0000000e+00],\n",
       "        [ 0.0000000e+00,  0.0000000e+00,  1.0000000e+00]],\n",
       "\n",
       "       [[-1.0000000e+00,  1.2246468e-16,  1.0000000e+00],\n",
       "        [-1.2246468e-16, -1.0000000e+00,  1.2246468e-16],\n",
       "        [ 0.0000000e+00,  0.0000000e+00,  1.0000000e+00]],\n",
       "\n",
       "       [[-1.8369702e-16, -1.0000000e+00,  1.8369702e-16],\n",
       "        [ 1.0000000e+00, -1.8369702e-16, -1.0000000e+00],\n",
       "        [ 0.0000000e+00,  0.0000000e+00,  1.0000000e+00]]]), angles=array([[  0., -90.],\n",
       "       [  0., -90.],\n",
       "       [  0., -90.],\n",
       "       [  0., -90.]])), closed=array(True)), location=array([[0.],\n",
       "       [0.],\n",
       "       [1.]])),), text=None), style=None, transform=array([[1., 0., 1.],\n",
       "       [0., 1., 2.],\n",
       "       [0., 0., 1.]]), order=None)))))))))"
      ]
     },
     "execution_count": 7,
     "metadata": {},
     "output_type": "execute_result"
    }
   ],
   "source": [
    "set_svg_height(500)\n",
    "vcat([circle(1) for _ in range(5)])"
   ]
  }
 ],
 "metadata": {
  "jupytext": {
   "cell_metadata_filter": "tags,-all"
  },
  "kernelspec": {
   "display_name": "chalk",
   "language": "python",
   "name": "chalk"
  },
  "language_info": {
   "codemirror_mode": {
    "name": "ipython",
    "version": 3
   },
   "file_extension": ".py",
   "mimetype": "text/x-python",
   "name": "python",
   "nbconvert_exporter": "python",
   "pygments_lexer": "ipython3",
   "version": "3.12.4"
  }
 },
 "nbformat": 4,
 "nbformat_minor": 5
}
