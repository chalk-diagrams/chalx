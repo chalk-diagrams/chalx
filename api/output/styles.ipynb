{
 "cells": [
  {
   "cell_type": "code",
   "execution_count": 1,
   "id": "33a2db80",
   "metadata": {
    "execution": {
     "iopub.execute_input": "2024-08-05T01:29:38.668139Z",
     "iopub.status.busy": "2024-08-05T01:29:38.667882Z",
     "iopub.status.idle": "2024-08-05T01:29:39.189138Z",
     "shell.execute_reply": "2024-08-05T01:29:39.188390Z"
    },
    "tags": [
     "hide_inp"
    ]
   },
   "outputs": [],
   "source": [
    "from chalk.core import BaseDiagram\n",
    "from chalk import *\n",
    "\n",
    "def help(f):\n",
    "    import pydoc\n",
    "    from IPython.display import HTML\n",
    "    return HTML(pydoc.HTMLDoc().docroutine(f))"
   ]
  },
  {
   "cell_type": "markdown",
   "id": "a14ba498",
   "metadata": {},
   "source": [
    "Diagrams can be styled using standard vector graphic style\n",
    "primitives. Colors use the Python [colour](https://github.com/vaab/colour) library."
   ]
  },
  {
   "cell_type": "code",
   "execution_count": 2,
   "id": "ba479e09",
   "metadata": {
    "execution": {
     "iopub.execute_input": "2024-08-05T01:29:39.191230Z",
     "iopub.status.busy": "2024-08-05T01:29:39.191089Z",
     "iopub.status.idle": "2024-08-05T01:29:39.193895Z",
     "shell.execute_reply": "2024-08-05T01:29:39.193477Z"
    }
   },
   "outputs": [],
   "source": [
    "from colour import Color\n",
    "blue = Color(\"blue\")\n",
    "orange = Color(\"orange\")"
   ]
  },
  {
   "cell_type": "markdown",
   "id": "364a2e3f",
   "metadata": {},
   "source": [
    "### Diagram.fill_color"
   ]
  },
  {
   "cell_type": "code",
   "execution_count": 3,
   "id": "c7bfe1e0",
   "metadata": {
    "execution": {
     "iopub.execute_input": "2024-08-05T01:29:39.195728Z",
     "iopub.status.busy": "2024-08-05T01:29:39.195598Z",
     "iopub.status.idle": "2024-08-05T01:29:39.212302Z",
     "shell.execute_reply": "2024-08-05T01:29:39.212017Z"
    },
    "tags": [
     "hide_inp"
    ]
   },
   "outputs": [
    {
     "data": {
      "text/html": [
       "<dl><dt><a name=\"-fill_color\"><strong>fill_color</strong></a>(self, color: 'ColorLike') -&gt; 'Self'</dt></dl>\n"
      ],
      "text/plain": [
       "<IPython.core.display.HTML object>"
      ]
     },
     "execution_count": 3,
     "metadata": {},
     "output_type": "execute_result"
    }
   ],
   "source": [
    "help(BaseDiagram.fill_color)"
   ]
  },
  {
   "cell_type": "markdown",
   "id": "cf62520d",
   "metadata": {},
   "source": []
  },
  {
   "cell_type": "code",
   "execution_count": 4,
   "id": "3832b1a5",
   "metadata": {
    "execution": {
     "iopub.execute_input": "2024-08-05T01:29:39.214042Z",
     "iopub.status.busy": "2024-08-05T01:29:39.213792Z",
     "iopub.status.idle": "2024-08-05T01:29:39.231243Z",
     "shell.execute_reply": "2024-08-05T01:29:39.230993Z"
    }
   },
   "outputs": [
    {
     "data": {
      "image/svg+xml": [
       "<?xml version=\"1.0\" encoding=\"utf-8\" ?>\n",
       "<svg baseProfile=\"full\" height=\"200\" version=\"1.1\" width=\"231\" xmlns=\"http://www.w3.org/2000/svg\" xmlns:ev=\"http://www.w3.org/2001/xml-events\" xmlns:xlink=\"http://www.w3.org/1999/xlink\"><defs /><g style=\"fill-opacity: 1.0;stroke: rgb(0.0 0.0 0.0);fill: rgb(0.0 0.0 256.0);stroke-width: 0.6000000000000001;\"><path d=\"M 5.498573992277457 195.23809523805798 C 78.81260063178698 194.94483795847034 152.12750704401338 194.94483795847034 225.44153368352124 195.2380952380559 C 188.53055210979642 131.89291435430445 151.8730989036855 68.40034292523836 115.47005383789858 4.761904761902926 C 79.06700877211594 68.4003429252412 42.409555566002695 131.89291435430786 5.498573992280598 195.23809523805795\" style=\"vector-effect: non-scaling-stroke;\" /></g></svg>"
      ],
      "text/html": [
       "<?xml version=\"1.0\" encoding=\"utf-8\" ?>\n",
       "<svg baseProfile=\"full\" height=\"200\" version=\"1.1\" width=\"231\" xmlns=\"http://www.w3.org/2000/svg\" xmlns:ev=\"http://www.w3.org/2001/xml-events\" xmlns:xlink=\"http://www.w3.org/1999/xlink\"><defs /><g style=\"fill-opacity: 1.0;stroke: rgb(0.0 0.0 0.0);fill: rgb(0.0 0.0 256.0);stroke-width: 0.6000000000000001;\"><path d=\"M 5.498573992277457 195.23809523805798 C 78.81260063178698 194.94483795847034 152.12750704401338 194.94483795847034 225.44153368352124 195.2380952380559 C 188.53055210979642 131.89291435430445 151.8730989036855 68.40034292523836 115.47005383789858 4.761904761902926 C 79.06700877211594 68.4003429252412 42.409555566002695 131.89291435430786 5.498573992280598 195.23809523805795\" style=\"vector-effect: non-scaling-stroke;\" /></g></svg>"
      ],
      "text/plain": [
       "Primitive(prim_shape=Path(loc_trails=(Located(trail=Trail(segments=Segment(transform=array([[[ 7.65407311e-15,  1.25000500e+02,  5.00000000e-01],\n",
       "        [-1.25000500e+02,  7.65407311e-15,  1.24999500e+02],\n",
       "        [ 0.00000000e+00,  0.00000000e+00,  1.00000000e+00]],\n",
       "\n",
       "       [[-1.08253608e+02, -6.25002500e+01,  1.08002742e+02],\n",
       "        [ 6.25002500e+01, -1.08253608e+02, -6.29327627e+01],\n",
       "        [ 0.00000000e+00,  0.00000000e+00,  1.00000000e+00]],\n",
       "\n",
       "       [[ 1.08253608e+02, -6.25002500e+01, -1.08502742e+02],\n",
       "        [ 6.25002500e+01,  1.08253608e+02, -6.20667373e+01],\n",
       "        [ 0.00000000e+00,  0.00000000e+00,  1.00000000e+00]]]), angles=array([[-0.22918281,  0.45836562],\n",
       "       [-0.22918281,  0.45836562],\n",
       "       [-0.22918281,  0.45836562]])), closed=array(True)), location=array([[-0.5       ],\n",
       "       [ 0.28867513],\n",
       "       [ 1.        ]])),), text=None), style=StyleHolder(base=array([0., 0., 1., 0., 0., 0., 0., 0., 0., 0., 0., 0.]), mask=array([ True,  True,  True, False, False, False, False, False, False,\n",
       "       False, False, False])), transform=array([[1., 0., 0.],\n",
       "       [0., 1., 0.],\n",
       "       [0., 0., 1.]]), order=None)"
      ]
     },
     "execution_count": 4,
     "metadata": {},
     "output_type": "execute_result"
    }
   ],
   "source": [
    "triangle(1).fill_color(blue)"
   ]
  },
  {
   "cell_type": "markdown",
   "id": "dbd6f9bc",
   "metadata": {},
   "source": [
    "### Diagram.fill_opacity"
   ]
  },
  {
   "cell_type": "code",
   "execution_count": 5,
   "id": "96016070",
   "metadata": {
    "execution": {
     "iopub.execute_input": "2024-08-05T01:29:39.232714Z",
     "iopub.status.busy": "2024-08-05T01:29:39.232543Z",
     "iopub.status.idle": "2024-08-05T01:29:39.235231Z",
     "shell.execute_reply": "2024-08-05T01:29:39.234782Z"
    },
    "tags": [
     "hide_inp"
    ]
   },
   "outputs": [
    {
     "data": {
      "text/html": [
       "<dl><dt><a name=\"-fill_opacity\"><strong>fill_opacity</strong></a>(self, opacity: 'float') -&gt; 'Self'</dt></dl>\n"
      ],
      "text/plain": [
       "<IPython.core.display.HTML object>"
      ]
     },
     "execution_count": 5,
     "metadata": {},
     "output_type": "execute_result"
    }
   ],
   "source": [
    "help(BaseDiagram.fill_opacity)"
   ]
  },
  {
   "cell_type": "markdown",
   "id": "99f26ca4",
   "metadata": {},
   "source": []
  },
  {
   "cell_type": "code",
   "execution_count": 6,
   "id": "b89e205c",
   "metadata": {
    "execution": {
     "iopub.execute_input": "2024-08-05T01:29:39.236748Z",
     "iopub.status.busy": "2024-08-05T01:29:39.236552Z",
     "iopub.status.idle": "2024-08-05T01:29:39.253558Z",
     "shell.execute_reply": "2024-08-05T01:29:39.253268Z"
    },
    "lines_to_next_cell": 2
   },
   "outputs": [
    {
     "data": {
      "image/svg+xml": [
       "<?xml version=\"1.0\" encoding=\"utf-8\" ?>\n",
       "<svg baseProfile=\"full\" height=\"200\" version=\"1.1\" width=\"231\" xmlns=\"http://www.w3.org/2000/svg\" xmlns:ev=\"http://www.w3.org/2001/xml-events\" xmlns:xlink=\"http://www.w3.org/1999/xlink\"><defs /><g style=\"fill-opacity: 0.2;stroke: rgb(0.0 0.0 0.0);fill: rgb(0.0 0.0 256.0);stroke-width: 0.6000000000000001;\"><path d=\"M 5.498573992277457 195.23809523805798 C 78.81260063178698 194.94483795847034 152.12750704401338 194.94483795847034 225.44153368352124 195.2380952380559 C 188.53055210979642 131.89291435430445 151.8730989036855 68.40034292523836 115.47005383789858 4.761904761902926 C 79.06700877211594 68.4003429252412 42.409555566002695 131.89291435430786 5.498573992280598 195.23809523805795\" style=\"vector-effect: non-scaling-stroke;\" /></g></svg>"
      ],
      "text/html": [
       "<?xml version=\"1.0\" encoding=\"utf-8\" ?>\n",
       "<svg baseProfile=\"full\" height=\"200\" version=\"1.1\" width=\"231\" xmlns=\"http://www.w3.org/2000/svg\" xmlns:ev=\"http://www.w3.org/2001/xml-events\" xmlns:xlink=\"http://www.w3.org/1999/xlink\"><defs /><g style=\"fill-opacity: 0.2;stroke: rgb(0.0 0.0 0.0);fill: rgb(0.0 0.0 256.0);stroke-width: 0.6000000000000001;\"><path d=\"M 5.498573992277457 195.23809523805798 C 78.81260063178698 194.94483795847034 152.12750704401338 194.94483795847034 225.44153368352124 195.2380952380559 C 188.53055210979642 131.89291435430445 151.8730989036855 68.40034292523836 115.47005383789858 4.761904761902926 C 79.06700877211594 68.4003429252412 42.409555566002695 131.89291435430786 5.498573992280598 195.23809523805795\" style=\"vector-effect: non-scaling-stroke;\" /></g></svg>"
      ],
      "text/plain": [
       "Primitive(prim_shape=Path(loc_trails=(Located(trail=Trail(segments=Segment(transform=array([[[ 7.65407311e-15,  1.25000500e+02,  5.00000000e-01],\n",
       "        [-1.25000500e+02,  7.65407311e-15,  1.24999500e+02],\n",
       "        [ 0.00000000e+00,  0.00000000e+00,  1.00000000e+00]],\n",
       "\n",
       "       [[-1.08253608e+02, -6.25002500e+01,  1.08002742e+02],\n",
       "        [ 6.25002500e+01, -1.08253608e+02, -6.29327627e+01],\n",
       "        [ 0.00000000e+00,  0.00000000e+00,  1.00000000e+00]],\n",
       "\n",
       "       [[ 1.08253608e+02, -6.25002500e+01, -1.08502742e+02],\n",
       "        [ 6.25002500e+01,  1.08253608e+02, -6.20667373e+01],\n",
       "        [ 0.00000000e+00,  0.00000000e+00,  1.00000000e+00]]]), angles=array([[-0.22918281,  0.45836562],\n",
       "       [-0.22918281,  0.45836562],\n",
       "       [-0.22918281,  0.45836562]])), closed=array(True)), location=array([[-0.5       ],\n",
       "       [ 0.28867513],\n",
       "       [ 1.        ]])),), text=None), style=StyleHolder(base=array([0. , 0. , 1. , 0.2, 0. , 0. , 0. , 0. , 0. , 0. , 0. , 0. ]), mask=array([ True,  True,  True,  True, False, False, False, False, False,\n",
       "       False, False, False])), transform=array([[1., 0., 0.],\n",
       "       [0., 1., 0.],\n",
       "       [0., 0., 1.]]), order=None)"
      ]
     },
     "execution_count": 6,
     "metadata": {},
     "output_type": "execute_result"
    }
   ],
   "source": [
    "triangle(1).fill_color(blue).fill_opacity(0.2)"
   ]
  },
  {
   "cell_type": "markdown",
   "id": "9b58b3aa",
   "metadata": {},
   "source": [
    "### Diagram.line_color"
   ]
  },
  {
   "cell_type": "code",
   "execution_count": 7,
   "id": "c17c20e7",
   "metadata": {
    "execution": {
     "iopub.execute_input": "2024-08-05T01:29:39.255079Z",
     "iopub.status.busy": "2024-08-05T01:29:39.254828Z",
     "iopub.status.idle": "2024-08-05T01:29:39.257050Z",
     "shell.execute_reply": "2024-08-05T01:29:39.256808Z"
    },
    "tags": [
     "hide_inp"
    ]
   },
   "outputs": [
    {
     "data": {
      "text/html": [
       "<dl><dt><a name=\"-line_color\"><strong>line_color</strong></a>(self, color: 'ColorLike') -&gt; 'Self'</dt></dl>\n"
      ],
      "text/plain": [
       "<IPython.core.display.HTML object>"
      ]
     },
     "execution_count": 7,
     "metadata": {},
     "output_type": "execute_result"
    }
   ],
   "source": [
    "help(BaseDiagram.line_color)"
   ]
  },
  {
   "cell_type": "markdown",
   "id": "5198708c",
   "metadata": {},
   "source": []
  },
  {
   "cell_type": "code",
   "execution_count": 8,
   "id": "c3deb122",
   "metadata": {
    "execution": {
     "iopub.execute_input": "2024-08-05T01:29:39.258564Z",
     "iopub.status.busy": "2024-08-05T01:29:39.258380Z",
     "iopub.status.idle": "2024-08-05T01:29:39.276429Z",
     "shell.execute_reply": "2024-08-05T01:29:39.276153Z"
    }
   },
   "outputs": [
    {
     "data": {
      "image/svg+xml": [
       "<?xml version=\"1.0\" encoding=\"utf-8\" ?>\n",
       "<svg baseProfile=\"full\" height=\"200\" version=\"1.1\" width=\"231\" xmlns=\"http://www.w3.org/2000/svg\" xmlns:ev=\"http://www.w3.org/2001/xml-events\" xmlns:xlink=\"http://www.w3.org/1999/xlink\"><defs /><g style=\"fill-opacity: 1.0;stroke: rgb(0.0 0.0 256.0);fill: rgb(256.0 256.0 256.0);stroke-width: 0.6000000000000001;\"><path d=\"M 5.498573992277457 195.23809523805798 C 78.81260063178698 194.94483795847034 152.12750704401338 194.94483795847034 225.44153368352124 195.2380952380559 C 188.53055210979642 131.89291435430445 151.8730989036855 68.40034292523836 115.47005383789858 4.761904761902926 C 79.06700877211594 68.4003429252412 42.409555566002695 131.89291435430786 5.498573992280598 195.23809523805795\" style=\"vector-effect: non-scaling-stroke;\" /></g></svg>"
      ],
      "text/html": [
       "<?xml version=\"1.0\" encoding=\"utf-8\" ?>\n",
       "<svg baseProfile=\"full\" height=\"200\" version=\"1.1\" width=\"231\" xmlns=\"http://www.w3.org/2000/svg\" xmlns:ev=\"http://www.w3.org/2001/xml-events\" xmlns:xlink=\"http://www.w3.org/1999/xlink\"><defs /><g style=\"fill-opacity: 1.0;stroke: rgb(0.0 0.0 256.0);fill: rgb(256.0 256.0 256.0);stroke-width: 0.6000000000000001;\"><path d=\"M 5.498573992277457 195.23809523805798 C 78.81260063178698 194.94483795847034 152.12750704401338 194.94483795847034 225.44153368352124 195.2380952380559 C 188.53055210979642 131.89291435430445 151.8730989036855 68.40034292523836 115.47005383789858 4.761904761902926 C 79.06700877211594 68.4003429252412 42.409555566002695 131.89291435430786 5.498573992280598 195.23809523805795\" style=\"vector-effect: non-scaling-stroke;\" /></g></svg>"
      ],
      "text/plain": [
       "Primitive(prim_shape=Path(loc_trails=(Located(trail=Trail(segments=Segment(transform=array([[[ 7.65407311e-15,  1.25000500e+02,  5.00000000e-01],\n",
       "        [-1.25000500e+02,  7.65407311e-15,  1.24999500e+02],\n",
       "        [ 0.00000000e+00,  0.00000000e+00,  1.00000000e+00]],\n",
       "\n",
       "       [[-1.08253608e+02, -6.25002500e+01,  1.08002742e+02],\n",
       "        [ 6.25002500e+01, -1.08253608e+02, -6.29327627e+01],\n",
       "        [ 0.00000000e+00,  0.00000000e+00,  1.00000000e+00]],\n",
       "\n",
       "       [[ 1.08253608e+02, -6.25002500e+01, -1.08502742e+02],\n",
       "        [ 6.25002500e+01,  1.08253608e+02, -6.20667373e+01],\n",
       "        [ 0.00000000e+00,  0.00000000e+00,  1.00000000e+00]]]), angles=array([[-0.22918281,  0.45836562],\n",
       "       [-0.22918281,  0.45836562],\n",
       "       [-0.22918281,  0.45836562]])), closed=array(True)), location=array([[-0.5       ],\n",
       "       [ 0.28867513],\n",
       "       [ 1.        ]])),), text=None), style=StyleHolder(base=array([0., 0., 0., 0., 0., 0., 1., 0., 0., 0., 0., 0.]), mask=array([False, False, False, False,  True,  True,  True, False, False,\n",
       "       False, False, False])), transform=array([[1., 0., 0.],\n",
       "       [0., 1., 0.],\n",
       "       [0., 0., 1.]]), order=None)"
      ]
     },
     "execution_count": 8,
     "metadata": {},
     "output_type": "execute_result"
    }
   ],
   "source": [
    "triangle(1).line_color(blue)"
   ]
  },
  {
   "cell_type": "markdown",
   "id": "b2560b04",
   "metadata": {},
   "source": [
    "### Diagram.line_width"
   ]
  },
  {
   "cell_type": "code",
   "execution_count": 9,
   "id": "c3230f4e",
   "metadata": {
    "execution": {
     "iopub.execute_input": "2024-08-05T01:29:39.278019Z",
     "iopub.status.busy": "2024-08-05T01:29:39.277883Z",
     "iopub.status.idle": "2024-08-05T01:29:39.281110Z",
     "shell.execute_reply": "2024-08-05T01:29:39.280533Z"
    },
    "tags": [
     "hide_inp"
    ]
   },
   "outputs": [
    {
     "data": {
      "text/html": [
       "<dl><dt><a name=\"-line_width\"><strong>line_width</strong></a>(self, width: 'float') -&gt; 'Self'</dt></dl>\n"
      ],
      "text/plain": [
       "<IPython.core.display.HTML object>"
      ]
     },
     "execution_count": 9,
     "metadata": {},
     "output_type": "execute_result"
    }
   ],
   "source": [
    "help(BaseDiagram.line_width)"
   ]
  },
  {
   "cell_type": "markdown",
   "id": "aee699d0",
   "metadata": {},
   "source": []
  },
  {
   "cell_type": "code",
   "execution_count": 10,
   "id": "33ada33d",
   "metadata": {
    "execution": {
     "iopub.execute_input": "2024-08-05T01:29:39.283416Z",
     "iopub.status.busy": "2024-08-05T01:29:39.283145Z",
     "iopub.status.idle": "2024-08-05T01:29:39.304801Z",
     "shell.execute_reply": "2024-08-05T01:29:39.304541Z"
    },
    "lines_to_next_cell": 2
   },
   "outputs": [
    {
     "data": {
      "image/svg+xml": [
       "<?xml version=\"1.0\" encoding=\"utf-8\" ?>\n",
       "<svg baseProfile=\"full\" height=\"200\" version=\"1.1\" width=\"231\" xmlns=\"http://www.w3.org/2000/svg\" xmlns:ev=\"http://www.w3.org/2001/xml-events\" xmlns:xlink=\"http://www.w3.org/1999/xlink\"><defs /><g style=\"fill-opacity: 1.0;stroke: rgb(0.0 0.0 0.0);fill: rgb(256.0 256.0 256.0);stroke-width: 0.30000000000000004;\"><path d=\"M 5.498573992277457 195.23809523805798 C 78.81260063178698 194.94483795847034 152.12750704401338 194.94483795847034 225.44153368352124 195.2380952380559 C 188.53055210979642 131.89291435430445 151.8730989036855 68.40034292523836 115.47005383789858 4.761904761902926 C 79.06700877211594 68.4003429252412 42.409555566002695 131.89291435430786 5.498573992280598 195.23809523805795\" style=\"vector-effect: non-scaling-stroke;\" /></g></svg>"
      ],
      "text/html": [
       "<?xml version=\"1.0\" encoding=\"utf-8\" ?>\n",
       "<svg baseProfile=\"full\" height=\"200\" version=\"1.1\" width=\"231\" xmlns=\"http://www.w3.org/2000/svg\" xmlns:ev=\"http://www.w3.org/2001/xml-events\" xmlns:xlink=\"http://www.w3.org/1999/xlink\"><defs /><g style=\"fill-opacity: 1.0;stroke: rgb(0.0 0.0 0.0);fill: rgb(256.0 256.0 256.0);stroke-width: 0.30000000000000004;\"><path d=\"M 5.498573992277457 195.23809523805798 C 78.81260063178698 194.94483795847034 152.12750704401338 194.94483795847034 225.44153368352124 195.2380952380559 C 188.53055210979642 131.89291435430445 151.8730989036855 68.40034292523836 115.47005383789858 4.761904761902926 C 79.06700877211594 68.4003429252412 42.409555566002695 131.89291435430786 5.498573992280598 195.23809523805795\" style=\"vector-effect: non-scaling-stroke;\" /></g></svg>"
      ],
      "text/plain": [
       "Primitive(prim_shape=Path(loc_trails=(Located(trail=Trail(segments=Segment(transform=array([[[ 7.65407311e-15,  1.25000500e+02,  5.00000000e-01],\n",
       "        [-1.25000500e+02,  7.65407311e-15,  1.24999500e+02],\n",
       "        [ 0.00000000e+00,  0.00000000e+00,  1.00000000e+00]],\n",
       "\n",
       "       [[-1.08253608e+02, -6.25002500e+01,  1.08002742e+02],\n",
       "        [ 6.25002500e+01, -1.08253608e+02, -6.29327627e+01],\n",
       "        [ 0.00000000e+00,  0.00000000e+00,  1.00000000e+00]],\n",
       "\n",
       "       [[ 1.08253608e+02, -6.25002500e+01, -1.08502742e+02],\n",
       "        [ 6.25002500e+01,  1.08253608e+02, -6.20667373e+01],\n",
       "        [ 0.00000000e+00,  0.00000000e+00,  1.00000000e+00]]]), angles=array([[-0.22918281,  0.45836562],\n",
       "       [-0.22918281,  0.45836562],\n",
       "       [-0.22918281,  0.45836562]])), closed=array(True)), location=array([[-0.5       ],\n",
       "       [ 0.28867513],\n",
       "       [ 1.        ]])),), text=None), style=StyleHolder(base=array([0.  , 0.  , 0.  , 0.  , 0.  , 0.  , 0.  , 0.  , 0.05, 0.  , 0.  ,\n",
       "       0.  ]), mask=array([False, False, False, False, False, False, False, False,  True,\n",
       "       False, False, False])), transform=array([[1., 0., 0.],\n",
       "       [0., 1., 0.],\n",
       "       [0., 0., 1.]]), order=None)"
      ]
     },
     "execution_count": 10,
     "metadata": {},
     "output_type": "execute_result"
    }
   ],
   "source": [
    "triangle(1).line_width(0.05)"
   ]
  },
  {
   "cell_type": "markdown",
   "id": "86097076",
   "metadata": {},
   "source": [
    "### Diagram.dashing"
   ]
  },
  {
   "cell_type": "code",
   "execution_count": 11,
   "id": "e53d090a",
   "metadata": {
    "execution": {
     "iopub.execute_input": "2024-08-05T01:29:39.306194Z",
     "iopub.status.busy": "2024-08-05T01:29:39.306032Z",
     "iopub.status.idle": "2024-08-05T01:29:39.308190Z",
     "shell.execute_reply": "2024-08-05T01:29:39.307928Z"
    },
    "tags": [
     "hide_inp"
    ]
   },
   "outputs": [
    {
     "data": {
      "text/html": [
       "<dl><dt><a name=\"-dashing\"><strong>dashing</strong></a>(self, dashing_strokes: 'List[float]', offset: 'float') -&gt; 'Self'</dt><dd><span class=\"code\">TODO:&nbsp;implement&nbsp;this&nbsp;function.</span></dd></dl>\n"
      ],
      "text/plain": [
       "<IPython.core.display.HTML object>"
      ]
     },
     "execution_count": 11,
     "metadata": {},
     "output_type": "execute_result"
    }
   ],
   "source": [
    "help(BaseDiagram.dashing)"
   ]
  },
  {
   "cell_type": "markdown",
   "id": "cbfbdb60",
   "metadata": {},
   "source": []
  },
  {
   "cell_type": "code",
   "execution_count": 12,
   "id": "5b6ba0ea",
   "metadata": {
    "execution": {
     "iopub.execute_input": "2024-08-05T01:29:39.309653Z",
     "iopub.status.busy": "2024-08-05T01:29:39.309458Z",
     "iopub.status.idle": "2024-08-05T01:29:39.329778Z",
     "shell.execute_reply": "2024-08-05T01:29:39.329519Z"
    },
    "lines_to_next_cell": 2
   },
   "outputs": [
    {
     "data": {
      "image/svg+xml": [
       "<?xml version=\"1.0\" encoding=\"utf-8\" ?>\n",
       "<svg baseProfile=\"full\" height=\"200\" version=\"1.1\" width=\"231\" xmlns=\"http://www.w3.org/2000/svg\" xmlns:ev=\"http://www.w3.org/2001/xml-events\" xmlns:xlink=\"http://www.w3.org/1999/xlink\"><defs /><g style=\"fill-opacity: 1.0;stroke: rgb(0.0 0.0 0.0);fill: rgb(256.0 256.0 256.0);stroke-width: 0.6000000000000001;\"><path d=\"M 5.498573992277457 195.23809523805798 C 78.81260063178698 194.94483795847034 152.12750704401338 194.94483795847034 225.44153368352124 195.2380952380559 C 188.53055210979642 131.89291435430445 151.8730989036855 68.40034292523836 115.47005383789858 4.761904761902926 C 79.06700877211594 68.4003429252412 42.409555566002695 131.89291435430786 5.498573992280598 195.23809523805795\" style=\"vector-effect: non-scaling-stroke;\" /></g></svg>"
      ],
      "text/html": [
       "<?xml version=\"1.0\" encoding=\"utf-8\" ?>\n",
       "<svg baseProfile=\"full\" height=\"200\" version=\"1.1\" width=\"231\" xmlns=\"http://www.w3.org/2000/svg\" xmlns:ev=\"http://www.w3.org/2001/xml-events\" xmlns:xlink=\"http://www.w3.org/1999/xlink\"><defs /><g style=\"fill-opacity: 1.0;stroke: rgb(0.0 0.0 0.0);fill: rgb(256.0 256.0 256.0);stroke-width: 0.6000000000000001;\"><path d=\"M 5.498573992277457 195.23809523805798 C 78.81260063178698 194.94483795847034 152.12750704401338 194.94483795847034 225.44153368352124 195.2380952380559 C 188.53055210979642 131.89291435430445 151.8730989036855 68.40034292523836 115.47005383789858 4.761904761902926 C 79.06700877211594 68.4003429252412 42.409555566002695 131.89291435430786 5.498573992280598 195.23809523805795\" style=\"vector-effect: non-scaling-stroke;\" /></g></svg>"
      ],
      "text/plain": [
       "Primitive(prim_shape=Path(loc_trails=(Located(trail=Trail(segments=Segment(transform=array([[[ 7.65407311e-15,  1.25000500e+02,  5.00000000e-01],\n",
       "        [-1.25000500e+02,  7.65407311e-15,  1.24999500e+02],\n",
       "        [ 0.00000000e+00,  0.00000000e+00,  1.00000000e+00]],\n",
       "\n",
       "       [[-1.08253608e+02, -6.25002500e+01,  1.08002742e+02],\n",
       "        [ 6.25002500e+01, -1.08253608e+02, -6.29327627e+01],\n",
       "        [ 0.00000000e+00,  0.00000000e+00,  1.00000000e+00]],\n",
       "\n",
       "       [[ 1.08253608e+02, -6.25002500e+01, -1.08502742e+02],\n",
       "        [ 6.25002500e+01,  1.08253608e+02, -6.20667373e+01],\n",
       "        [ 0.00000000e+00,  0.00000000e+00,  1.00000000e+00]]]), angles=array([[-0.22918281,  0.45836562],\n",
       "       [-0.22918281,  0.45836562],\n",
       "       [-0.22918281,  0.45836562]])), closed=array(True)), location=array([[-0.5       ],\n",
       "       [ 0.28867513],\n",
       "       [ 1.        ]])),), text=None), style=StyleHolder(base=array([0., 0., 0., 0., 0., 0., 0., 0., 0., 0., 0., 0.]), mask=array([False, False, False, False, False, False, False, False, False,\n",
       "       False, False, False])), transform=array([[1., 0., 0.],\n",
       "       [0., 1., 0.],\n",
       "       [0., 0., 1.]]), order=None)"
      ]
     },
     "execution_count": 12,
     "metadata": {},
     "output_type": "execute_result"
    }
   ],
   "source": [
    "triangle(1).dashing([0.2, 0.1], 0) "
   ]
  },
  {
   "cell_type": "markdown",
   "id": "2c567f3e",
   "metadata": {
    "lines_to_next_cell": 2
   },
   "source": [
    "### Advanced Example"
   ]
  },
  {
   "cell_type": "markdown",
   "id": "c2c2f952",
   "metadata": {},
   "source": [
    "Example: Outer styles override inner styles"
   ]
  },
  {
   "cell_type": "code",
   "execution_count": 13,
   "id": "373e559d",
   "metadata": {
    "execution": {
     "iopub.execute_input": "2024-08-05T01:29:39.331214Z",
     "iopub.status.busy": "2024-08-05T01:29:39.331103Z",
     "iopub.status.idle": "2024-08-05T01:29:39.349730Z",
     "shell.execute_reply": "2024-08-05T01:29:39.349481Z"
    }
   },
   "outputs": [
    {
     "data": {
      "image/svg+xml": [
       "<?xml version=\"1.0\" encoding=\"utf-8\" ?>\n",
       "<svg baseProfile=\"full\" height=\"200\" version=\"1.1\" width=\"300\" xmlns=\"http://www.w3.org/2000/svg\" xmlns:ev=\"http://www.w3.org/2001/xml-events\" xmlns:xlink=\"http://www.w3.org/1999/xlink\"><defs /><g style=\"fill-opacity: 1.0;stroke: rgb(0.0 0.0 0.0);fill: rgb(0.0 0.0 256.0);stroke-width: 0.6000000000000001;\"><path d=\"M 7.138104742890825 127.43799397349262 C 38.82064442530959 127.31126330784008 70.50356430010478 127.31126330784008 102.18610398252281 127.43799397349173 C 86.23508216541876 100.06347508493438 70.39362222802215 72.62526160729513 54.662104362706486 45.124012053086815 C 38.930586497392675 72.62526160729635 23.08912655999506 100.06347508493586 7.138104742892175 127.43799397349261\" style=\"vector-effect: non-scaling-stroke;\" /></g><g style=\"fill-opacity: 1.0;stroke: rgb(0.0 0.0 0.0);fill: rgb(0.0 0.0 256.0);stroke-width: 0.6000000000000001;\"><path d=\"M 102.37619998099149 4.95200076039238 C 165.741279345829 4.698539429086385 229.1071190954194 4.698539429086389 292.4721984602554 4.9520007603896845 C 292.72565979156275 68.3170801252272 292.72565979156275 131.68291987481757 292.4721984602594 195.04799923965368 C 229.10711909542061 195.3014605709609 165.74127934583024 195.3014605709609 102.37619998099417 195.0479992396576 C 102.1227386496882 131.68291987481882 102.1227386496882 68.31708012522843 102.37619998099149 4.952000760392359\" style=\"vector-effect: non-scaling-stroke;\" /></g></svg>"
      ],
      "text/html": [
       "<?xml version=\"1.0\" encoding=\"utf-8\" ?>\n",
       "<svg baseProfile=\"full\" height=\"200\" version=\"1.1\" width=\"300\" xmlns=\"http://www.w3.org/2000/svg\" xmlns:ev=\"http://www.w3.org/2001/xml-events\" xmlns:xlink=\"http://www.w3.org/1999/xlink\"><defs /><g style=\"fill-opacity: 1.0;stroke: rgb(0.0 0.0 0.0);fill: rgb(0.0 0.0 256.0);stroke-width: 0.6000000000000001;\"><path d=\"M 7.138104742890825 127.43799397349262 C 38.82064442530959 127.31126330784008 70.50356430010478 127.31126330784008 102.18610398252281 127.43799397349173 C 86.23508216541876 100.06347508493438 70.39362222802215 72.62526160729513 54.662104362706486 45.124012053086815 C 38.930586497392675 72.62526160729635 23.08912655999506 100.06347508493586 7.138104742892175 127.43799397349261\" style=\"vector-effect: non-scaling-stroke;\" /></g><g style=\"fill-opacity: 1.0;stroke: rgb(0.0 0.0 0.0);fill: rgb(0.0 0.0 256.0);stroke-width: 0.6000000000000001;\"><path d=\"M 102.37619998099149 4.95200076039238 C 165.741279345829 4.698539429086385 229.1071190954194 4.698539429086389 292.4721984602554 4.9520007603896845 C 292.72565979156275 68.3170801252272 292.72565979156275 131.68291987481757 292.4721984602594 195.04799923965368 C 229.10711909542061 195.3014605709609 165.74127934583024 195.3014605709609 102.37619998099417 195.0479992396576 C 102.1227386496882 131.68291987481882 102.1227386496882 68.31708012522843 102.37619998099149 4.952000760392359\" style=\"vector-effect: non-scaling-stroke;\" /></g></svg>"
      ],
      "text/plain": [
       "ApplyStyle(style=StyleHolder(base=array([0., 0., 1., 0., 0., 0., 0., 0., 0., 0., 0., 0.]), mask=array([ True,  True,  True, False, False, False, False, False, False,\n",
       "       False, False, False])), diagram=Compose(envelope=None, diagrams=(Primitive(prim_shape=Path(loc_trails=(Located(trail=Trail(segments=Segment(transform=array([[[ 7.65407311e-15,  1.25000500e+02,  5.00000000e-01],\n",
       "        [-1.25000500e+02,  7.65407311e-15,  1.24999500e+02],\n",
       "        [ 0.00000000e+00,  0.00000000e+00,  1.00000000e+00]],\n",
       "\n",
       "       [[-1.08253608e+02, -6.25002500e+01,  1.08002742e+02],\n",
       "        [ 6.25002500e+01, -1.08253608e+02, -6.29327627e+01],\n",
       "        [ 0.00000000e+00,  0.00000000e+00,  1.00000000e+00]],\n",
       "\n",
       "       [[ 1.08253608e+02, -6.25002500e+01, -1.08502742e+02],\n",
       "        [ 6.25002500e+01,  1.08253608e+02, -6.20667373e+01],\n",
       "        [ 0.00000000e+00,  0.00000000e+00,  1.00000000e+00]]]), angles=array([[-0.22918281,  0.45836562],\n",
       "       [-0.22918281,  0.45836562],\n",
       "       [-0.22918281,  0.45836562]])), closed=array(True)), location=array([[-0.5       ],\n",
       "       [ 0.28867513],\n",
       "       [ 1.        ]])),), text=None), style=StyleHolder(base=array([1.        , 0.64705882, 0.        , 0.        , 0.        ,\n",
       "       0.        , 0.        , 0.        , 0.        , 0.        ,\n",
       "       0.        , 0.        ]), mask=array([ True,  True,  True, False, False, False, False, False, False,\n",
       "       False, False, False])), transform=array([[1., 0., 0.],\n",
       "       [0., 1., 0.],\n",
       "       [0., 0., 1.]]), order=None), Primitive(prim_shape=Path(loc_trails=(Located(trail=Trail(segments=Segment(transform=array([[[ 7.65407311e-15,  1.25000500e+02,  5.00000000e-01],\n",
       "        [-1.25000500e+02,  7.65407311e-15,  1.24999500e+02],\n",
       "        [ 0.00000000e+00,  0.00000000e+00,  1.00000000e+00]],\n",
       "\n",
       "       [[ 1.25000500e+02,  0.00000000e+00, -1.24999500e+02],\n",
       "        [ 0.00000000e+00,  1.25000500e+02,  5.00000000e-01],\n",
       "        [ 0.00000000e+00,  0.00000000e+00,  1.00000000e+00]],\n",
       "\n",
       "       [[-2.29622193e-14, -1.25000500e+02, -5.00000000e-01],\n",
       "        [ 1.25000500e+02, -2.29622193e-14, -1.24999500e+02],\n",
       "        [ 0.00000000e+00,  0.00000000e+00,  1.00000000e+00]],\n",
       "\n",
       "       [[-1.25000500e+02,  1.53081462e-14,  1.24999500e+02],\n",
       "        [-1.53081462e-14, -1.25000500e+02, -5.00000000e-01],\n",
       "        [ 0.00000000e+00,  0.00000000e+00,  1.00000000e+00]]]), angles=array([[-0.22918281,  0.45836562],\n",
       "       [-0.22918281,  0.45836562],\n",
       "       [-0.22918281,  0.45836562],\n",
       "       [-0.22918281,  0.45836562]])), closed=array(True)), location=array([[0.],\n",
       "       [0.],\n",
       "       [1.]])),), text=None), style=None, transform=array([[ 2.   ,  0.   ,  0.502],\n",
       "       [ 0.   ,  2.   , -1.   ],\n",
       "       [ 0.   ,  0.   ,  1.   ]]), order=None))))"
      ]
     },
     "execution_count": 13,
     "metadata": {},
     "output_type": "execute_result"
    }
   ],
   "source": [
    "(triangle(1).fill_color(orange) | square(2)).fill_color(blue)"
   ]
  }
 ],
 "metadata": {
  "jupytext": {
   "cell_metadata_filter": "tags,-all"
  },
  "kernelspec": {
   "display_name": "chalk",
   "language": "python",
   "name": "chalk"
  },
  "language_info": {
   "codemirror_mode": {
    "name": "ipython",
    "version": 3
   },
   "file_extension": ".py",
   "mimetype": "text/x-python",
   "name": "python",
   "nbconvert_exporter": "python",
   "pygments_lexer": "ipython3",
   "version": "3.12.4"
  }
 },
 "nbformat": 4,
 "nbformat_minor": 5
}
