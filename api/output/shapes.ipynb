{
 "cells": [
  {
   "cell_type": "code",
   "execution_count": 1,
   "id": "95765a4e",
   "metadata": {
    "execution": {
     "iopub.execute_input": "2024-08-05T01:29:32.120705Z",
     "iopub.status.busy": "2024-08-05T01:29:32.120451Z",
     "iopub.status.idle": "2024-08-05T01:29:32.654481Z",
     "shell.execute_reply": "2024-08-05T01:29:32.654026Z"
    },
    "lines_to_end_of_cell_marker": 0,
    "lines_to_next_cell": 1,
    "tags": [
     "hide"
    ]
   },
   "outputs": [],
   "source": [
    "from chalk.core import BaseDiagram\n",
    "from chalk import *\n",
    "\n",
    "\n",
    "def help(f):\n",
    "    import pydoc\n",
    "    from IPython.display import HTML\n",
    "\n",
    "    return HTML(pydoc.HTMLDoc().docroutine(f))\n"
   ]
  },
  {
   "cell_type": "markdown",
   "id": "227b1f53",
   "metadata": {},
   "source": [
    "Elementary diagrams can be created using shapes: polygons, circle-like shapes, text and paths."
   ]
  },
  {
   "cell_type": "markdown",
   "id": "fafe4df1",
   "metadata": {},
   "source": [
    "## Polygons"
   ]
  },
  {
   "cell_type": "markdown",
   "id": "70e3e06b",
   "metadata": {},
   "source": [
    "### Triangle"
   ]
  },
  {
   "cell_type": "code",
   "execution_count": 2,
   "id": "eab2a165",
   "metadata": {
    "execution": {
     "iopub.execute_input": "2024-08-05T01:29:32.656458Z",
     "iopub.status.busy": "2024-08-05T01:29:32.656313Z",
     "iopub.status.idle": "2024-08-05T01:29:32.660849Z",
     "shell.execute_reply": "2024-08-05T01:29:32.660397Z"
    },
    "tags": [
     "hide_inp"
    ]
   },
   "outputs": [
    {
     "data": {
      "text/html": [
       "<dl><dt><a name=\"-triangle\"><strong>triangle</strong></a>(width: Union[jaxtyping.Float[ndarray, '*#B'], jaxtyping.Int[ndarray, '*#B'], int, numpy.int64, float, numpy.float64]) -&gt; chalk.types.Diagram</dt><dd><span class=\"code\">Draws&nbsp;an&nbsp;equilateral&nbsp;triangle&nbsp;with&nbsp;the&nbsp;side&nbsp;length&nbsp;specified&nbsp;by<br>\n",
       "the&nbsp;``width``&nbsp;argument.&nbsp;The&nbsp;origin&nbsp;is&nbsp;the&nbsp;traingle's&nbsp;centroid.</span></dd></dl>\n"
      ],
      "text/plain": [
       "<IPython.core.display.HTML object>"
      ]
     },
     "execution_count": 2,
     "metadata": {},
     "output_type": "execute_result"
    }
   ],
   "source": [
    "help(triangle)"
   ]
  },
  {
   "cell_type": "code",
   "execution_count": 3,
   "id": "4a2e26d9",
   "metadata": {
    "execution": {
     "iopub.execute_input": "2024-08-05T01:29:32.662437Z",
     "iopub.status.busy": "2024-08-05T01:29:32.662253Z",
     "iopub.status.idle": "2024-08-05T01:29:32.707833Z",
     "shell.execute_reply": "2024-08-05T01:29:32.707524Z"
    }
   },
   "outputs": [
    {
     "data": {
      "image/svg+xml": [
       "<?xml version=\"1.0\" encoding=\"utf-8\" ?>\n",
       "<svg baseProfile=\"full\" height=\"200\" version=\"1.1\" width=\"231\" xmlns=\"http://www.w3.org/2000/svg\" xmlns:ev=\"http://www.w3.org/2001/xml-events\" xmlns:xlink=\"http://www.w3.org/1999/xlink\"><defs /><g style=\"fill-opacity: 1.0;stroke: rgb(0.0 0.0 0.0);fill: rgb(256.0 256.0 256.0);stroke-width: 0.6000000000000001;\"><path d=\"M 5.498573992277457 195.23809523805798 C 78.81260063178698 194.94483795847034 152.12750704401338 194.94483795847034 225.44153368352124 195.2380952380559 C 188.53055210979642 131.89291435430445 151.8730989036855 68.40034292523836 115.47005383789858 4.761904761902926 C 79.06700877211594 68.4003429252412 42.409555566002695 131.89291435430786 5.498573992280598 195.23809523805795\" style=\"vector-effect: non-scaling-stroke;\" /></g></svg>"
      ],
      "text/html": [
       "<?xml version=\"1.0\" encoding=\"utf-8\" ?>\n",
       "<svg baseProfile=\"full\" height=\"200\" version=\"1.1\" width=\"231\" xmlns=\"http://www.w3.org/2000/svg\" xmlns:ev=\"http://www.w3.org/2001/xml-events\" xmlns:xlink=\"http://www.w3.org/1999/xlink\"><defs /><g style=\"fill-opacity: 1.0;stroke: rgb(0.0 0.0 0.0);fill: rgb(256.0 256.0 256.0);stroke-width: 0.6000000000000001;\"><path d=\"M 5.498573992277457 195.23809523805798 C 78.81260063178698 194.94483795847034 152.12750704401338 194.94483795847034 225.44153368352124 195.2380952380559 C 188.53055210979642 131.89291435430445 151.8730989036855 68.40034292523836 115.47005383789858 4.761904761902926 C 79.06700877211594 68.4003429252412 42.409555566002695 131.89291435430786 5.498573992280598 195.23809523805795\" style=\"vector-effect: non-scaling-stroke;\" /></g></svg>"
      ],
      "text/plain": [
       "Primitive(prim_shape=Path(loc_trails=(Located(trail=Trail(segments=Segment(transform=array([[[ 7.65407311e-15,  1.25000500e+02,  5.00000000e-01],\n",
       "        [-1.25000500e+02,  7.65407311e-15,  1.24999500e+02],\n",
       "        [ 0.00000000e+00,  0.00000000e+00,  1.00000000e+00]],\n",
       "\n",
       "       [[-1.08253608e+02, -6.25002500e+01,  1.08002742e+02],\n",
       "        [ 6.25002500e+01, -1.08253608e+02, -6.29327627e+01],\n",
       "        [ 0.00000000e+00,  0.00000000e+00,  1.00000000e+00]],\n",
       "\n",
       "       [[ 1.08253608e+02, -6.25002500e+01, -1.08502742e+02],\n",
       "        [ 6.25002500e+01,  1.08253608e+02, -6.20667373e+01],\n",
       "        [ 0.00000000e+00,  0.00000000e+00,  1.00000000e+00]]]), angles=array([[-0.22918281,  0.45836562],\n",
       "       [-0.22918281,  0.45836562],\n",
       "       [-0.22918281,  0.45836562]])), closed=array(True)), location=array([[-0.5       ],\n",
       "       [ 0.28867513],\n",
       "       [ 1.        ]])),), text=None), style=None, transform=array([[1., 0., 0.],\n",
       "       [0., 1., 0.],\n",
       "       [0., 0., 1.]]), order=None)"
      ]
     },
     "execution_count": 3,
     "metadata": {},
     "output_type": "execute_result"
    }
   ],
   "source": [
    "triangle(1)"
   ]
  },
  {
   "cell_type": "markdown",
   "id": "31e8c316",
   "metadata": {},
   "source": [
    "### Square and rectangle"
   ]
  },
  {
   "cell_type": "code",
   "execution_count": 4,
   "id": "9d682bd4",
   "metadata": {
    "execution": {
     "iopub.execute_input": "2024-08-05T01:29:32.709230Z",
     "iopub.status.busy": "2024-08-05T01:29:32.709088Z",
     "iopub.status.idle": "2024-08-05T01:29:32.711446Z",
     "shell.execute_reply": "2024-08-05T01:29:32.711227Z"
    },
    "tags": [
     "hide_inp"
    ]
   },
   "outputs": [
    {
     "data": {
      "text/html": [
       "<dl><dt><a name=\"-square\"><strong>square</strong></a>(side: float) -&gt; chalk.types.Diagram</dt><dd><span class=\"code\">Draws&nbsp;a&nbsp;square&nbsp;with&nbsp;the&nbsp;specified&nbsp;side&nbsp;length.&nbsp;The&nbsp;origin&nbsp;is&nbsp;the<br>\n",
       "center&nbsp;of&nbsp;the&nbsp;square.</span></dd></dl>\n"
      ],
      "text/plain": [
       "<IPython.core.display.HTML object>"
      ]
     },
     "execution_count": 4,
     "metadata": {},
     "output_type": "execute_result"
    }
   ],
   "source": [
    "help(square)"
   ]
  },
  {
   "cell_type": "code",
   "execution_count": 5,
   "id": "c66ce090",
   "metadata": {
    "execution": {
     "iopub.execute_input": "2024-08-05T01:29:32.712665Z",
     "iopub.status.busy": "2024-08-05T01:29:32.712537Z",
     "iopub.status.idle": "2024-08-05T01:29:32.729064Z",
     "shell.execute_reply": "2024-08-05T01:29:32.728814Z"
    }
   },
   "outputs": [
    {
     "data": {
      "image/svg+xml": [
       "<?xml version=\"1.0\" encoding=\"utf-8\" ?>\n",
       "<svg baseProfile=\"full\" height=\"200\" version=\"1.1\" width=\"200\" xmlns=\"http://www.w3.org/2000/svg\" xmlns:ev=\"http://www.w3.org/2001/xml-events\" xmlns:xlink=\"http://www.w3.org/1999/xlink\"><defs /><g style=\"fill-opacity: 1.0;stroke: rgb(0.0 0.0 0.0);fill: rgb(256.0 256.0 256.0);stroke-width: 0.6000000000000001;\"><path d=\"M 4.952000760392437 4.952000760396075 C 68.31708012523356 4.698539429090065 131.68291987482755 4.6985394290900695 195.0479992396672 4.952000760393379 C 195.30146057097448 68.3170801252345 195.30146057097448 131.68291987482849 195.04799923967119 195.04799923966817 C 131.68291987482877 195.3014605709754 68.31708012523478 195.3014605709754 4.9520007603951175 195.0479992396721 C 4.698539429089131 131.6829198748297 4.698539429089131 68.31708012523572 4.952000760392437 4.952000760396054\" style=\"vector-effect: non-scaling-stroke;\" /></g></svg>"
      ],
      "text/html": [
       "<?xml version=\"1.0\" encoding=\"utf-8\" ?>\n",
       "<svg baseProfile=\"full\" height=\"200\" version=\"1.1\" width=\"200\" xmlns=\"http://www.w3.org/2000/svg\" xmlns:ev=\"http://www.w3.org/2001/xml-events\" xmlns:xlink=\"http://www.w3.org/1999/xlink\"><defs /><g style=\"fill-opacity: 1.0;stroke: rgb(0.0 0.0 0.0);fill: rgb(256.0 256.0 256.0);stroke-width: 0.6000000000000001;\"><path d=\"M 4.952000760392437 4.952000760396075 C 68.31708012523356 4.698539429090065 131.68291987482755 4.6985394290900695 195.0479992396672 4.952000760393379 C 195.30146057097448 68.3170801252345 195.30146057097448 131.68291987482849 195.04799923967119 195.04799923966817 C 131.68291987482877 195.3014605709754 68.31708012523478 195.3014605709754 4.9520007603951175 195.0479992396721 C 4.698539429089131 131.6829198748297 4.698539429089131 68.31708012523572 4.952000760392437 4.952000760396054\" style=\"vector-effect: non-scaling-stroke;\" /></g></svg>"
      ],
      "text/plain": [
       "Primitive(prim_shape=Path(loc_trails=(Located(trail=Trail(segments=Segment(transform=array([[[ 7.65407311e-15,  1.25000500e+02,  5.00000000e-01],\n",
       "        [-1.25000500e+02,  7.65407311e-15,  1.24999500e+02],\n",
       "        [ 0.00000000e+00,  0.00000000e+00,  1.00000000e+00]],\n",
       "\n",
       "       [[ 1.25000500e+02,  0.00000000e+00, -1.24999500e+02],\n",
       "        [ 0.00000000e+00,  1.25000500e+02,  5.00000000e-01],\n",
       "        [ 0.00000000e+00,  0.00000000e+00,  1.00000000e+00]],\n",
       "\n",
       "       [[-2.29622193e-14, -1.25000500e+02, -5.00000000e-01],\n",
       "        [ 1.25000500e+02, -2.29622193e-14, -1.24999500e+02],\n",
       "        [ 0.00000000e+00,  0.00000000e+00,  1.00000000e+00]],\n",
       "\n",
       "       [[-1.25000500e+02,  1.53081462e-14,  1.24999500e+02],\n",
       "        [-1.53081462e-14, -1.25000500e+02, -5.00000000e-01],\n",
       "        [ 0.00000000e+00,  0.00000000e+00,  1.00000000e+00]]]), angles=array([[-0.22918281,  0.45836562],\n",
       "       [-0.22918281,  0.45836562],\n",
       "       [-0.22918281,  0.45836562],\n",
       "       [-0.22918281,  0.45836562]])), closed=array(True)), location=array([[0.],\n",
       "       [0.],\n",
       "       [1.]])),), text=None), style=None, transform=array([[ 1. ,  0. , -0.5],\n",
       "       [ 0. ,  1. , -0.5],\n",
       "       [ 0. ,  0. ,  1. ]]), order=None)"
      ]
     },
     "execution_count": 5,
     "metadata": {},
     "output_type": "execute_result"
    }
   ],
   "source": [
    "square(1)"
   ]
  },
  {
   "cell_type": "code",
   "execution_count": 6,
   "id": "3c83a2ac",
   "metadata": {
    "execution": {
     "iopub.execute_input": "2024-08-05T01:29:32.730462Z",
     "iopub.status.busy": "2024-08-05T01:29:32.730267Z",
     "iopub.status.idle": "2024-08-05T01:29:32.732547Z",
     "shell.execute_reply": "2024-08-05T01:29:32.732304Z"
    },
    "tags": [
     "hide_inp"
    ]
   },
   "outputs": [
    {
     "data": {
      "text/html": [
       "<dl><dt><a name=\"-rectangle\"><strong>rectangle</strong></a>(width: Union[jaxtyping.Float[ndarray, '*#B'], jaxtyping.Int[ndarray, '*#B'], int, numpy.int64, float, numpy.float64], height: Union[jaxtyping.Float[ndarray, '*#B'], jaxtyping.Int[ndarray, '*#B'], int, numpy.int64, float, numpy.float64], radius: Optional[float] = None) -&gt; chalk.types.Diagram</dt><dd><span class=\"code\">Draws&nbsp;a&nbsp;rectangle.<br>\n",
       "&nbsp;<br>\n",
       "Args:<br>\n",
       "&nbsp;&nbsp;&nbsp;&nbsp;width&nbsp;(float):&nbsp;Width<br>\n",
       "&nbsp;&nbsp;&nbsp;&nbsp;height&nbsp;(float):&nbsp;Height<br>\n",
       "&nbsp;&nbsp;&nbsp;&nbsp;radius&nbsp;(Optional[float]):&nbsp;Radius&nbsp;for&nbsp;rounded&nbsp;corners.<br>\n",
       "&nbsp;<br>\n",
       "Returns:<br>\n",
       "&nbsp;&nbsp;&nbsp;&nbsp;Diagrams</span></dd></dl>\n"
      ],
      "text/plain": [
       "<IPython.core.display.HTML object>"
      ]
     },
     "execution_count": 6,
     "metadata": {},
     "output_type": "execute_result"
    }
   ],
   "source": [
    "help(rectangle)"
   ]
  },
  {
   "cell_type": "code",
   "execution_count": 7,
   "id": "528addff",
   "metadata": {
    "execution": {
     "iopub.execute_input": "2024-08-05T01:29:32.733870Z",
     "iopub.status.busy": "2024-08-05T01:29:32.733720Z",
     "iopub.status.idle": "2024-08-05T01:29:32.983209Z",
     "shell.execute_reply": "2024-08-05T01:29:32.982945Z"
    }
   },
   "outputs": [
    {
     "name": "stderr",
     "output_type": "stream",
     "text": [
      "/home/srush/Projects/chalk/chalk/segment.py:134: RuntimeWarning: invalid value encountered in scalar divide\n",
      "  θ = tx.np.arccos((d**2 - 4.0 * h**2) / (d**2 + 4.0 * h**2))\n",
      "/home/srush/Projects/chalk/.venv12/lib/python3.12/site-packages/numpy/linalg/linalg.py:2180: RuntimeWarning: invalid value encountered in det\n",
      "  r = _umath_linalg.det(a, signature=signature)\n"
     ]
    },
    {
     "ename": "AssertionError",
     "evalue": "Object scaled to 0",
     "output_type": "error",
     "traceback": [
      "\u001b[0;31m---------------------------------------------------------------------------\u001b[0m",
      "\u001b[0;31mAssertionError\u001b[0m                            Traceback (most recent call last)",
      "File \u001b[0;32m~/Projects/chalk/.venv12/lib/python3.12/site-packages/IPython/core/formatters.py:347\u001b[0m, in \u001b[0;36mBaseFormatter.__call__\u001b[0;34m(self, obj)\u001b[0m\n\u001b[1;32m    345\u001b[0m     method \u001b[38;5;241m=\u001b[39m get_real_method(obj, \u001b[38;5;28mself\u001b[39m\u001b[38;5;241m.\u001b[39mprint_method)\n\u001b[1;32m    346\u001b[0m     \u001b[38;5;28;01mif\u001b[39;00m method \u001b[38;5;129;01mis\u001b[39;00m \u001b[38;5;129;01mnot\u001b[39;00m \u001b[38;5;28;01mNone\u001b[39;00m:\n\u001b[0;32m--> 347\u001b[0m         \u001b[38;5;28;01mreturn\u001b[39;00m \u001b[43mmethod\u001b[49m\u001b[43m(\u001b[49m\u001b[43m)\u001b[49m\n\u001b[1;32m    348\u001b[0m     \u001b[38;5;28;01mreturn\u001b[39;00m \u001b[38;5;28;01mNone\u001b[39;00m\n\u001b[1;32m    349\u001b[0m \u001b[38;5;28;01melse\u001b[39;00m:\n",
      "File \u001b[0;32m~/Projects/chalk/chalk/core.py:215\u001b[0m, in \u001b[0;36mBaseDiagram._repr_html_\u001b[0;34m(self)\u001b[0m\n\u001b[1;32m    213\u001b[0m \u001b[38;5;28;01mdef\u001b[39;00m \u001b[38;5;21m_repr_html_\u001b[39m(\u001b[38;5;28mself\u001b[39m) \u001b[38;5;241m-\u001b[39m\u001b[38;5;241m>\u001b[39m \u001b[38;5;28mstr\u001b[39m \u001b[38;5;241m|\u001b[39m \u001b[38;5;28mtuple\u001b[39m[\u001b[38;5;28mstr\u001b[39m, Any]:\n\u001b[1;32m    214\u001b[0m \u001b[38;5;250m    \u001b[39m\u001b[38;5;124;03m\"\"\"Returns a rich HTML representation of an object.\"\"\"\u001b[39;00m\n\u001b[0;32m--> 215\u001b[0m     \u001b[38;5;28;01mreturn\u001b[39;00m \u001b[38;5;28;43mself\u001b[39;49m\u001b[38;5;241;43m.\u001b[39;49m\u001b[43m_repr_svg_\u001b[49m\u001b[43m(\u001b[49m\u001b[43m)\u001b[49m\n",
      "File \u001b[0;32m~/Projects/chalk/chalk/core.py:207\u001b[0m, in \u001b[0;36mBaseDiagram._repr_svg_\u001b[0;34m(self)\u001b[0m\n\u001b[1;32m    205\u001b[0m \u001b[38;5;28;01mglobal\u001b[39;00m SVG_HEIGHT\n\u001b[1;32m    206\u001b[0m f \u001b[38;5;241m=\u001b[39m tempfile\u001b[38;5;241m.\u001b[39mNamedTemporaryFile(delete\u001b[38;5;241m=\u001b[39m\u001b[38;5;28;01mFalse\u001b[39;00m)\n\u001b[0;32m--> 207\u001b[0m \u001b[38;5;28;43mself\u001b[39;49m\u001b[38;5;241;43m.\u001b[39;49m\u001b[43mrender_svg\u001b[49m\u001b[43m(\u001b[49m\u001b[43mf\u001b[49m\u001b[38;5;241;43m.\u001b[39;49m\u001b[43mname\u001b[49m\u001b[43m,\u001b[49m\u001b[43m \u001b[49m\u001b[43mheight\u001b[49m\u001b[38;5;241;43m=\u001b[39;49m\u001b[43mSVG_HEIGHT\u001b[49m\u001b[43m,\u001b[49m\u001b[43m \u001b[49m\u001b[43mdraw_height\u001b[49m\u001b[38;5;241;43m=\u001b[39;49m\u001b[43mSVG_DRAW_HEIGHT\u001b[49m\u001b[43m)\u001b[49m\n\u001b[1;32m    208\u001b[0m f\u001b[38;5;241m.\u001b[39mclose()\n\u001b[1;32m    209\u001b[0m svg \u001b[38;5;241m=\u001b[39m \u001b[38;5;28mopen\u001b[39m(f\u001b[38;5;241m.\u001b[39mname)\u001b[38;5;241m.\u001b[39mread()\n",
      "File \u001b[0;32m~/Projects/chalk/chalk/backend/svg.py:99\u001b[0m, in \u001b[0;36mrender\u001b[0;34m(self, path, height, width, draw_height)\u001b[0m\n\u001b[1;32m     85\u001b[0m \u001b[38;5;250m\u001b[39m\u001b[38;5;124;03m\"\"\"Render the diagram to an SVG file.\u001b[39;00m\n\u001b[1;32m     86\u001b[0m \n\u001b[1;32m     87\u001b[0m \u001b[38;5;124;03mArgs:\u001b[39;00m\n\u001b[0;32m   (...)\u001b[0m\n\u001b[1;32m     96\u001b[0m \n\u001b[1;32m     97\u001b[0m \u001b[38;5;124;03m\"\"\"\u001b[39;00m\n\u001b[1;32m     98\u001b[0m \u001b[38;5;28;01massert\u001b[39;00m \u001b[38;5;28mself\u001b[39m\u001b[38;5;241m.\u001b[39msize() \u001b[38;5;241m==\u001b[39m (), \u001b[38;5;124m\"\u001b[39m\u001b[38;5;124mMust be a size () diagram\u001b[39m\u001b[38;5;124m\"\u001b[39m\n\u001b[0;32m---> 99\u001b[0m patches, h, w \u001b[38;5;241m=\u001b[39m \u001b[38;5;28;43mself\u001b[39;49m\u001b[38;5;241;43m.\u001b[39;49m\u001b[43mlayout\u001b[49m\u001b[43m(\u001b[49m\u001b[43mheight\u001b[49m\u001b[43m,\u001b[49m\u001b[43m \u001b[49m\u001b[43mwidth\u001b[49m\u001b[43m)\u001b[49m\n\u001b[1;32m    100\u001b[0m patches_to_file(patches, path, h, w, draw_height)\n",
      "File \u001b[0;32m~/Projects/chalk/chalk/layout.py:37\u001b[0m, in \u001b[0;36mlayout\u001b[0;34m(self, height, width)\u001b[0m\n\u001b[1;32m     35\u001b[0m \u001b[38;5;66;03m# infer width to preserve aspect ratio\u001b[39;00m\n\u001b[1;32m     36\u001b[0m \u001b[38;5;28;01mif\u001b[39;00m width \u001b[38;5;129;01mis\u001b[39;00m \u001b[38;5;28;01mNone\u001b[39;00m:\n\u001b[0;32m---> 37\u001b[0m     width \u001b[38;5;241m=\u001b[39m tx\u001b[38;5;241m.\u001b[39mnp\u001b[38;5;241m.\u001b[39mround(height \u001b[38;5;241m*\u001b[39m \u001b[43menvelope\u001b[49m\u001b[38;5;241;43m.\u001b[39;49m\u001b[43mwidth\u001b[49m \u001b[38;5;241m/\u001b[39m envelope\u001b[38;5;241m.\u001b[39mheight)\u001b[38;5;241m.\u001b[39mastype(\n\u001b[1;32m     38\u001b[0m         \u001b[38;5;28mint\u001b[39m\n\u001b[1;32m     39\u001b[0m     )\n\u001b[1;32m     40\u001b[0m \u001b[38;5;28;01melse\u001b[39;00m:\n\u001b[1;32m     41\u001b[0m     width \u001b[38;5;241m=\u001b[39m width\n",
      "File \u001b[0;32m~/Projects/chalk/chalk/envelope.py:109\u001b[0m, in \u001b[0;36mEnvelope.width\u001b[0;34m(self)\u001b[0m\n\u001b[1;32m    107\u001b[0m \u001b[38;5;129m@property\u001b[39m\n\u001b[1;32m    108\u001b[0m \u001b[38;5;28;01mdef\u001b[39;00m \u001b[38;5;21mwidth\u001b[39m(\u001b[38;5;28mself\u001b[39m) \u001b[38;5;241m-\u001b[39m\u001b[38;5;241m>\u001b[39m Scalars:\n\u001b[0;32m--> 109\u001b[0m     d1 \u001b[38;5;241m=\u001b[39m \u001b[38;5;28;43mself\u001b[39;49m\u001b[43m(\u001b[49m\u001b[43mEnvelope\u001b[49m\u001b[38;5;241;43m.\u001b[39;49m\u001b[43mall_dir\u001b[49m\u001b[43m[\u001b[49m\u001b[43m:\u001b[49m\u001b[38;5;241;43m2\u001b[39;49m\u001b[43m]\u001b[49m\u001b[43m)\u001b[49m\n\u001b[1;32m    110\u001b[0m     \u001b[38;5;28;01mreturn\u001b[39;00m tx\u001b[38;5;241m.\u001b[39mnp\u001b[38;5;241m.\u001b[39masarray(d1[\u001b[38;5;241m0\u001b[39m] \u001b[38;5;241m+\u001b[39m d1[\u001b[38;5;241m1\u001b[39m])\n",
      "File \u001b[0;32m~/Projects/chalk/chalk/envelope.py:88\u001b[0m, in \u001b[0;36mEnvelope.__call__\u001b[0;34m(self, direction)\u001b[0m\n\u001b[1;32m     85\u001b[0m     \u001b[38;5;28;01mreturn\u001b[39;00m env(\u001b[38;5;28mself\u001b[39m\u001b[38;5;241m.\u001b[39msegment\u001b[38;5;241m.\u001b[39mt, \u001b[38;5;28mself\u001b[39m\u001b[38;5;241m.\u001b[39msegment\u001b[38;5;241m.\u001b[39mangles)\n\u001b[1;32m     87\u001b[0m run \u001b[38;5;241m=\u001b[39m tx\u001b[38;5;241m.\u001b[39mmulti_vmap(run, \u001b[38;5;28mlen\u001b[39m(direction\u001b[38;5;241m.\u001b[39mshape) \u001b[38;5;241m-\u001b[39m \u001b[38;5;241m2\u001b[39m)  \u001b[38;5;66;03m# type: ignore\u001b[39;00m\n\u001b[0;32m---> 88\u001b[0m \u001b[38;5;28;01mreturn\u001b[39;00m \u001b[43mrun\u001b[49m\u001b[43m(\u001b[49m\u001b[43mdirection\u001b[49m\u001b[43m)\u001b[49m\n",
      "File \u001b[0;32m~/Projects/chalk/chalk/transform.py:617\u001b[0m, in \u001b[0;36mvmap.<locals>.vmap2\u001b[0;34m(x)\u001b[0m\n\u001b[1;32m    615\u001b[0m \u001b[38;5;28;01mfor\u001b[39;00m k \u001b[38;5;129;01min\u001b[39;00m \u001b[38;5;28mrange\u001b[39m(size[\u001b[38;5;241m0\u001b[39m]):\n\u001b[1;32m    616\u001b[0m     d \u001b[38;5;241m=\u001b[39m jax\u001b[38;5;241m.\u001b[39mtree_map(\u001b[38;5;28;01mlambda\u001b[39;00m x: x[k], x)\n\u001b[0;32m--> 617\u001b[0m     ds\u001b[38;5;241m.\u001b[39mappend(\u001b[43mfn\u001b[49m\u001b[43m(\u001b[49m\u001b[43md\u001b[49m\u001b[43m)\u001b[49m)\n\u001b[1;32m    618\u001b[0m final \u001b[38;5;241m=\u001b[39m jax\u001b[38;5;241m.\u001b[39mtree_map(\u001b[38;5;28;01mlambda\u001b[39;00m \u001b[38;5;241m*\u001b[39mx: np\u001b[38;5;241m.\u001b[39mstack(x, \u001b[38;5;241m0\u001b[39m), \u001b[38;5;241m*\u001b[39mds)\n\u001b[1;32m    620\u001b[0m \u001b[38;5;28;01mreturn\u001b[39;00m final\n",
      "File \u001b[0;32m~/Projects/chalk/chalk/envelope.py:85\u001b[0m, in \u001b[0;36mEnvelope.__call__.<locals>.run\u001b[0;34m(d)\u001b[0m\n\u001b[1;32m     80\u001b[0m     v \u001b[38;5;241m=\u001b[39m Envelope\u001b[38;5;241m.\u001b[39mgeneral_transform(\n\u001b[1;32m     81\u001b[0m         t, \u001b[38;5;28;01mlambda\u001b[39;00m x: arc_envelope(t, ang, x), d\n\u001b[1;32m     82\u001b[0m     )\u001b[38;5;241m.\u001b[39mmax()\n\u001b[1;32m     83\u001b[0m     \u001b[38;5;28;01mreturn\u001b[39;00m v\n\u001b[0;32m---> 85\u001b[0m \u001b[38;5;28;01mreturn\u001b[39;00m \u001b[43menv\u001b[49m\u001b[43m(\u001b[49m\u001b[38;5;28;43mself\u001b[39;49m\u001b[38;5;241;43m.\u001b[39;49m\u001b[43msegment\u001b[49m\u001b[38;5;241;43m.\u001b[39;49m\u001b[43mt\u001b[49m\u001b[43m,\u001b[49m\u001b[43m \u001b[49m\u001b[38;5;28;43mself\u001b[39;49m\u001b[38;5;241;43m.\u001b[39;49m\u001b[43msegment\u001b[49m\u001b[38;5;241;43m.\u001b[39;49m\u001b[43mangles\u001b[49m\u001b[43m)\u001b[49m\n",
      "File \u001b[0;32m~/Projects/chalk/.venv12/lib/python3.12/site-packages/numpy/lib/function_base.py:2372\u001b[0m, in \u001b[0;36mvectorize.__call__\u001b[0;34m(self, *args, **kwargs)\u001b[0m\n\u001b[1;32m   2369\u001b[0m     \u001b[38;5;28mself\u001b[39m\u001b[38;5;241m.\u001b[39m_init_stage_2(\u001b[38;5;241m*\u001b[39margs, \u001b[38;5;241m*\u001b[39m\u001b[38;5;241m*\u001b[39mkwargs)\n\u001b[1;32m   2370\u001b[0m     \u001b[38;5;28;01mreturn\u001b[39;00m \u001b[38;5;28mself\u001b[39m\n\u001b[0;32m-> 2372\u001b[0m \u001b[38;5;28;01mreturn\u001b[39;00m \u001b[38;5;28;43mself\u001b[39;49m\u001b[38;5;241;43m.\u001b[39;49m\u001b[43m_call_as_normal\u001b[49m\u001b[43m(\u001b[49m\u001b[38;5;241;43m*\u001b[39;49m\u001b[43margs\u001b[49m\u001b[43m,\u001b[49m\u001b[43m \u001b[49m\u001b[38;5;241;43m*\u001b[39;49m\u001b[38;5;241;43m*\u001b[39;49m\u001b[43mkwargs\u001b[49m\u001b[43m)\u001b[49m\n",
      "File \u001b[0;32m~/Projects/chalk/.venv12/lib/python3.12/site-packages/numpy/lib/function_base.py:2365\u001b[0m, in \u001b[0;36mvectorize._call_as_normal\u001b[0;34m(self, *args, **kwargs)\u001b[0m\n\u001b[1;32m   2362\u001b[0m     vargs \u001b[38;5;241m=\u001b[39m [args[_i] \u001b[38;5;28;01mfor\u001b[39;00m _i \u001b[38;5;129;01min\u001b[39;00m inds]\n\u001b[1;32m   2363\u001b[0m     vargs\u001b[38;5;241m.\u001b[39mextend([kwargs[_n] \u001b[38;5;28;01mfor\u001b[39;00m _n \u001b[38;5;129;01min\u001b[39;00m names])\n\u001b[0;32m-> 2365\u001b[0m \u001b[38;5;28;01mreturn\u001b[39;00m \u001b[38;5;28;43mself\u001b[39;49m\u001b[38;5;241;43m.\u001b[39;49m\u001b[43m_vectorize_call\u001b[49m\u001b[43m(\u001b[49m\u001b[43mfunc\u001b[49m\u001b[38;5;241;43m=\u001b[39;49m\u001b[43mfunc\u001b[49m\u001b[43m,\u001b[49m\u001b[43m \u001b[49m\u001b[43margs\u001b[49m\u001b[38;5;241;43m=\u001b[39;49m\u001b[43mvargs\u001b[49m\u001b[43m)\u001b[49m\n",
      "File \u001b[0;32m~/Projects/chalk/.venv12/lib/python3.12/site-packages/numpy/lib/function_base.py:2446\u001b[0m, in \u001b[0;36mvectorize._vectorize_call\u001b[0;34m(self, func, args)\u001b[0m\n\u001b[1;32m   2444\u001b[0m \u001b[38;5;250m\u001b[39m\u001b[38;5;124;03m\"\"\"Vectorized call to `func` over positional `args`.\"\"\"\u001b[39;00m\n\u001b[1;32m   2445\u001b[0m \u001b[38;5;28;01mif\u001b[39;00m \u001b[38;5;28mself\u001b[39m\u001b[38;5;241m.\u001b[39msignature \u001b[38;5;129;01mis\u001b[39;00m \u001b[38;5;129;01mnot\u001b[39;00m \u001b[38;5;28;01mNone\u001b[39;00m:\n\u001b[0;32m-> 2446\u001b[0m     res \u001b[38;5;241m=\u001b[39m \u001b[38;5;28;43mself\u001b[39;49m\u001b[38;5;241;43m.\u001b[39;49m\u001b[43m_vectorize_call_with_signature\u001b[49m\u001b[43m(\u001b[49m\u001b[43mfunc\u001b[49m\u001b[43m,\u001b[49m\u001b[43m \u001b[49m\u001b[43margs\u001b[49m\u001b[43m)\u001b[49m\n\u001b[1;32m   2447\u001b[0m \u001b[38;5;28;01melif\u001b[39;00m \u001b[38;5;129;01mnot\u001b[39;00m args:\n\u001b[1;32m   2448\u001b[0m     res \u001b[38;5;241m=\u001b[39m func()\n",
      "File \u001b[0;32m~/Projects/chalk/.venv12/lib/python3.12/site-packages/numpy/lib/function_base.py:2486\u001b[0m, in \u001b[0;36mvectorize._vectorize_call_with_signature\u001b[0;34m(self, func, args)\u001b[0m\n\u001b[1;32m   2483\u001b[0m nout \u001b[38;5;241m=\u001b[39m \u001b[38;5;28mlen\u001b[39m(output_core_dims)\n\u001b[1;32m   2485\u001b[0m \u001b[38;5;28;01mfor\u001b[39;00m index \u001b[38;5;129;01min\u001b[39;00m np\u001b[38;5;241m.\u001b[39mndindex(\u001b[38;5;241m*\u001b[39mbroadcast_shape):\n\u001b[0;32m-> 2486\u001b[0m     results \u001b[38;5;241m=\u001b[39m \u001b[43mfunc\u001b[49m\u001b[43m(\u001b[49m\u001b[38;5;241;43m*\u001b[39;49m\u001b[43m(\u001b[49m\u001b[43marg\u001b[49m\u001b[43m[\u001b[49m\u001b[43mindex\u001b[49m\u001b[43m]\u001b[49m\u001b[43m \u001b[49m\u001b[38;5;28;43;01mfor\u001b[39;49;00m\u001b[43m \u001b[49m\u001b[43marg\u001b[49m\u001b[43m \u001b[49m\u001b[38;5;129;43;01min\u001b[39;49;00m\u001b[43m \u001b[49m\u001b[43margs\u001b[49m\u001b[43m)\u001b[49m\u001b[43m)\u001b[49m\n\u001b[1;32m   2488\u001b[0m     n_results \u001b[38;5;241m=\u001b[39m \u001b[38;5;28mlen\u001b[39m(results) \u001b[38;5;28;01mif\u001b[39;00m \u001b[38;5;28misinstance\u001b[39m(results, \u001b[38;5;28mtuple\u001b[39m) \u001b[38;5;28;01melse\u001b[39;00m \u001b[38;5;241m1\u001b[39m\n\u001b[1;32m   2490\u001b[0m     \u001b[38;5;28;01mif\u001b[39;00m nout \u001b[38;5;241m!=\u001b[39m n_results:\n",
      "File \u001b[0;32m~/Projects/chalk/chalk/envelope.py:80\u001b[0m, in \u001b[0;36mEnvelope.__call__.<locals>.run.<locals>.env\u001b[0;34m(t, ang)\u001b[0m\n\u001b[1;32m     78\u001b[0m \u001b[38;5;129m@partial\u001b[39m(tx\u001b[38;5;241m.\u001b[39mnp\u001b[38;5;241m.\u001b[39mvectorize, signature\u001b[38;5;241m=\u001b[39m\u001b[38;5;124m\"\u001b[39m\u001b[38;5;124m(a,3,3),(a,2)->()\u001b[39m\u001b[38;5;124m\"\u001b[39m)\n\u001b[1;32m     79\u001b[0m \u001b[38;5;28;01mdef\u001b[39;00m \u001b[38;5;21menv\u001b[39m(t, ang):\n\u001b[0;32m---> 80\u001b[0m     v \u001b[38;5;241m=\u001b[39m \u001b[43mEnvelope\u001b[49m\u001b[38;5;241;43m.\u001b[39;49m\u001b[43mgeneral_transform\u001b[49m\u001b[43m(\u001b[49m\n\u001b[1;32m     81\u001b[0m \u001b[43m        \u001b[49m\u001b[43mt\u001b[49m\u001b[43m,\u001b[49m\u001b[43m \u001b[49m\u001b[38;5;28;43;01mlambda\u001b[39;49;00m\u001b[43m \u001b[49m\u001b[43mx\u001b[49m\u001b[43m:\u001b[49m\u001b[43m \u001b[49m\u001b[43marc_envelope\u001b[49m\u001b[43m(\u001b[49m\u001b[43mt\u001b[49m\u001b[43m,\u001b[49m\u001b[43m \u001b[49m\u001b[43mang\u001b[49m\u001b[43m,\u001b[49m\u001b[43m \u001b[49m\u001b[43mx\u001b[49m\u001b[43m)\u001b[49m\u001b[43m,\u001b[49m\u001b[43m \u001b[49m\u001b[43md\u001b[49m\n\u001b[1;32m     82\u001b[0m \u001b[43m    \u001b[49m\u001b[43m)\u001b[49m\u001b[38;5;241m.\u001b[39mmax()\n\u001b[1;32m     83\u001b[0m     \u001b[38;5;28;01mreturn\u001b[39;00m v\n",
      "File \u001b[0;32m~/Projects/chalk/chalk/envelope.py:153\u001b[0m, in \u001b[0;36mEnvelope.general_transform\u001b[0;34m(t, fn, d)\u001b[0m\n\u001b[1;32m    149\u001b[0m \u001b[38;5;129m@staticmethod\u001b[39m\n\u001b[1;32m    150\u001b[0m \u001b[38;5;28;01mdef\u001b[39;00m \u001b[38;5;21mgeneral_transform\u001b[39m(\n\u001b[1;32m    151\u001b[0m     t: Affine, fn: Callable[[V2_t], Scalars], d: V2_t\n\u001b[1;32m    152\u001b[0m ) \u001b[38;5;241m-\u001b[39m\u001b[38;5;241m>\u001b[39m tx\u001b[38;5;241m.\u001b[39mScalarsC:\n\u001b[0;32m--> 153\u001b[0m     pre \u001b[38;5;241m=\u001b[39m \u001b[43mpre_transform\u001b[49m\u001b[43m(\u001b[49m\u001b[43mt\u001b[49m\u001b[43m,\u001b[49m\u001b[43m \u001b[49m\u001b[43md\u001b[49m\u001b[43m)\u001b[49m\n\u001b[1;32m    154\u001b[0m     \u001b[38;5;28;01mreturn\u001b[39;00m post_transform(pre[\u001b[38;5;241m1\u001b[39m], pre[\u001b[38;5;241m2\u001b[39m], pre[\u001b[38;5;241m3\u001b[39m], fn(pre[\u001b[38;5;241m0\u001b[39m]))\n",
      "File \u001b[0;32m~/Projects/chalk/chalk/envelope.py:46\u001b[0m, in \u001b[0;36mpre_transform\u001b[0;34m(t, v)\u001b[0m\n\u001b[1;32m     42\u001b[0m \u001b[38;5;129m@tx\u001b[39m\u001b[38;5;241m.\u001b[39mjit\n\u001b[1;32m     43\u001b[0m \u001b[38;5;129m@partial\u001b[39m(tx\u001b[38;5;241m.\u001b[39mvectorize, signature\u001b[38;5;241m=\u001b[39m\u001b[38;5;124m\"\u001b[39m\u001b[38;5;124m(3,3),(3,1)->(3,1),(3,1),(3,1),()\u001b[39m\u001b[38;5;124m\"\u001b[39m)\n\u001b[1;32m     44\u001b[0m \u001b[38;5;28;01mdef\u001b[39;00m \u001b[38;5;21mpre_transform\u001b[39m(t: Affine, v: V2_t) \u001b[38;5;241m-\u001b[39m\u001b[38;5;241m>\u001b[39m Tuple[V2_t, V2_t, V2_t, Scalars]:\n\u001b[1;32m     45\u001b[0m     rt \u001b[38;5;241m=\u001b[39m tx\u001b[38;5;241m.\u001b[39mremove_translation(t)\n\u001b[0;32m---> 46\u001b[0m     inv_t \u001b[38;5;241m=\u001b[39m \u001b[43mtx\u001b[49m\u001b[38;5;241;43m.\u001b[39;49m\u001b[43minv\u001b[49m\u001b[43m(\u001b[49m\u001b[43mrt\u001b[49m\u001b[43m)\u001b[49m\n\u001b[1;32m     47\u001b[0m     trans_t \u001b[38;5;241m=\u001b[39m tx\u001b[38;5;241m.\u001b[39mtranspose_translation(rt)\n\u001b[1;32m     48\u001b[0m     u: V2_t \u001b[38;5;241m=\u001b[39m \u001b[38;5;241m-\u001b[39mtx\u001b[38;5;241m.\u001b[39mget_translation(t)\n",
      "File \u001b[0;32m~/Projects/chalk/chalk/transform.py:317\u001b[0m, in \u001b[0;36minv\u001b[0;34m(aff)\u001b[0m\n\u001b[1;32m    315\u001b[0m \u001b[38;5;124m\"\u001b[39m\u001b[38;5;124mFast invert an affine\u001b[39m\u001b[38;5;124m\"\u001b[39m\n\u001b[1;32m    316\u001b[0m det \u001b[38;5;241m=\u001b[39m np\u001b[38;5;241m.\u001b[39mlinalg\u001b[38;5;241m.\u001b[39mdet(aff)\n\u001b[0;32m--> 317\u001b[0m \u001b[38;5;28;01massert\u001b[39;00m np\u001b[38;5;241m.\u001b[39mall(np\u001b[38;5;241m.\u001b[39mabs(det) \u001b[38;5;241m>\u001b[39m \u001b[38;5;241m1e-10\u001b[39m), \u001b[38;5;124m\"\u001b[39m\u001b[38;5;124mObject scaled to 0\u001b[39m\u001b[38;5;124m\"\u001b[39m\n\u001b[1;32m    318\u001b[0m idet \u001b[38;5;241m=\u001b[39m \u001b[38;5;241m1.0\u001b[39m \u001b[38;5;241m/\u001b[39m det\n\u001b[1;32m    319\u001b[0m sa, sb, sc \u001b[38;5;241m=\u001b[39m aff[\u001b[38;5;241m.\u001b[39m\u001b[38;5;241m.\u001b[39m\u001b[38;5;241m.\u001b[39m, \u001b[38;5;241m0\u001b[39m, \u001b[38;5;241m0\u001b[39m], aff[\u001b[38;5;241m.\u001b[39m\u001b[38;5;241m.\u001b[39m\u001b[38;5;241m.\u001b[39m, \u001b[38;5;241m0\u001b[39m, \u001b[38;5;241m1\u001b[39m], aff[\u001b[38;5;241m.\u001b[39m\u001b[38;5;241m.\u001b[39m\u001b[38;5;241m.\u001b[39m, \u001b[38;5;241m0\u001b[39m, \u001b[38;5;241m2\u001b[39m]\n",
      "\u001b[0;31mAssertionError\u001b[0m: Object scaled to 0"
     ]
    },
    {
     "ename": "AssertionError",
     "evalue": "Object scaled to 0",
     "output_type": "error",
     "traceback": [
      "\u001b[0;31m---------------------------------------------------------------------------\u001b[0m",
      "\u001b[0;31mAssertionError\u001b[0m                            Traceback (most recent call last)",
      "File \u001b[0;32m~/Projects/chalk/.venv12/lib/python3.12/site-packages/IPython/core/formatters.py:347\u001b[0m, in \u001b[0;36mBaseFormatter.__call__\u001b[0;34m(self, obj)\u001b[0m\n\u001b[1;32m    345\u001b[0m     method \u001b[38;5;241m=\u001b[39m get_real_method(obj, \u001b[38;5;28mself\u001b[39m\u001b[38;5;241m.\u001b[39mprint_method)\n\u001b[1;32m    346\u001b[0m     \u001b[38;5;28;01mif\u001b[39;00m method \u001b[38;5;129;01mis\u001b[39;00m \u001b[38;5;129;01mnot\u001b[39;00m \u001b[38;5;28;01mNone\u001b[39;00m:\n\u001b[0;32m--> 347\u001b[0m         \u001b[38;5;28;01mreturn\u001b[39;00m \u001b[43mmethod\u001b[49m\u001b[43m(\u001b[49m\u001b[43m)\u001b[49m\n\u001b[1;32m    348\u001b[0m     \u001b[38;5;28;01mreturn\u001b[39;00m \u001b[38;5;28;01mNone\u001b[39;00m\n\u001b[1;32m    349\u001b[0m \u001b[38;5;28;01melse\u001b[39;00m:\n",
      "File \u001b[0;32m~/Projects/chalk/chalk/core.py:207\u001b[0m, in \u001b[0;36mBaseDiagram._repr_svg_\u001b[0;34m(self)\u001b[0m\n\u001b[1;32m    205\u001b[0m \u001b[38;5;28;01mglobal\u001b[39;00m SVG_HEIGHT\n\u001b[1;32m    206\u001b[0m f \u001b[38;5;241m=\u001b[39m tempfile\u001b[38;5;241m.\u001b[39mNamedTemporaryFile(delete\u001b[38;5;241m=\u001b[39m\u001b[38;5;28;01mFalse\u001b[39;00m)\n\u001b[0;32m--> 207\u001b[0m \u001b[38;5;28;43mself\u001b[39;49m\u001b[38;5;241;43m.\u001b[39;49m\u001b[43mrender_svg\u001b[49m\u001b[43m(\u001b[49m\u001b[43mf\u001b[49m\u001b[38;5;241;43m.\u001b[39;49m\u001b[43mname\u001b[49m\u001b[43m,\u001b[49m\u001b[43m \u001b[49m\u001b[43mheight\u001b[49m\u001b[38;5;241;43m=\u001b[39;49m\u001b[43mSVG_HEIGHT\u001b[49m\u001b[43m,\u001b[49m\u001b[43m \u001b[49m\u001b[43mdraw_height\u001b[49m\u001b[38;5;241;43m=\u001b[39;49m\u001b[43mSVG_DRAW_HEIGHT\u001b[49m\u001b[43m)\u001b[49m\n\u001b[1;32m    208\u001b[0m f\u001b[38;5;241m.\u001b[39mclose()\n\u001b[1;32m    209\u001b[0m svg \u001b[38;5;241m=\u001b[39m \u001b[38;5;28mopen\u001b[39m(f\u001b[38;5;241m.\u001b[39mname)\u001b[38;5;241m.\u001b[39mread()\n",
      "File \u001b[0;32m~/Projects/chalk/chalk/backend/svg.py:99\u001b[0m, in \u001b[0;36mrender\u001b[0;34m(self, path, height, width, draw_height)\u001b[0m\n\u001b[1;32m     85\u001b[0m \u001b[38;5;250m\u001b[39m\u001b[38;5;124;03m\"\"\"Render the diagram to an SVG file.\u001b[39;00m\n\u001b[1;32m     86\u001b[0m \n\u001b[1;32m     87\u001b[0m \u001b[38;5;124;03mArgs:\u001b[39;00m\n\u001b[0;32m   (...)\u001b[0m\n\u001b[1;32m     96\u001b[0m \n\u001b[1;32m     97\u001b[0m \u001b[38;5;124;03m\"\"\"\u001b[39;00m\n\u001b[1;32m     98\u001b[0m \u001b[38;5;28;01massert\u001b[39;00m \u001b[38;5;28mself\u001b[39m\u001b[38;5;241m.\u001b[39msize() \u001b[38;5;241m==\u001b[39m (), \u001b[38;5;124m\"\u001b[39m\u001b[38;5;124mMust be a size () diagram\u001b[39m\u001b[38;5;124m\"\u001b[39m\n\u001b[0;32m---> 99\u001b[0m patches, h, w \u001b[38;5;241m=\u001b[39m \u001b[38;5;28;43mself\u001b[39;49m\u001b[38;5;241;43m.\u001b[39;49m\u001b[43mlayout\u001b[49m\u001b[43m(\u001b[49m\u001b[43mheight\u001b[49m\u001b[43m,\u001b[49m\u001b[43m \u001b[49m\u001b[43mwidth\u001b[49m\u001b[43m)\u001b[49m\n\u001b[1;32m    100\u001b[0m patches_to_file(patches, path, h, w, draw_height)\n",
      "File \u001b[0;32m~/Projects/chalk/chalk/layout.py:37\u001b[0m, in \u001b[0;36mlayout\u001b[0;34m(self, height, width)\u001b[0m\n\u001b[1;32m     35\u001b[0m \u001b[38;5;66;03m# infer width to preserve aspect ratio\u001b[39;00m\n\u001b[1;32m     36\u001b[0m \u001b[38;5;28;01mif\u001b[39;00m width \u001b[38;5;129;01mis\u001b[39;00m \u001b[38;5;28;01mNone\u001b[39;00m:\n\u001b[0;32m---> 37\u001b[0m     width \u001b[38;5;241m=\u001b[39m tx\u001b[38;5;241m.\u001b[39mnp\u001b[38;5;241m.\u001b[39mround(height \u001b[38;5;241m*\u001b[39m \u001b[43menvelope\u001b[49m\u001b[38;5;241;43m.\u001b[39;49m\u001b[43mwidth\u001b[49m \u001b[38;5;241m/\u001b[39m envelope\u001b[38;5;241m.\u001b[39mheight)\u001b[38;5;241m.\u001b[39mastype(\n\u001b[1;32m     38\u001b[0m         \u001b[38;5;28mint\u001b[39m\n\u001b[1;32m     39\u001b[0m     )\n\u001b[1;32m     40\u001b[0m \u001b[38;5;28;01melse\u001b[39;00m:\n\u001b[1;32m     41\u001b[0m     width \u001b[38;5;241m=\u001b[39m width\n",
      "File \u001b[0;32m~/Projects/chalk/chalk/envelope.py:109\u001b[0m, in \u001b[0;36mEnvelope.width\u001b[0;34m(self)\u001b[0m\n\u001b[1;32m    107\u001b[0m \u001b[38;5;129m@property\u001b[39m\n\u001b[1;32m    108\u001b[0m \u001b[38;5;28;01mdef\u001b[39;00m \u001b[38;5;21mwidth\u001b[39m(\u001b[38;5;28mself\u001b[39m) \u001b[38;5;241m-\u001b[39m\u001b[38;5;241m>\u001b[39m Scalars:\n\u001b[0;32m--> 109\u001b[0m     d1 \u001b[38;5;241m=\u001b[39m \u001b[38;5;28;43mself\u001b[39;49m\u001b[43m(\u001b[49m\u001b[43mEnvelope\u001b[49m\u001b[38;5;241;43m.\u001b[39;49m\u001b[43mall_dir\u001b[49m\u001b[43m[\u001b[49m\u001b[43m:\u001b[49m\u001b[38;5;241;43m2\u001b[39;49m\u001b[43m]\u001b[49m\u001b[43m)\u001b[49m\n\u001b[1;32m    110\u001b[0m     \u001b[38;5;28;01mreturn\u001b[39;00m tx\u001b[38;5;241m.\u001b[39mnp\u001b[38;5;241m.\u001b[39masarray(d1[\u001b[38;5;241m0\u001b[39m] \u001b[38;5;241m+\u001b[39m d1[\u001b[38;5;241m1\u001b[39m])\n",
      "File \u001b[0;32m~/Projects/chalk/chalk/envelope.py:88\u001b[0m, in \u001b[0;36mEnvelope.__call__\u001b[0;34m(self, direction)\u001b[0m\n\u001b[1;32m     85\u001b[0m     \u001b[38;5;28;01mreturn\u001b[39;00m env(\u001b[38;5;28mself\u001b[39m\u001b[38;5;241m.\u001b[39msegment\u001b[38;5;241m.\u001b[39mt, \u001b[38;5;28mself\u001b[39m\u001b[38;5;241m.\u001b[39msegment\u001b[38;5;241m.\u001b[39mangles)\n\u001b[1;32m     87\u001b[0m run \u001b[38;5;241m=\u001b[39m tx\u001b[38;5;241m.\u001b[39mmulti_vmap(run, \u001b[38;5;28mlen\u001b[39m(direction\u001b[38;5;241m.\u001b[39mshape) \u001b[38;5;241m-\u001b[39m \u001b[38;5;241m2\u001b[39m)  \u001b[38;5;66;03m# type: ignore\u001b[39;00m\n\u001b[0;32m---> 88\u001b[0m \u001b[38;5;28;01mreturn\u001b[39;00m \u001b[43mrun\u001b[49m\u001b[43m(\u001b[49m\u001b[43mdirection\u001b[49m\u001b[43m)\u001b[49m\n",
      "File \u001b[0;32m~/Projects/chalk/chalk/transform.py:617\u001b[0m, in \u001b[0;36mvmap.<locals>.vmap2\u001b[0;34m(x)\u001b[0m\n\u001b[1;32m    615\u001b[0m \u001b[38;5;28;01mfor\u001b[39;00m k \u001b[38;5;129;01min\u001b[39;00m \u001b[38;5;28mrange\u001b[39m(size[\u001b[38;5;241m0\u001b[39m]):\n\u001b[1;32m    616\u001b[0m     d \u001b[38;5;241m=\u001b[39m jax\u001b[38;5;241m.\u001b[39mtree_map(\u001b[38;5;28;01mlambda\u001b[39;00m x: x[k], x)\n\u001b[0;32m--> 617\u001b[0m     ds\u001b[38;5;241m.\u001b[39mappend(\u001b[43mfn\u001b[49m\u001b[43m(\u001b[49m\u001b[43md\u001b[49m\u001b[43m)\u001b[49m)\n\u001b[1;32m    618\u001b[0m final \u001b[38;5;241m=\u001b[39m jax\u001b[38;5;241m.\u001b[39mtree_map(\u001b[38;5;28;01mlambda\u001b[39;00m \u001b[38;5;241m*\u001b[39mx: np\u001b[38;5;241m.\u001b[39mstack(x, \u001b[38;5;241m0\u001b[39m), \u001b[38;5;241m*\u001b[39mds)\n\u001b[1;32m    620\u001b[0m \u001b[38;5;28;01mreturn\u001b[39;00m final\n",
      "File \u001b[0;32m~/Projects/chalk/chalk/envelope.py:85\u001b[0m, in \u001b[0;36mEnvelope.__call__.<locals>.run\u001b[0;34m(d)\u001b[0m\n\u001b[1;32m     80\u001b[0m     v \u001b[38;5;241m=\u001b[39m Envelope\u001b[38;5;241m.\u001b[39mgeneral_transform(\n\u001b[1;32m     81\u001b[0m         t, \u001b[38;5;28;01mlambda\u001b[39;00m x: arc_envelope(t, ang, x), d\n\u001b[1;32m     82\u001b[0m     )\u001b[38;5;241m.\u001b[39mmax()\n\u001b[1;32m     83\u001b[0m     \u001b[38;5;28;01mreturn\u001b[39;00m v\n\u001b[0;32m---> 85\u001b[0m \u001b[38;5;28;01mreturn\u001b[39;00m \u001b[43menv\u001b[49m\u001b[43m(\u001b[49m\u001b[38;5;28;43mself\u001b[39;49m\u001b[38;5;241;43m.\u001b[39;49m\u001b[43msegment\u001b[49m\u001b[38;5;241;43m.\u001b[39;49m\u001b[43mt\u001b[49m\u001b[43m,\u001b[49m\u001b[43m \u001b[49m\u001b[38;5;28;43mself\u001b[39;49m\u001b[38;5;241;43m.\u001b[39;49m\u001b[43msegment\u001b[49m\u001b[38;5;241;43m.\u001b[39;49m\u001b[43mangles\u001b[49m\u001b[43m)\u001b[49m\n",
      "File \u001b[0;32m~/Projects/chalk/.venv12/lib/python3.12/site-packages/numpy/lib/function_base.py:2372\u001b[0m, in \u001b[0;36mvectorize.__call__\u001b[0;34m(self, *args, **kwargs)\u001b[0m\n\u001b[1;32m   2369\u001b[0m     \u001b[38;5;28mself\u001b[39m\u001b[38;5;241m.\u001b[39m_init_stage_2(\u001b[38;5;241m*\u001b[39margs, \u001b[38;5;241m*\u001b[39m\u001b[38;5;241m*\u001b[39mkwargs)\n\u001b[1;32m   2370\u001b[0m     \u001b[38;5;28;01mreturn\u001b[39;00m \u001b[38;5;28mself\u001b[39m\n\u001b[0;32m-> 2372\u001b[0m \u001b[38;5;28;01mreturn\u001b[39;00m \u001b[38;5;28;43mself\u001b[39;49m\u001b[38;5;241;43m.\u001b[39;49m\u001b[43m_call_as_normal\u001b[49m\u001b[43m(\u001b[49m\u001b[38;5;241;43m*\u001b[39;49m\u001b[43margs\u001b[49m\u001b[43m,\u001b[49m\u001b[43m \u001b[49m\u001b[38;5;241;43m*\u001b[39;49m\u001b[38;5;241;43m*\u001b[39;49m\u001b[43mkwargs\u001b[49m\u001b[43m)\u001b[49m\n",
      "File \u001b[0;32m~/Projects/chalk/.venv12/lib/python3.12/site-packages/numpy/lib/function_base.py:2365\u001b[0m, in \u001b[0;36mvectorize._call_as_normal\u001b[0;34m(self, *args, **kwargs)\u001b[0m\n\u001b[1;32m   2362\u001b[0m     vargs \u001b[38;5;241m=\u001b[39m [args[_i] \u001b[38;5;28;01mfor\u001b[39;00m _i \u001b[38;5;129;01min\u001b[39;00m inds]\n\u001b[1;32m   2363\u001b[0m     vargs\u001b[38;5;241m.\u001b[39mextend([kwargs[_n] \u001b[38;5;28;01mfor\u001b[39;00m _n \u001b[38;5;129;01min\u001b[39;00m names])\n\u001b[0;32m-> 2365\u001b[0m \u001b[38;5;28;01mreturn\u001b[39;00m \u001b[38;5;28;43mself\u001b[39;49m\u001b[38;5;241;43m.\u001b[39;49m\u001b[43m_vectorize_call\u001b[49m\u001b[43m(\u001b[49m\u001b[43mfunc\u001b[49m\u001b[38;5;241;43m=\u001b[39;49m\u001b[43mfunc\u001b[49m\u001b[43m,\u001b[49m\u001b[43m \u001b[49m\u001b[43margs\u001b[49m\u001b[38;5;241;43m=\u001b[39;49m\u001b[43mvargs\u001b[49m\u001b[43m)\u001b[49m\n",
      "File \u001b[0;32m~/Projects/chalk/.venv12/lib/python3.12/site-packages/numpy/lib/function_base.py:2446\u001b[0m, in \u001b[0;36mvectorize._vectorize_call\u001b[0;34m(self, func, args)\u001b[0m\n\u001b[1;32m   2444\u001b[0m \u001b[38;5;250m\u001b[39m\u001b[38;5;124;03m\"\"\"Vectorized call to `func` over positional `args`.\"\"\"\u001b[39;00m\n\u001b[1;32m   2445\u001b[0m \u001b[38;5;28;01mif\u001b[39;00m \u001b[38;5;28mself\u001b[39m\u001b[38;5;241m.\u001b[39msignature \u001b[38;5;129;01mis\u001b[39;00m \u001b[38;5;129;01mnot\u001b[39;00m \u001b[38;5;28;01mNone\u001b[39;00m:\n\u001b[0;32m-> 2446\u001b[0m     res \u001b[38;5;241m=\u001b[39m \u001b[38;5;28;43mself\u001b[39;49m\u001b[38;5;241;43m.\u001b[39;49m\u001b[43m_vectorize_call_with_signature\u001b[49m\u001b[43m(\u001b[49m\u001b[43mfunc\u001b[49m\u001b[43m,\u001b[49m\u001b[43m \u001b[49m\u001b[43margs\u001b[49m\u001b[43m)\u001b[49m\n\u001b[1;32m   2447\u001b[0m \u001b[38;5;28;01melif\u001b[39;00m \u001b[38;5;129;01mnot\u001b[39;00m args:\n\u001b[1;32m   2448\u001b[0m     res \u001b[38;5;241m=\u001b[39m func()\n",
      "File \u001b[0;32m~/Projects/chalk/.venv12/lib/python3.12/site-packages/numpy/lib/function_base.py:2486\u001b[0m, in \u001b[0;36mvectorize._vectorize_call_with_signature\u001b[0;34m(self, func, args)\u001b[0m\n\u001b[1;32m   2483\u001b[0m nout \u001b[38;5;241m=\u001b[39m \u001b[38;5;28mlen\u001b[39m(output_core_dims)\n\u001b[1;32m   2485\u001b[0m \u001b[38;5;28;01mfor\u001b[39;00m index \u001b[38;5;129;01min\u001b[39;00m np\u001b[38;5;241m.\u001b[39mndindex(\u001b[38;5;241m*\u001b[39mbroadcast_shape):\n\u001b[0;32m-> 2486\u001b[0m     results \u001b[38;5;241m=\u001b[39m \u001b[43mfunc\u001b[49m\u001b[43m(\u001b[49m\u001b[38;5;241;43m*\u001b[39;49m\u001b[43m(\u001b[49m\u001b[43marg\u001b[49m\u001b[43m[\u001b[49m\u001b[43mindex\u001b[49m\u001b[43m]\u001b[49m\u001b[43m \u001b[49m\u001b[38;5;28;43;01mfor\u001b[39;49;00m\u001b[43m \u001b[49m\u001b[43marg\u001b[49m\u001b[43m \u001b[49m\u001b[38;5;129;43;01min\u001b[39;49;00m\u001b[43m \u001b[49m\u001b[43margs\u001b[49m\u001b[43m)\u001b[49m\u001b[43m)\u001b[49m\n\u001b[1;32m   2488\u001b[0m     n_results \u001b[38;5;241m=\u001b[39m \u001b[38;5;28mlen\u001b[39m(results) \u001b[38;5;28;01mif\u001b[39;00m \u001b[38;5;28misinstance\u001b[39m(results, \u001b[38;5;28mtuple\u001b[39m) \u001b[38;5;28;01melse\u001b[39;00m \u001b[38;5;241m1\u001b[39m\n\u001b[1;32m   2490\u001b[0m     \u001b[38;5;28;01mif\u001b[39;00m nout \u001b[38;5;241m!=\u001b[39m n_results:\n",
      "File \u001b[0;32m~/Projects/chalk/chalk/envelope.py:80\u001b[0m, in \u001b[0;36mEnvelope.__call__.<locals>.run.<locals>.env\u001b[0;34m(t, ang)\u001b[0m\n\u001b[1;32m     78\u001b[0m \u001b[38;5;129m@partial\u001b[39m(tx\u001b[38;5;241m.\u001b[39mnp\u001b[38;5;241m.\u001b[39mvectorize, signature\u001b[38;5;241m=\u001b[39m\u001b[38;5;124m\"\u001b[39m\u001b[38;5;124m(a,3,3),(a,2)->()\u001b[39m\u001b[38;5;124m\"\u001b[39m)\n\u001b[1;32m     79\u001b[0m \u001b[38;5;28;01mdef\u001b[39;00m \u001b[38;5;21menv\u001b[39m(t, ang):\n\u001b[0;32m---> 80\u001b[0m     v \u001b[38;5;241m=\u001b[39m \u001b[43mEnvelope\u001b[49m\u001b[38;5;241;43m.\u001b[39;49m\u001b[43mgeneral_transform\u001b[49m\u001b[43m(\u001b[49m\n\u001b[1;32m     81\u001b[0m \u001b[43m        \u001b[49m\u001b[43mt\u001b[49m\u001b[43m,\u001b[49m\u001b[43m \u001b[49m\u001b[38;5;28;43;01mlambda\u001b[39;49;00m\u001b[43m \u001b[49m\u001b[43mx\u001b[49m\u001b[43m:\u001b[49m\u001b[43m \u001b[49m\u001b[43marc_envelope\u001b[49m\u001b[43m(\u001b[49m\u001b[43mt\u001b[49m\u001b[43m,\u001b[49m\u001b[43m \u001b[49m\u001b[43mang\u001b[49m\u001b[43m,\u001b[49m\u001b[43m \u001b[49m\u001b[43mx\u001b[49m\u001b[43m)\u001b[49m\u001b[43m,\u001b[49m\u001b[43m \u001b[49m\u001b[43md\u001b[49m\n\u001b[1;32m     82\u001b[0m \u001b[43m    \u001b[49m\u001b[43m)\u001b[49m\u001b[38;5;241m.\u001b[39mmax()\n\u001b[1;32m     83\u001b[0m     \u001b[38;5;28;01mreturn\u001b[39;00m v\n",
      "File \u001b[0;32m~/Projects/chalk/chalk/envelope.py:153\u001b[0m, in \u001b[0;36mEnvelope.general_transform\u001b[0;34m(t, fn, d)\u001b[0m\n\u001b[1;32m    149\u001b[0m \u001b[38;5;129m@staticmethod\u001b[39m\n\u001b[1;32m    150\u001b[0m \u001b[38;5;28;01mdef\u001b[39;00m \u001b[38;5;21mgeneral_transform\u001b[39m(\n\u001b[1;32m    151\u001b[0m     t: Affine, fn: Callable[[V2_t], Scalars], d: V2_t\n\u001b[1;32m    152\u001b[0m ) \u001b[38;5;241m-\u001b[39m\u001b[38;5;241m>\u001b[39m tx\u001b[38;5;241m.\u001b[39mScalarsC:\n\u001b[0;32m--> 153\u001b[0m     pre \u001b[38;5;241m=\u001b[39m \u001b[43mpre_transform\u001b[49m\u001b[43m(\u001b[49m\u001b[43mt\u001b[49m\u001b[43m,\u001b[49m\u001b[43m \u001b[49m\u001b[43md\u001b[49m\u001b[43m)\u001b[49m\n\u001b[1;32m    154\u001b[0m     \u001b[38;5;28;01mreturn\u001b[39;00m post_transform(pre[\u001b[38;5;241m1\u001b[39m], pre[\u001b[38;5;241m2\u001b[39m], pre[\u001b[38;5;241m3\u001b[39m], fn(pre[\u001b[38;5;241m0\u001b[39m]))\n",
      "File \u001b[0;32m~/Projects/chalk/chalk/envelope.py:46\u001b[0m, in \u001b[0;36mpre_transform\u001b[0;34m(t, v)\u001b[0m\n\u001b[1;32m     42\u001b[0m \u001b[38;5;129m@tx\u001b[39m\u001b[38;5;241m.\u001b[39mjit\n\u001b[1;32m     43\u001b[0m \u001b[38;5;129m@partial\u001b[39m(tx\u001b[38;5;241m.\u001b[39mvectorize, signature\u001b[38;5;241m=\u001b[39m\u001b[38;5;124m\"\u001b[39m\u001b[38;5;124m(3,3),(3,1)->(3,1),(3,1),(3,1),()\u001b[39m\u001b[38;5;124m\"\u001b[39m)\n\u001b[1;32m     44\u001b[0m \u001b[38;5;28;01mdef\u001b[39;00m \u001b[38;5;21mpre_transform\u001b[39m(t: Affine, v: V2_t) \u001b[38;5;241m-\u001b[39m\u001b[38;5;241m>\u001b[39m Tuple[V2_t, V2_t, V2_t, Scalars]:\n\u001b[1;32m     45\u001b[0m     rt \u001b[38;5;241m=\u001b[39m tx\u001b[38;5;241m.\u001b[39mremove_translation(t)\n\u001b[0;32m---> 46\u001b[0m     inv_t \u001b[38;5;241m=\u001b[39m \u001b[43mtx\u001b[49m\u001b[38;5;241;43m.\u001b[39;49m\u001b[43minv\u001b[49m\u001b[43m(\u001b[49m\u001b[43mrt\u001b[49m\u001b[43m)\u001b[49m\n\u001b[1;32m     47\u001b[0m     trans_t \u001b[38;5;241m=\u001b[39m tx\u001b[38;5;241m.\u001b[39mtranspose_translation(rt)\n\u001b[1;32m     48\u001b[0m     u: V2_t \u001b[38;5;241m=\u001b[39m \u001b[38;5;241m-\u001b[39mtx\u001b[38;5;241m.\u001b[39mget_translation(t)\n",
      "File \u001b[0;32m~/Projects/chalk/chalk/transform.py:317\u001b[0m, in \u001b[0;36minv\u001b[0;34m(aff)\u001b[0m\n\u001b[1;32m    315\u001b[0m \u001b[38;5;124m\"\u001b[39m\u001b[38;5;124mFast invert an affine\u001b[39m\u001b[38;5;124m\"\u001b[39m\n\u001b[1;32m    316\u001b[0m det \u001b[38;5;241m=\u001b[39m np\u001b[38;5;241m.\u001b[39mlinalg\u001b[38;5;241m.\u001b[39mdet(aff)\n\u001b[0;32m--> 317\u001b[0m \u001b[38;5;28;01massert\u001b[39;00m np\u001b[38;5;241m.\u001b[39mall(np\u001b[38;5;241m.\u001b[39mabs(det) \u001b[38;5;241m>\u001b[39m \u001b[38;5;241m1e-10\u001b[39m), \u001b[38;5;124m\"\u001b[39m\u001b[38;5;124mObject scaled to 0\u001b[39m\u001b[38;5;124m\"\u001b[39m\n\u001b[1;32m    318\u001b[0m idet \u001b[38;5;241m=\u001b[39m \u001b[38;5;241m1.0\u001b[39m \u001b[38;5;241m/\u001b[39m det\n\u001b[1;32m    319\u001b[0m sa, sb, sc \u001b[38;5;241m=\u001b[39m aff[\u001b[38;5;241m.\u001b[39m\u001b[38;5;241m.\u001b[39m\u001b[38;5;241m.\u001b[39m, \u001b[38;5;241m0\u001b[39m, \u001b[38;5;241m0\u001b[39m], aff[\u001b[38;5;241m.\u001b[39m\u001b[38;5;241m.\u001b[39m\u001b[38;5;241m.\u001b[39m, \u001b[38;5;241m0\u001b[39m, \u001b[38;5;241m1\u001b[39m], aff[\u001b[38;5;241m.\u001b[39m\u001b[38;5;241m.\u001b[39m\u001b[38;5;241m.\u001b[39m, \u001b[38;5;241m0\u001b[39m, \u001b[38;5;241m2\u001b[39m]\n",
      "\u001b[0;31mAssertionError\u001b[0m: Object scaled to 0"
     ]
    },
    {
     "data": {
      "text/plain": [
       "Primitive(prim_shape=Path(loc_trails=(Located(trail=Trail(segments=Segment(transform=array([[[ 1.25000500e+02,  0.00000000e+00, -1.24999500e+02],\n",
       "        [ 0.00000000e+00,  1.25000500e+02,  5.00000000e-01],\n",
       "        [ 0.00000000e+00,  0.00000000e+00,  1.00000000e+00]],\n",
       "\n",
       "       [[            nan,             nan,             nan],\n",
       "        [            nan,             nan,             nan],\n",
       "        [            nan,             nan,             nan]],\n",
       "\n",
       "       [[ 6.88864131e-14,  1.12500050e+03,  1.50000000e+00],\n",
       "        [-1.12500050e+03,  6.88864131e-14,  1.12499950e+03],\n",
       "        [ 0.00000000e+00,  0.00000000e+00,  1.00000000e+00]],\n",
       "\n",
       "       [[            nan,             nan,             nan],\n",
       "        [            nan,             nan,             nan],\n",
       "        [            nan,             nan,             nan]],\n",
       "\n",
       "       [[-1.25000500e+02,  1.53081462e-14,  1.24999500e+02],\n",
       "        [-1.53081462e-14, -1.25000500e+02, -5.00000000e-01],\n",
       "        [ 0.00000000e+00,  0.00000000e+00,  1.00000000e+00]],\n",
       "\n",
       "       [[            nan,             nan,             nan],\n",
       "        [            nan,             nan,             nan],\n",
       "        [            nan,             nan,             nan]],\n",
       "\n",
       "       [[-2.06659239e-13, -1.12500050e+03, -1.50000000e+00],\n",
       "        [ 1.12500050e+03, -2.06659239e-13, -1.12499950e+03],\n",
       "        [ 0.00000000e+00,  0.00000000e+00,  1.00000000e+00]],\n",
       "\n",
       "       [[            nan,             nan,             nan],\n",
       "        [            nan,             nan,             nan],\n",
       "        [            nan,             nan,             nan]],\n",
       "\n",
       "       [[ 1.30000000e-02,  0.00000000e+00, -1.20000000e-02],\n",
       "        [ 0.00000000e+00,  1.30000000e-02,  5.00000000e-03],\n",
       "        [ 0.00000000e+00,  0.00000000e+00,  1.00000000e+00]]]), angles=array([[ -0.22918281,   0.45836562],\n",
       "       [         nan,          nan],\n",
       "       [ -0.07639436,   0.15278872],\n",
       "       [         nan,          nan],\n",
       "       [ -0.22918281,   0.45836562],\n",
       "       [         nan,          nan],\n",
       "       [ -0.07639436,   0.15278872],\n",
       "       [         nan,          nan],\n",
       "       [-22.61986495,  45.2397299 ]])), closed=array(True)), location=array([[0.],\n",
       "       [0.],\n",
       "       [1.]])),), text=None), style=None, transform=array([[ 1. ,  0. , -1.5],\n",
       "       [ 0. ,  1. , -0.5],\n",
       "       [ 0. ,  0. ,  1. ]]), order=None)"
      ]
     },
     "execution_count": 7,
     "metadata": {},
     "output_type": "execute_result"
    }
   ],
   "source": [
    "rectangle(3, 1, 0.0)"
   ]
  },
  {
   "cell_type": "markdown",
   "id": "c5c4281a",
   "metadata": {},
   "source": [
    "### Regular polygon"
   ]
  },
  {
   "cell_type": "code",
   "execution_count": 8,
   "id": "78dbc06a",
   "metadata": {
    "execution": {
     "iopub.execute_input": "2024-08-05T01:29:32.984958Z",
     "iopub.status.busy": "2024-08-05T01:29:32.984850Z",
     "iopub.status.idle": "2024-08-05T01:29:32.987698Z",
     "shell.execute_reply": "2024-08-05T01:29:32.987459Z"
    },
    "tags": [
     "hide_inp"
    ]
   },
   "outputs": [
    {
     "data": {
      "text/html": [
       "<dl><dt><a name=\"-regular_polygon\"><strong>regular_polygon</strong></a>(sides: int, side_length: Union[jaxtyping.Float[ndarray, '*#B'], jaxtyping.Int[ndarray, '*#B'], int, numpy.int64, float, numpy.float64]) -&gt; chalk.types.Diagram</dt><dd><span class=\"code\">Draws&nbsp;a&nbsp;regular&nbsp;polygon&nbsp;with&nbsp;given&nbsp;number&nbsp;of&nbsp;sides&nbsp;and&nbsp;given&nbsp;side<br>\n",
       "length.&nbsp;The&nbsp;polygon&nbsp;is&nbsp;oriented&nbsp;with&nbsp;one&nbsp;edge&nbsp;parallel&nbsp;to&nbsp;the&nbsp;x-axis.</span></dd></dl>\n"
      ],
      "text/plain": [
       "<IPython.core.display.HTML object>"
      ]
     },
     "execution_count": 8,
     "metadata": {},
     "output_type": "execute_result"
    }
   ],
   "source": [
    "help(regular_polygon)"
   ]
  },
  {
   "cell_type": "code",
   "execution_count": 9,
   "id": "809db808",
   "metadata": {
    "execution": {
     "iopub.execute_input": "2024-08-05T01:29:32.988960Z",
     "iopub.status.busy": "2024-08-05T01:29:32.988836Z",
     "iopub.status.idle": "2024-08-05T01:29:33.028814Z",
     "shell.execute_reply": "2024-08-05T01:29:33.028538Z"
    }
   },
   "outputs": [
    {
     "data": {
      "image/svg+xml": [
       "<?xml version=\"1.0\" encoding=\"utf-8\" ?>\n",
       "<svg baseProfile=\"full\" height=\"200\" version=\"1.1\" width=\"627\" xmlns=\"http://www.w3.org/2000/svg\" xmlns:ev=\"http://www.w3.org/2001/xml-events\" xmlns:xlink=\"http://www.w3.org/1999/xlink\"><defs /><g style=\"fill-opacity: 1.0;stroke: rgb(0.0 0.0 0.0);fill: rgb(256.0 256.0 256.0);stroke-width: 0.6000000000000001;\"><path d=\"M 41.796147987619655 164.79956826990218 C 70.77933038956502 164.68363507656045 99.76286059143753 164.68363507656045 128.74604299338222 164.7995682699004 C 137.59207988767136 137.19909845660573 146.5484832770296 109.63412319287744 155.61503820928016 82.1053040334911 C 132.0990072737409 65.16320877675108 108.65083878344649 48.12711716471693 85.27109549050098 30.997438060726964 C 61.8913521975542 48.12711716471817 38.44318370726062 65.16320877675231 14.927152771720955 82.10530403349357 C 23.993707703972795 109.6341231928793 32.95011109333095 137.19909845660754 41.79614798762041 164.79956826990224\" style=\"vector-effect: non-scaling-stroke;\" /></g><g style=\"fill-opacity: 0.0;stroke: rgb(0.0 0.0 0.0);fill: rgb(256.0 256.0 256.0);stroke-width: 0.0;\"><path d=\"M 155.6585131567956 104.96100178402779 C 170.15010435776827 104.96100062469586 184.64186945870455 104.96100062469586 199.13346065967687 104.96100178402779 C 199.19142725634777 104.9612916158518 199.19142725634777 104.96158145115382 199.13346065967778 104.96187128297784 C 184.64186945870483 104.96187244230978 170.15010435776856 104.96187244230978 155.65851315679623 104.96187128297784 C 155.60054656012565 104.96158145115382 155.60054656012565 104.9612916158518 155.6585131567956 104.96100178402779\" style=\"vector-effect: non-scaling-stroke;\" /></g><g style=\"fill-opacity: 1.0;stroke: rgb(0.0 0.0 0.0);fill: rgb(256.0 256.0 256.0);stroke-width: 0.6000000000000001;\"><path d=\"M 242.6518831100751 180.2622544648832 C 271.63506551202045 180.14632127154198 300.61859571389294 180.14632127154198 329.60177811583765 180.2622544648819 C 343.99296822623376 155.1041156256086 358.4847333271691 130.00364217943374 373.07672561871703 104.96143653350158 C 358.4847333271683 79.91923088756957 343.99296822623205 54.81875744139444 329.60177811583486 29.660618602122284 C 300.6185957138898 29.77655179546366 271.6350655120173 29.77655179546366 242.65188311007262 29.660618602123733 C 228.260692999677 54.81875744139692 213.7689278987407 79.91923088757203 199.17693560719323 104.96143653350425 C 213.7689278987424 130.0036421794362 228.26069299967776 155.1041156256111 242.6518831100754 180.26225446488314\" style=\"vector-effect: non-scaling-stroke;\" /></g><g style=\"fill-opacity: 0.0;stroke: rgb(0.0 0.0 0.0);fill: rgb(256.0 256.0 256.0);stroke-width: 0.0;\"><path d=\"M 373.1202005662325 104.96100178402779 C 387.61179176720515 104.96100062469586 402.1035568681414 104.96100062469586 416.59514806911375 104.96100178402779 C 416.65311466578464 104.9612916158518 416.65311466578464 104.96158145115382 416.59514806911466 104.96187128297784 C 402.1035568681417 104.96187244230978 387.61179176720543 104.96187244230978 373.1202005662331 104.96187128297784 C 373.0622339695625 104.96158145115382 373.0622339695625 104.9612916158518 373.1202005662325 104.96100178402779\" style=\"vector-effect: non-scaling-stroke;\" /></g><g style=\"fill-opacity: 1.0;stroke: rgb(0.0 0.0 0.0);fill: rgb(256.0 256.0 256.0);stroke-width: 0.6000000000000001;\"><path d=\"M 470.85099582540886 195.23809523809507 C 499.8341782273542 195.12216204475408 528.8177084292267 195.12216204475408 557.8008908311714 195.238095238094 C 575.7809692637786 172.5058476103951 593.851904766511 149.8456112255071 612.013263639952 127.25792992529911 C 605.450872316709 99.02721398024394 599.0014301068372 70.77036139287354 592.6650917958668 42.48805032290185 C 566.5018452315618 30.017170968776384 540.3885868377653 17.441688511961573 514.3259433282899 4.76190476192329 C 488.26329981881446 17.441688511962653 462.15004142501783 30.017170968777776 435.98679486071427 42.48805032290374 C 429.6504565497446 70.77036139287702 423.20101433987344 99.02721398024725 416.6386230166301 127.25792992530158 C 434.7999818900713 149.8456112255089 452.8709173928034 172.5058476103958 470.8509958254105 195.23809523809436\" style=\"vector-effect: non-scaling-stroke;\" /></g></svg>"
      ],
      "text/html": [
       "<?xml version=\"1.0\" encoding=\"utf-8\" ?>\n",
       "<svg baseProfile=\"full\" height=\"200\" version=\"1.1\" width=\"627\" xmlns=\"http://www.w3.org/2000/svg\" xmlns:ev=\"http://www.w3.org/2001/xml-events\" xmlns:xlink=\"http://www.w3.org/1999/xlink\"><defs /><g style=\"fill-opacity: 1.0;stroke: rgb(0.0 0.0 0.0);fill: rgb(256.0 256.0 256.0);stroke-width: 0.6000000000000001;\"><path d=\"M 41.796147987619655 164.79956826990218 C 70.77933038956502 164.68363507656045 99.76286059143753 164.68363507656045 128.74604299338222 164.7995682699004 C 137.59207988767136 137.19909845660573 146.5484832770296 109.63412319287744 155.61503820928016 82.1053040334911 C 132.0990072737409 65.16320877675108 108.65083878344649 48.12711716471693 85.27109549050098 30.997438060726964 C 61.8913521975542 48.12711716471817 38.44318370726062 65.16320877675231 14.927152771720955 82.10530403349357 C 23.993707703972795 109.6341231928793 32.95011109333095 137.19909845660754 41.79614798762041 164.79956826990224\" style=\"vector-effect: non-scaling-stroke;\" /></g><g style=\"fill-opacity: 0.0;stroke: rgb(0.0 0.0 0.0);fill: rgb(256.0 256.0 256.0);stroke-width: 0.0;\"><path d=\"M 155.6585131567956 104.96100178402779 C 170.15010435776827 104.96100062469586 184.64186945870455 104.96100062469586 199.13346065967687 104.96100178402779 C 199.19142725634777 104.9612916158518 199.19142725634777 104.96158145115382 199.13346065967778 104.96187128297784 C 184.64186945870483 104.96187244230978 170.15010435776856 104.96187244230978 155.65851315679623 104.96187128297784 C 155.60054656012565 104.96158145115382 155.60054656012565 104.9612916158518 155.6585131567956 104.96100178402779\" style=\"vector-effect: non-scaling-stroke;\" /></g><g style=\"fill-opacity: 1.0;stroke: rgb(0.0 0.0 0.0);fill: rgb(256.0 256.0 256.0);stroke-width: 0.6000000000000001;\"><path d=\"M 242.6518831100751 180.2622544648832 C 271.63506551202045 180.14632127154198 300.61859571389294 180.14632127154198 329.60177811583765 180.2622544648819 C 343.99296822623376 155.1041156256086 358.4847333271691 130.00364217943374 373.07672561871703 104.96143653350158 C 358.4847333271683 79.91923088756957 343.99296822623205 54.81875744139444 329.60177811583486 29.660618602122284 C 300.6185957138898 29.77655179546366 271.6350655120173 29.77655179546366 242.65188311007262 29.660618602123733 C 228.260692999677 54.81875744139692 213.7689278987407 79.91923088757203 199.17693560719323 104.96143653350425 C 213.7689278987424 130.0036421794362 228.26069299967776 155.1041156256111 242.6518831100754 180.26225446488314\" style=\"vector-effect: non-scaling-stroke;\" /></g><g style=\"fill-opacity: 0.0;stroke: rgb(0.0 0.0 0.0);fill: rgb(256.0 256.0 256.0);stroke-width: 0.0;\"><path d=\"M 373.1202005662325 104.96100178402779 C 387.61179176720515 104.96100062469586 402.1035568681414 104.96100062469586 416.59514806911375 104.96100178402779 C 416.65311466578464 104.9612916158518 416.65311466578464 104.96158145115382 416.59514806911466 104.96187128297784 C 402.1035568681417 104.96187244230978 387.61179176720543 104.96187244230978 373.1202005662331 104.96187128297784 C 373.0622339695625 104.96158145115382 373.0622339695625 104.9612916158518 373.1202005662325 104.96100178402779\" style=\"vector-effect: non-scaling-stroke;\" /></g><g style=\"fill-opacity: 1.0;stroke: rgb(0.0 0.0 0.0);fill: rgb(256.0 256.0 256.0);stroke-width: 0.6000000000000001;\"><path d=\"M 470.85099582540886 195.23809523809507 C 499.8341782273542 195.12216204475408 528.8177084292267 195.12216204475408 557.8008908311714 195.238095238094 C 575.7809692637786 172.5058476103951 593.851904766511 149.8456112255071 612.013263639952 127.25792992529911 C 605.450872316709 99.02721398024394 599.0014301068372 70.77036139287354 592.6650917958668 42.48805032290185 C 566.5018452315618 30.017170968776384 540.3885868377653 17.441688511961573 514.3259433282899 4.76190476192329 C 488.26329981881446 17.441688511962653 462.15004142501783 30.017170968777776 435.98679486071427 42.48805032290374 C 429.6504565497446 70.77036139287702 423.20101433987344 99.02721398024725 416.6386230166301 127.25792992530158 C 434.7999818900713 149.8456112255089 452.8709173928034 172.5058476103958 470.8509958254105 195.23809523809436\" style=\"vector-effect: non-scaling-stroke;\" /></g></svg>"
      ],
      "text/plain": [
       "Compose(envelope=None, diagrams=(Compose(envelope=None, diagrams=(Primitive(prim_shape=Path(loc_trails=(Located(trail=Trail(segments=Segment(transform=array([[[ 7.65407311e-15,  1.25000500e+02,  5.00000000e-01],\n",
       "        [-1.25000500e+02,  7.65407311e-15,  1.24999500e+02],\n",
       "        [ 0.00000000e+00,  0.00000000e+00,  1.00000000e+00]],\n",
       "\n",
       "       [[-1.18882540e+02,  3.86272788e+01,  1.19036098e+02],\n",
       "        [-3.86272788e+01, -1.18882540e+02,  3.81514415e+01],\n",
       "        [ 0.00000000e+00,  0.00000000e+00,  1.00000000e+00]],\n",
       "\n",
       "       [[-7.34734504e+01, -1.01127529e+02,  7.30683541e+01],\n",
       "        [ 1.01127529e+02, -7.34734504e+01, -1.01420612e+02],\n",
       "        [ 0.00000000e+00,  0.00000000e+00,  1.00000000e+00]],\n",
       "\n",
       "       [[ 7.34734504e+01, -1.01127529e+02, -7.38773711e+01],\n",
       "        [ 1.01127529e+02,  7.34734504e+01, -1.00832827e+02],\n",
       "        [ 0.00000000e+00,  0.00000000e+00,  1.00000000e+00]],\n",
       "\n",
       "       [[ 1.18882540e+02,  3.86272788e+01, -1.18727081e+02],\n",
       "        [-3.86272788e+01,  1.18882540e+02,  3.91024980e+01],\n",
       "        [ 0.00000000e+00,  0.00000000e+00,  1.00000000e+00]]]), angles=array([[-0.22918281,  0.45836562],\n",
       "       [-0.22918281,  0.45836562],\n",
       "       [-0.22918281,  0.45836562],\n",
       "       [-0.22918281,  0.45836562],\n",
       "       [-0.22918281,  0.45836562]])), closed=array(True)), location=array([[-0.5       ],\n",
       "       [ 0.68819096],\n",
       "       [ 1.        ]])),), text=None), style=None, transform=array([[1., 0., 0.],\n",
       "       [0., 1., 0.],\n",
       "       [0., 0., 1.]]), order=None), Primitive(prim_shape=Path(loc_trails=(Located(trail=Trail(segments=Segment(transform=array([[[ 7.65407311e-15,  1.25000500e+02,  5.00000000e-01],\n",
       "        [-1.25000500e+02,  7.65407311e-15,  1.24999500e+02],\n",
       "        [ 0.00000000e+00,  0.00000000e+00,  1.00000000e+00]],\n",
       "\n",
       "       [[ 1.25000500e+02,  0.00000000e+00, -1.24999500e+02],\n",
       "        [ 0.00000000e+00,  1.25000500e+02,  5.00000000e-01],\n",
       "        [ 0.00000000e+00,  0.00000000e+00,  1.00000000e+00]],\n",
       "\n",
       "       [[-2.29622193e-14, -1.25000500e+02, -5.00000000e-01],\n",
       "        [ 1.25000500e+02, -2.29622193e-14, -1.24999500e+02],\n",
       "        [ 0.00000000e+00,  0.00000000e+00,  1.00000000e+00]],\n",
       "\n",
       "       [[-1.25000500e+02,  1.53081462e-14,  1.24999500e+02],\n",
       "        [-1.53081462e-14, -1.25000500e+02, -5.00000000e-01],\n",
       "        [ 0.00000000e+00,  0.00000000e+00,  1.00000000e+00]]]), angles=array([[-0.22918281,  0.45836562],\n",
       "       [-0.22918281,  0.45836562],\n",
       "       [-0.22918281,  0.45836562],\n",
       "       [-0.22918281,  0.45836562]])), closed=array(True)), location=array([[0.],\n",
       "       [0.],\n",
       "       [1.]])),), text=None), style=StyleHolder(base=array([0., 0., 0., 0., 0., 0., 0., 0., 0., 0., 0., 0.]), mask=array([False, False, False,  True, False, False, False, False,  True,\n",
       "       False, False, False])), transform=array([[ 5.00000000e-01,  0.00000000e+00,  8.09516994e-01],\n",
       "       [ 0.00000000e+00,  1.00000000e-05, -5.00000000e-06],\n",
       "       [ 0.00000000e+00,  0.00000000e+00,  1.00000000e+00]]), order=None))), ApplyTransform(transform=array([[1.        , 0.        , 2.31001699],\n",
       "       [0.        , 1.        , 0.        ],\n",
       "       [0.        , 0.        , 1.        ]]), diagram=Compose(envelope=None, diagrams=(Compose(envelope=None, diagrams=(Primitive(prim_shape=Path(loc_trails=(Located(trail=Trail(segments=Segment(transform=array([[[ 7.65407311e-15,  1.25000500e+02,  5.00000000e-01],\n",
       "        [-1.25000500e+02,  7.65407311e-15,  1.24999500e+02],\n",
       "        [ 0.00000000e+00,  0.00000000e+00,  1.00000000e+00]],\n",
       "\n",
       "       [[-1.08253608e+02,  6.25002500e+01,  1.08502742e+02],\n",
       "        [-6.25002500e+01, -1.08253608e+02,  6.20667373e+01],\n",
       "        [ 0.00000000e+00,  0.00000000e+00,  1.00000000e+00]],\n",
       "\n",
       "       [[-1.08253608e+02, -6.25002500e+01,  1.08002742e+02],\n",
       "        [ 6.25002500e+01, -1.08253608e+02, -6.29327627e+01],\n",
       "        [ 0.00000000e+00,  0.00000000e+00,  1.00000000e+00]],\n",
       "\n",
       "       [[-2.29622193e-14, -1.25000500e+02, -5.00000000e-01],\n",
       "        [ 1.25000500e+02, -2.29622193e-14, -1.24999500e+02],\n",
       "        [ 0.00000000e+00,  0.00000000e+00,  1.00000000e+00]],\n",
       "\n",
       "       [[ 1.08253608e+02, -6.25002500e+01, -1.08502742e+02],\n",
       "        [ 6.25002500e+01,  1.08253608e+02, -6.20667373e+01],\n",
       "        [ 0.00000000e+00,  0.00000000e+00,  1.00000000e+00]],\n",
       "\n",
       "       [[ 1.08253608e+02,  6.25002500e+01, -1.08002742e+02],\n",
       "        [-6.25002500e+01,  1.08253608e+02,  6.29327627e+01],\n",
       "        [ 0.00000000e+00,  0.00000000e+00,  1.00000000e+00]]]), angles=array([[-0.22918281,  0.45836562],\n",
       "       [-0.22918281,  0.45836562],\n",
       "       [-0.22918281,  0.45836562],\n",
       "       [-0.22918281,  0.45836562],\n",
       "       [-0.22918281,  0.45836562],\n",
       "       [-0.22918281,  0.45836562]])), closed=array(True)), location=array([[-0.5      ],\n",
       "       [ 0.8660254],\n",
       "       [ 1.       ]])),), text=None), style=None, transform=array([[1., 0., 0.],\n",
       "       [0., 1., 0.],\n",
       "       [0., 0., 1.]]), order=None), Primitive(prim_shape=Path(loc_trails=(Located(trail=Trail(segments=Segment(transform=array([[[ 7.65407311e-15,  1.25000500e+02,  5.00000000e-01],\n",
       "        [-1.25000500e+02,  7.65407311e-15,  1.24999500e+02],\n",
       "        [ 0.00000000e+00,  0.00000000e+00,  1.00000000e+00]],\n",
       "\n",
       "       [[ 1.25000500e+02,  0.00000000e+00, -1.24999500e+02],\n",
       "        [ 0.00000000e+00,  1.25000500e+02,  5.00000000e-01],\n",
       "        [ 0.00000000e+00,  0.00000000e+00,  1.00000000e+00]],\n",
       "\n",
       "       [[-2.29622193e-14, -1.25000500e+02, -5.00000000e-01],\n",
       "        [ 1.25000500e+02, -2.29622193e-14, -1.24999500e+02],\n",
       "        [ 0.00000000e+00,  0.00000000e+00,  1.00000000e+00]],\n",
       "\n",
       "       [[-1.25000500e+02,  1.53081462e-14,  1.24999500e+02],\n",
       "        [-1.53081462e-14, -1.25000500e+02, -5.00000000e-01],\n",
       "        [ 0.00000000e+00,  0.00000000e+00,  1.00000000e+00]]]), angles=array([[-0.22918281,  0.45836562],\n",
       "       [-0.22918281,  0.45836562],\n",
       "       [-0.22918281,  0.45836562],\n",
       "       [-0.22918281,  0.45836562]])), closed=array(True)), location=array([[0.],\n",
       "       [0.],\n",
       "       [1.]])),), text=None), style=StyleHolder(base=array([0., 0., 0., 0., 0., 0., 0., 0., 0., 0., 0., 0.]), mask=array([False, False, False,  True, False, False, False, False,  True,\n",
       "       False, False, False])), transform=array([[ 5.0000e-01,  0.0000e+00,  1.0005e+00],\n",
       "       [ 0.0000e+00,  1.0000e-05, -5.0000e-06],\n",
       "       [ 0.0000e+00,  0.0000e+00,  1.0000e+00]]), order=None))), Primitive(prim_shape=Path(loc_trails=(Located(trail=Trail(segments=Segment(transform=array([[[ 7.65407311e-15,  1.25000500e+02,  5.00000000e-01],\n",
       "        [-1.25000500e+02,  7.65407311e-15,  1.24999500e+02],\n",
       "        [ 0.00000000e+00,  0.00000000e+00,  1.00000000e+00]],\n",
       "\n",
       "       [[-9.77293262e+01,  7.79365370e+01,  9.80402893e+01],\n",
       "        [-7.79365370e+01, -9.77293262e+01,  7.75449977e+01],\n",
       "        [ 0.00000000e+00,  0.00000000e+00,  1.00000000e+00]],\n",
       "\n",
       "       [[-1.21866476e+02, -2.78152280e+01,  1.21754241e+02],\n",
       "        [ 2.78152280e+01, -1.21866476e+02, -2.83024694e+01],\n",
       "        [ 0.00000000e+00,  0.00000000e+00,  1.00000000e+00]],\n",
       "\n",
       "       [[-5.42356843e+01, -1.12621559e+02,  5.37847660e+01],\n",
       "        [ 1.12621559e+02, -5.42356843e+01, -1.12837600e+02],\n",
       "        [ 0.00000000e+00,  0.00000000e+00,  1.00000000e+00]],\n",
       "\n",
       "       [[ 5.42356843e+01, -1.12621559e+02, -5.46857349e+01],\n",
       "        [ 1.12621559e+02,  5.42356843e+01, -1.12403716e+02],\n",
       "        [ 0.00000000e+00,  0.00000000e+00,  1.00000000e+00]],\n",
       "\n",
       "       [[ 1.21866476e+02, -2.78152280e+01, -1.21976762e+02],\n",
       "        [ 2.78152280e+01,  1.21866476e+02, -2.73275415e+01],\n",
       "        [ 0.00000000e+00,  0.00000000e+00,  1.00000000e+00]],\n",
       "\n",
       "       [[ 9.77293262e+01,  7.79365370e+01, -9.74167995e+01],\n",
       "        [-7.79365370e+01,  9.77293262e+01,  7.83268292e+01],\n",
       "        [ 0.00000000e+00,  0.00000000e+00,  1.00000000e+00]]]), angles=array([[-0.22918281,  0.45836562],\n",
       "       [-0.22918281,  0.45836562],\n",
       "       [-0.22918281,  0.45836562],\n",
       "       [-0.22918281,  0.45836562],\n",
       "       [-0.22918281,  0.45836562],\n",
       "       [-0.22918281,  0.45836562],\n",
       "       [-0.22918281,  0.45836562]])), closed=array(True)), location=array([[-0.5      ],\n",
       "       [ 1.0382607],\n",
       "       [ 1.       ]])),), text=None), style=None, transform=array([[1.       , 0.       , 2.6244898],\n",
       "       [0.       , 1.       , 0.       ],\n",
       "       [0.       , 0.       , 1.       ]]), order=None))))))"
      ]
     },
     "execution_count": 9,
     "metadata": {},
     "output_type": "execute_result"
    }
   ],
   "source": [
    "hcat(\n",
    "    [\n",
    "        regular_polygon(5, 1),\n",
    "        regular_polygon(6, 1),\n",
    "        regular_polygon(7, 1),\n",
    "    ],\n",
    "    sep=0.5,\n",
    ")"
   ]
  },
  {
   "cell_type": "markdown",
   "id": "836399cf",
   "metadata": {},
   "source": [
    "## Circle-like shapes"
   ]
  },
  {
   "cell_type": "markdown",
   "id": "ccf4fd46",
   "metadata": {},
   "source": [
    "### Circle"
   ]
  },
  {
   "cell_type": "code",
   "execution_count": 10,
   "id": "398a4feb",
   "metadata": {
    "execution": {
     "iopub.execute_input": "2024-08-05T01:29:33.030132Z",
     "iopub.status.busy": "2024-08-05T01:29:33.030005Z",
     "iopub.status.idle": "2024-08-05T01:29:33.032582Z",
     "shell.execute_reply": "2024-08-05T01:29:33.032349Z"
    },
    "tags": [
     "hide_inp"
    ]
   },
   "outputs": [
    {
     "data": {
      "text/html": [
       "<dl><dt><a name=\"-circle\"><strong>circle</strong></a>(radius: Union[jaxtyping.Float[ndarray, '*#B'], jaxtyping.Int[ndarray, '*#B'], int, numpy.int64, float, numpy.float64]) -&gt; chalk.types.Diagram</dt><dd><span class=\"code\">Draws&nbsp;a&nbsp;circle&nbsp;with&nbsp;the&nbsp;specified&nbsp;``radius``.</span></dd></dl>\n"
      ],
      "text/plain": [
       "<IPython.core.display.HTML object>"
      ]
     },
     "execution_count": 10,
     "metadata": {},
     "output_type": "execute_result"
    }
   ],
   "source": [
    "help(circle)"
   ]
  },
  {
   "cell_type": "code",
   "execution_count": 11,
   "id": "91153dc2",
   "metadata": {
    "execution": {
     "iopub.execute_input": "2024-08-05T01:29:33.033952Z",
     "iopub.status.busy": "2024-08-05T01:29:33.033751Z",
     "iopub.status.idle": "2024-08-05T01:29:33.051287Z",
     "shell.execute_reply": "2024-08-05T01:29:33.050987Z"
    }
   },
   "outputs": [
    {
     "data": {
      "image/svg+xml": [
       "<?xml version=\"1.0\" encoding=\"utf-8\" ?>\n",
       "<svg baseProfile=\"full\" height=\"200\" version=\"1.1\" width=\"200\" xmlns=\"http://www.w3.org/2000/svg\" xmlns:ev=\"http://www.w3.org/2001/xml-events\" xmlns:xlink=\"http://www.w3.org/1999/xlink\"><defs /><g style=\"fill-opacity: 1.0;stroke: rgb(0.0 0.0 0.0);fill: rgb(256.0 256.0 256.0);stroke-width: 0.6000000000000001;\"><path d=\"M 195.23809523809524 100.0 C 195.23809523809524 47.75392663287013 152.24607336712984 4.761904761904759 99.99999999999999 4.761904761904759 C 47.75392663287013 4.761904761904759 4.761904761904759 47.75392663287014 4.761904761904759 100.00000000000001 C 4.761904761904759 152.24607336712984 47.75392663287013 195.23809523809524 100.00000000000001 195.23809523809524 C 152.24607336712984 195.23809523809524 195.23809523809524 152.24607336712987 195.23809523809524 100.0\" style=\"vector-effect: non-scaling-stroke;\" /></g></svg>"
      ],
      "text/html": [
       "<?xml version=\"1.0\" encoding=\"utf-8\" ?>\n",
       "<svg baseProfile=\"full\" height=\"200\" version=\"1.1\" width=\"200\" xmlns=\"http://www.w3.org/2000/svg\" xmlns:ev=\"http://www.w3.org/2001/xml-events\" xmlns:xlink=\"http://www.w3.org/1999/xlink\"><defs /><g style=\"fill-opacity: 1.0;stroke: rgb(0.0 0.0 0.0);fill: rgb(256.0 256.0 256.0);stroke-width: 0.6000000000000001;\"><path d=\"M 195.23809523809524 100.0 C 195.23809523809524 47.75392663287013 152.24607336712984 4.761904761904759 99.99999999999999 4.761904761904759 C 47.75392663287013 4.761904761904759 4.761904761904759 47.75392663287014 4.761904761904759 100.00000000000001 C 4.761904761904759 152.24607336712984 47.75392663287013 195.23809523809524 100.00000000000001 195.23809523809524 C 152.24607336712984 195.23809523809524 195.23809523809524 152.24607336712987 195.23809523809524 100.0\" style=\"vector-effect: non-scaling-stroke;\" /></g></svg>"
      ],
      "text/plain": [
       "Primitive(prim_shape=Path(loc_trails=(Located(trail=Trail(segments=Segment(transform=array([[[ 1.0000000e+00,  0.0000000e+00, -1.0000000e+00],\n",
       "        [ 0.0000000e+00,  1.0000000e+00,  0.0000000e+00],\n",
       "        [ 0.0000000e+00,  0.0000000e+00,  1.0000000e+00]],\n",
       "\n",
       "       [[ 6.1232340e-17,  1.0000000e+00, -6.1232340e-17],\n",
       "        [-1.0000000e+00,  6.1232340e-17,  1.0000000e+00],\n",
       "        [ 0.0000000e+00,  0.0000000e+00,  1.0000000e+00]],\n",
       "\n",
       "       [[-1.0000000e+00,  1.2246468e-16,  1.0000000e+00],\n",
       "        [-1.2246468e-16, -1.0000000e+00,  1.2246468e-16],\n",
       "        [ 0.0000000e+00,  0.0000000e+00,  1.0000000e+00]],\n",
       "\n",
       "       [[-1.8369702e-16, -1.0000000e+00,  1.8369702e-16],\n",
       "        [ 1.0000000e+00, -1.8369702e-16, -1.0000000e+00],\n",
       "        [ 0.0000000e+00,  0.0000000e+00,  1.0000000e+00]]]), angles=array([[  0., -90.],\n",
       "       [  0., -90.],\n",
       "       [  0., -90.],\n",
       "       [  0., -90.]])), closed=array(True)), location=array([[0.],\n",
       "       [0.],\n",
       "       [1.]])),), text=None), style=None, transform=array([[1., 0., 1.],\n",
       "       [0., 1., 0.],\n",
       "       [0., 0., 1.]]), order=None)"
      ]
     },
     "execution_count": 11,
     "metadata": {},
     "output_type": "execute_result"
    }
   ],
   "source": [
    "circle(1)"
   ]
  },
  {
   "cell_type": "markdown",
   "id": "6e6a54c3",
   "metadata": {},
   "source": [
    "### Arc"
   ]
  },
  {
   "cell_type": "markdown",
   "id": "2ecbb08e",
   "metadata": {},
   "source": [
    "Arcs can be specified either using angles (see ``arc``) or points (see ``arc_between``)."
   ]
  },
  {
   "cell_type": "code",
   "execution_count": 12,
   "id": "23c80b8c",
   "metadata": {
    "execution": {
     "iopub.execute_input": "2024-08-05T01:29:33.052804Z",
     "iopub.status.busy": "2024-08-05T01:29:33.052701Z",
     "iopub.status.idle": "2024-08-05T01:29:33.055085Z",
     "shell.execute_reply": "2024-08-05T01:29:33.054852Z"
    },
    "tags": [
     "hide_inp"
    ]
   },
   "outputs": [
    {
     "data": {
      "text/html": [
       "<dl><dt><a name=\"-arc\"><strong>arc</strong></a>(radius: Union[jaxtyping.Float[ndarray, '*#B'], jaxtyping.Int[ndarray, '*#B'], int, numpy.int64, float, numpy.float64], angle0: Union[jaxtyping.Float[ndarray, '*#B'], jaxtyping.Int[ndarray, '*#B'], int, numpy.int64, float, numpy.float64], angle1: Union[jaxtyping.Float[ndarray, '*#B'], jaxtyping.Int[ndarray, '*#B'], int, numpy.int64, float, numpy.float64]) -&gt; chalk.types.Diagram</dt><dd><span class=\"code\">Draws&nbsp;an&nbsp;arc.<br>\n",
       "&nbsp;<br>\n",
       "Args:<br>\n",
       "&nbsp;&nbsp;radius&nbsp;(float):&nbsp;Circle&nbsp;radius.<br>\n",
       "&nbsp;&nbsp;angle0&nbsp;(float):&nbsp;Starting&nbsp;cutoff&nbsp;in&nbsp;degrees.<br>\n",
       "&nbsp;&nbsp;angle1&nbsp;(float):&nbsp;Finishing&nbsp;cutoff&nbsp;in&nbsp;degrees.<br>\n",
       "&nbsp;<br>\n",
       "Returns:<br>\n",
       "&nbsp;&nbsp;Diagram</span></dd></dl>\n"
      ],
      "text/plain": [
       "<IPython.core.display.HTML object>"
      ]
     },
     "execution_count": 12,
     "metadata": {},
     "output_type": "execute_result"
    }
   ],
   "source": [
    "help(arc)"
   ]
  },
  {
   "cell_type": "code",
   "execution_count": 13,
   "id": "e3093086",
   "metadata": {
    "execution": {
     "iopub.execute_input": "2024-08-05T01:29:33.056707Z",
     "iopub.status.busy": "2024-08-05T01:29:33.056445Z",
     "iopub.status.idle": "2024-08-05T01:29:33.074321Z",
     "shell.execute_reply": "2024-08-05T01:29:33.074065Z"
    }
   },
   "outputs": [
    {
     "data": {
      "image/svg+xml": [
       "<?xml version=\"1.0\" encoding=\"utf-8\" ?>\n",
       "<svg baseProfile=\"full\" height=\"200\" version=\"1.1\" width=\"200\" xmlns=\"http://www.w3.org/2000/svg\" xmlns:ev=\"http://www.w3.org/2001/xml-events\" xmlns:xlink=\"http://www.w3.org/1999/xlink\"><defs /><g style=\"fill-opacity: 0.0;stroke: rgb(0.0 0.0 0.0);fill: rgb(256.0 256.0 256.0);stroke-width: 0.6000000000000001;\"><path d=\"M 195.23809523809518 4.761904761904702 C 195.23809523809518 109.2540514961644 109.25405149616442 195.23809523809518 4.761904761904714 195.23809523809518\" style=\"vector-effect: non-scaling-stroke;\" /></g></svg>"
      ],
      "text/html": [
       "<?xml version=\"1.0\" encoding=\"utf-8\" ?>\n",
       "<svg baseProfile=\"full\" height=\"200\" version=\"1.1\" width=\"200\" xmlns=\"http://www.w3.org/2000/svg\" xmlns:ev=\"http://www.w3.org/2001/xml-events\" xmlns:xlink=\"http://www.w3.org/1999/xlink\"><defs /><g style=\"fill-opacity: 0.0;stroke: rgb(0.0 0.0 0.0);fill: rgb(256.0 256.0 256.0);stroke-width: 0.6000000000000001;\"><path d=\"M 195.23809523809518 4.761904761904702 C 195.23809523809518 109.2540514961644 109.25405149616442 195.23809523809518 4.761904761904714 195.23809523809518\" style=\"vector-effect: non-scaling-stroke;\" /></g></svg>"
      ],
      "text/plain": [
       "Primitive(prim_shape=Path(loc_trails=(Located(trail=Trail(segments=Segment(transform=array([[[ 1.,  0., -1.],\n",
       "        [ 0.,  1., -0.],\n",
       "        [ 0.,  0.,  1.]]]), angles=array([[ 0., 90.]])), closed=array(False)), location=array([[1.],\n",
       "       [0.],\n",
       "       [1.]])),), text=None), style=StyleHolder(base=array([0., 0., 0., 0., 0., 0., 0., 0., 0., 0., 0., 0.]), mask=array([False, False, False,  True, False, False, False, False, False,\n",
       "       False, False, False])), transform=array([[1., 0., 0.],\n",
       "       [0., 1., 0.],\n",
       "       [0., 0., 1.]]), order=None)"
      ]
     },
     "execution_count": 13,
     "metadata": {},
     "output_type": "execute_result"
    }
   ],
   "source": [
    "quarter = 90\n",
    "arc(1, 0, quarter)"
   ]
  },
  {
   "cell_type": "code",
   "execution_count": 14,
   "id": "bc03b4a2",
   "metadata": {
    "execution": {
     "iopub.execute_input": "2024-08-05T01:29:33.075740Z",
     "iopub.status.busy": "2024-08-05T01:29:33.075638Z",
     "iopub.status.idle": "2024-08-05T01:29:33.092690Z",
     "shell.execute_reply": "2024-08-05T01:29:33.092476Z"
    }
   },
   "outputs": [
    {
     "data": {
      "image/svg+xml": [
       "<?xml version=\"1.0\" encoding=\"utf-8\" ?>\n",
       "<svg baseProfile=\"full\" height=\"200\" version=\"1.1\" width=\"200\" xmlns=\"http://www.w3.org/2000/svg\" xmlns:ev=\"http://www.w3.org/2001/xml-events\" xmlns:xlink=\"http://www.w3.org/1999/xlink\"><defs /><g style=\"fill-opacity: 0.0;stroke: rgb(0.0 0.0 0.0);fill: rgb(256.0 256.0 256.0);stroke-width: 0.6000000000000001;\"><path d=\"M 195.23809523809524 100.0 C 195.23809523809524 152.24607336712984 152.24607336712987 195.23809523809524 100.0 195.23809523809524\" style=\"vector-effect: non-scaling-stroke;\" /></g><g style=\"fill-opacity: 0.0;stroke: rgb(0.0 0.0 0.0);fill: rgb(256.0 256.0 256.0);stroke-width: 0.6000000000000001;\"><path d=\"M 4.761904761904759 100.00000000000001 C 4.761904761904759 47.75392663287016 47.75392663287013 4.761904761904773 99.99999999999999 4.761904761904759\" style=\"vector-effect: non-scaling-stroke;\" /></g></svg>"
      ],
      "text/html": [
       "<?xml version=\"1.0\" encoding=\"utf-8\" ?>\n",
       "<svg baseProfile=\"full\" height=\"200\" version=\"1.1\" width=\"200\" xmlns=\"http://www.w3.org/2000/svg\" xmlns:ev=\"http://www.w3.org/2001/xml-events\" xmlns:xlink=\"http://www.w3.org/1999/xlink\"><defs /><g style=\"fill-opacity: 0.0;stroke: rgb(0.0 0.0 0.0);fill: rgb(256.0 256.0 256.0);stroke-width: 0.6000000000000001;\"><path d=\"M 195.23809523809524 100.0 C 195.23809523809524 152.24607336712984 152.24607336712987 195.23809523809524 100.0 195.23809523809524\" style=\"vector-effect: non-scaling-stroke;\" /></g><g style=\"fill-opacity: 0.0;stroke: rgb(0.0 0.0 0.0);fill: rgb(256.0 256.0 256.0);stroke-width: 0.6000000000000001;\"><path d=\"M 4.761904761904759 100.00000000000001 C 4.761904761904759 47.75392663287016 47.75392663287013 4.761904761904773 99.99999999999999 4.761904761904759\" style=\"vector-effect: non-scaling-stroke;\" /></g></svg>"
      ],
      "text/plain": [
       "Compose(envelope=None, diagrams=(Primitive(prim_shape=Path(loc_trails=(Located(trail=Trail(segments=Segment(transform=array([[[ 1.,  0., -1.],\n",
       "        [ 0.,  1., -0.],\n",
       "        [ 0.,  0.,  1.]]]), angles=array([[ 0., 90.]])), closed=array(False)), location=array([[1.],\n",
       "       [0.],\n",
       "       [1.]])),), text=None), style=StyleHolder(base=array([0., 0., 0., 0., 0., 0., 0., 0., 0., 0., 0., 0.]), mask=array([False, False, False,  True, False, False, False, False, False,\n",
       "       False, False, False])), transform=array([[1., 0., 0.],\n",
       "       [0., 1., 0.],\n",
       "       [0., 0., 1.]]), order=None), Primitive(prim_shape=Path(loc_trails=(Located(trail=Trail(segments=Segment(transform=array([[[ 1.0000000e+00,  0.0000000e+00,  1.0000000e+00],\n",
       "        [ 0.0000000e+00,  1.0000000e+00, -1.2246468e-16],\n",
       "        [ 0.0000000e+00,  0.0000000e+00,  1.0000000e+00]]]), angles=array([[180.,  90.]])), closed=array(False)), location=array([[-1.0000000e+00],\n",
       "       [ 1.2246468e-16],\n",
       "       [ 1.0000000e+00]])),), text=None), style=StyleHolder(base=array([0., 0., 0., 0., 0., 0., 0., 0., 0., 0., 0., 0.]), mask=array([False, False, False,  True, False, False, False, False, False,\n",
       "       False, False, False])), transform=array([[1., 0., 0.],\n",
       "       [0., 1., 0.],\n",
       "       [0., 0., 1.]]), order=None)))"
      ]
     },
     "execution_count": 14,
     "metadata": {},
     "output_type": "execute_result"
    }
   ],
   "source": [
    "arc(1, 0, quarter) + arc(1, 2 * quarter, 3 * quarter)"
   ]
  },
  {
   "cell_type": "code",
   "execution_count": 15,
   "id": "b87c27b4",
   "metadata": {
    "execution": {
     "iopub.execute_input": "2024-08-05T01:29:33.094013Z",
     "iopub.status.busy": "2024-08-05T01:29:33.093844Z",
     "iopub.status.idle": "2024-08-05T01:29:33.096138Z",
     "shell.execute_reply": "2024-08-05T01:29:33.095890Z"
    },
    "tags": [
     "hide_inp"
    ]
   },
   "outputs": [
    {
     "data": {
      "text/html": [
       "<dl><dt><a name=\"-arc_between\"><strong>arc_between</strong></a>(point1: Union[jaxtyping.Float[ndarray, '*#B 3 1'], Tuple[float, float]], point2: Union[jaxtyping.Float[ndarray, '*#B 3 1'], Tuple[float, float]], height: float) -&gt; chalk.types.Diagram</dt><dd><span class=\"code\">Makes&nbsp;an&nbsp;arc&nbsp;starting&nbsp;at&nbsp;point1&nbsp;and&nbsp;ending&nbsp;at&nbsp;point2,&nbsp;with&nbsp;the&nbsp;midpoint<br>\n",
       "at&nbsp;a&nbsp;distance&nbsp;of&nbsp;abs(height)&nbsp;away&nbsp;from&nbsp;the&nbsp;straight&nbsp;line&nbsp;from&nbsp;point1&nbsp;to<br>\n",
       "point2.&nbsp;A&nbsp;positive&nbsp;value&nbsp;of&nbsp;height&nbsp;results&nbsp;in&nbsp;an&nbsp;arc&nbsp;to&nbsp;the&nbsp;left&nbsp;of&nbsp;the<br>\n",
       "line&nbsp;from&nbsp;point1&nbsp;to&nbsp;point2;&nbsp;a&nbsp;negative&nbsp;value&nbsp;yields&nbsp;one&nbsp;to&nbsp;the&nbsp;right.<br>\n",
       "The&nbsp;implementation&nbsp;is&nbsp;based&nbsp;on&nbsp;the&nbsp;the&nbsp;function&nbsp;arcBetween&nbsp;from&nbsp;Haskell's<br>\n",
       "diagrams:<br>\n",
       "<a href=\"https://hackage.haskell.org/package/diagrams-lib-1.4.5.1/docs/src/Diagrams.TwoD.Arc.html#arcBetween\">https://hackage.haskell.org/package/diagrams-lib-1.4.5.1/docs/src/Diagrams.TwoD.Arc.html#arcBetween</a></span></dd></dl>\n"
      ],
      "text/plain": [
       "<IPython.core.display.HTML object>"
      ]
     },
     "execution_count": 15,
     "metadata": {},
     "output_type": "execute_result"
    }
   ],
   "source": [
    "help(arc_between)"
   ]
  },
  {
   "cell_type": "code",
   "execution_count": 16,
   "id": "f3532e9a",
   "metadata": {
    "execution": {
     "iopub.execute_input": "2024-08-05T01:29:33.097594Z",
     "iopub.status.busy": "2024-08-05T01:29:33.097405Z",
     "iopub.status.idle": "2024-08-05T01:29:33.113024Z",
     "shell.execute_reply": "2024-08-05T01:29:33.112763Z"
    }
   },
   "outputs": [
    {
     "data": {
      "image/svg+xml": [
       "<?xml version=\"1.0\" encoding=\"utf-8\" ?>\n",
       "<svg baseProfile=\"full\" height=\"200\" version=\"1.1\" width=\"250\" xmlns=\"http://www.w3.org/2000/svg\" xmlns:ev=\"http://www.w3.org/2001/xml-events\" xmlns:xlink=\"http://www.w3.org/1999/xlink\"><defs /><g style=\"fill-opacity: 0.0;stroke: rgb(0.0 0.0 0.0);fill: rgb(256.0 256.0 256.0);stroke-width: 0.6000000000000001;\"><path d=\"M 29.761904761904745 195.2380952380953 C 76.73448678027944 257.8682045959282 173.2655132197205 257.8682045959282 220.23809523809524 195.23809523809524\" style=\"vector-effect: non-scaling-stroke;\" /></g></svg>"
      ],
      "text/html": [
       "<?xml version=\"1.0\" encoding=\"utf-8\" ?>\n",
       "<svg baseProfile=\"full\" height=\"200\" version=\"1.1\" width=\"250\" xmlns=\"http://www.w3.org/2000/svg\" xmlns:ev=\"http://www.w3.org/2001/xml-events\" xmlns:xlink=\"http://www.w3.org/1999/xlink\"><defs /><g style=\"fill-opacity: 0.0;stroke: rgb(0.0 0.0 0.0);fill: rgb(256.0 256.0 256.0);stroke-width: 0.6000000000000001;\"><path d=\"M 29.761904761904745 195.2380952380953 C 76.73448678027944 257.8682045959282 173.2655132197205 257.8682045959282 220.23809523809524 195.23809523809524\" style=\"vector-effect: non-scaling-stroke;\" /></g></svg>"
      ],
      "text/plain": [
       "Primitive(prim_shape=Path(loc_trails=(Located(trail=Trail(segments=Segment(transform=array([[[ 3.82702125e-17,  6.25000000e-01,  5.00000000e-01],\n",
       "        [-6.25000000e-01,  3.82702125e-17, -3.75000000e-01],\n",
       "        [ 0.00000000e+00,  0.00000000e+00,  1.00000000e+00]]]), angles=array([[-126.86989765,  253.73979529]])), closed=array(False)), location=array([[0.],\n",
       "       [0.],\n",
       "       [1.]])),), text=None), style=StyleHolder(base=array([0., 0., 0., 0., 0., 0., 0., 0., 0., 0., 0., 0.]), mask=array([False, False, False,  True, False, False, False, False, False,\n",
       "       False, False, False])), transform=array([[1., 0., 0.],\n",
       "       [0., 1., 0.],\n",
       "       [0., 0., 1.]]), order=None)"
      ]
     },
     "execution_count": 16,
     "metadata": {},
     "output_type": "execute_result"
    }
   ],
   "source": [
    "arc_between((0, 0), (1, 0), 1)"
   ]
  },
  {
   "cell_type": "markdown",
   "id": "8df1bc23",
   "metadata": {},
   "source": [
    "## Text"
   ]
  },
  {
   "cell_type": "code",
   "execution_count": 17,
   "id": "d4cad4df",
   "metadata": {
    "execution": {
     "iopub.execute_input": "2024-08-05T01:29:33.114434Z",
     "iopub.status.busy": "2024-08-05T01:29:33.114305Z",
     "iopub.status.idle": "2024-08-05T01:29:33.116825Z",
     "shell.execute_reply": "2024-08-05T01:29:33.116569Z"
    },
    "tags": [
     "hide_inp"
    ]
   },
   "outputs": [
    {
     "data": {
      "text/html": [
       "<dl><dt><a name=\"-text\"><strong>text</strong></a>(s: str, size: int) -&gt; chalk.types.Diagram</dt></dl>\n"
      ],
      "text/plain": [
       "<IPython.core.display.HTML object>"
      ]
     },
     "execution_count": 17,
     "metadata": {},
     "output_type": "execute_result"
    }
   ],
   "source": [
    "help(text)"
   ]
  },
  {
   "cell_type": "markdown",
   "id": "dc64c514",
   "metadata": {},
   "source": [
    "Note that unlike other shapes, ``text`` has an empty envelope, so we need to explicitly specify it in order to get a non-empty rendering."
   ]
  },
  {
   "cell_type": "code",
   "execution_count": 18,
   "id": "37cd477f",
   "metadata": {
    "execution": {
     "iopub.execute_input": "2024-08-05T01:29:33.118142Z",
     "iopub.status.busy": "2024-08-05T01:29:33.118020Z",
     "iopub.status.idle": "2024-08-05T01:29:33.237567Z",
     "shell.execute_reply": "2024-08-05T01:29:33.237168Z"
    }
   },
   "outputs": [
    {
     "data": {
      "image/svg+xml": [
       "<?xml version=\"1.0\" encoding=\"utf-8\" ?>\n",
       "<svg baseProfile=\"full\" height=\"200\" version=\"1.1\" width=\"500\" xmlns=\"http://www.w3.org/2000/svg\" xmlns:ev=\"http://www.w3.org/2001/xml-events\" xmlns:xlink=\"http://www.w3.org/1999/xlink\"><defs /><g style=\"fill-opacity: 1.0;stroke: rgb(0.0 0.0 0.0);fill: rgb(256.0 256.0 256.0);stroke-width: 0.6000000000000001;\"><path d=\"M 158.0540399744155 109.8539799958894 C 158.0540399744155 97.98777585669745 155.213252948574 82.36344721456939 133.78898412868628 82.36344721456939 C 121.86359692645595 82.36344721456939 114.11061566843028 88.19297892384823 108.60659080586245 94.58474973199152 L 108.60659080586245 34.1884339013412 L 94.60979639728939 34.1884339013412 L 94.60979639728939 164.86463709004863 L 108.99128071561181 164.86463709004863 L 108.99128071561181 119.26408701898927 C 108.99128071561181 107.4274744113165 113.54837656956583 93.84496144401199 126.42069278040998 93.84496144401199 C 143.0807250257094 93.84496144401199 143.64296412457387 104.97137729522439 143.64296412457387 111.39273963488688 L 143.64296412457387 164.86463709004863 L 158.0540399744155 164.86463709004863 L 158.0540399744155 109.8539799958894 Z M 246.25709028353714 125.06402719674892 C 246.25709028353714 118.76103098316318 245.90199190530694 106.53972846574104 239.83572794387462 96.41942468618082 C 233.20722488357788 85.52974108712186 222.40631587907646 82.48181334064611 214.26864471130145 82.48181334064611 C 194.56068471952625 82.48181334064611 177.90065247422683 101.06529513469238 177.90065247422683 125.1232102597873 C 177.90065247422683 148.58929475449858 195.12292381839072 167.7054241158901 216.90229101650863 167.7054241158901 C 225.42465209403304 167.7054241158901 235.8408711887851 165.249326999798 245.31016127492327 158.47286628190534 C 245.31016127492327 157.7034864624066 244.9550628966931 153.56067204972115 244.74792217605886 153.38312286060605 C 244.74792217605886 152.99843295085668 244.18568307719437 147.16890124157783 244.18568307719437 146.39952142207912 C 235.10108290080552 153.76781277035542 224.68486380605347 156.19431835492833 217.1094317371429 156.19431835492833 C 204.97690381427827 156.19431835492833 191.92703841431904 146.0740145753681 191.33520778393543 125.06402719674892 L 246.25709028353714 125.06402719674892 Z M 192.87396742293288 114.67739963351607 C 195.330064539025 104.14281441268729 203.6452848959151 94.17046829072298 214.26864471130145 94.17046829072298 C 217.1094317371429 94.17046829072298 230.3664378577364 94.17046829072298 233.76946398244235 114.67739963351607 L 192.87396742293288 114.67739963351607 Z M 279.39599333752096 35.135362909955006 L 265.39919892894795 35.135362909955006 L 265.39919892894795 165.81156609866247 L 279.39599333752096 165.81156609866247 L 279.39599333752096 35.135362909955006 Z M 321.56066028061537 35.135362909955006 L 307.56386587204224 35.135362909955006 L 307.56386587204224 165.81156609866247 L 321.56066028061537 165.81156609866247 L 321.56066028061537 35.135362909955006 Z M 419.41658954281013 125.68544935865175 C 419.41658954281013 101.42039351292256 401.42493837914753 82.48181334064611 380.20781027989403 82.48181334064611 C 358.42844308177615 82.48181334064611 340.8214818278629 101.98263261178701 340.8214818278629 125.68544935865175 C 340.8214818278629 149.7137729522275 358.99068218064065 167.7054241158901 380.030261090779 167.7054241158901 C 401.6024875682626 167.7054241158901 419.41658954281013 149.15153385336302 419.41658954281013 125.68544935865175 Z M 380.20781027989403 155.83921997669816 C 366.7732549701855 155.83921997669816 355.2029661461853 144.83117025156247 355.2029661461853 124.14668971965429 C 355.2029661461853 102.16018180090211 368.66711298741313 93.99291910160788 380.030261090779 93.99291910160788 C 392.3403382027587 93.99291910160788 405.0055136929686 102.89997008888164 405.0055136929686 124.14668971965429 C 405.0055136929686 145.6005500710612 392.6954365809889 155.83921997669816 380.20781027989403 155.83921997669816\" style=\"vector-effect: non-scaling-stroke;\" /></g></svg>"
      ],
      "text/html": [
       "<?xml version=\"1.0\" encoding=\"utf-8\" ?>\n",
       "<svg baseProfile=\"full\" height=\"200\" version=\"1.1\" width=\"500\" xmlns=\"http://www.w3.org/2000/svg\" xmlns:ev=\"http://www.w3.org/2001/xml-events\" xmlns:xlink=\"http://www.w3.org/1999/xlink\"><defs /><g style=\"fill-opacity: 1.0;stroke: rgb(0.0 0.0 0.0);fill: rgb(256.0 256.0 256.0);stroke-width: 0.6000000000000001;\"><path d=\"M 158.0540399744155 109.8539799958894 C 158.0540399744155 97.98777585669745 155.213252948574 82.36344721456939 133.78898412868628 82.36344721456939 C 121.86359692645595 82.36344721456939 114.11061566843028 88.19297892384823 108.60659080586245 94.58474973199152 L 108.60659080586245 34.1884339013412 L 94.60979639728939 34.1884339013412 L 94.60979639728939 164.86463709004863 L 108.99128071561181 164.86463709004863 L 108.99128071561181 119.26408701898927 C 108.99128071561181 107.4274744113165 113.54837656956583 93.84496144401199 126.42069278040998 93.84496144401199 C 143.0807250257094 93.84496144401199 143.64296412457387 104.97137729522439 143.64296412457387 111.39273963488688 L 143.64296412457387 164.86463709004863 L 158.0540399744155 164.86463709004863 L 158.0540399744155 109.8539799958894 Z M 246.25709028353714 125.06402719674892 C 246.25709028353714 118.76103098316318 245.90199190530694 106.53972846574104 239.83572794387462 96.41942468618082 C 233.20722488357788 85.52974108712186 222.40631587907646 82.48181334064611 214.26864471130145 82.48181334064611 C 194.56068471952625 82.48181334064611 177.90065247422683 101.06529513469238 177.90065247422683 125.1232102597873 C 177.90065247422683 148.58929475449858 195.12292381839072 167.7054241158901 216.90229101650863 167.7054241158901 C 225.42465209403304 167.7054241158901 235.8408711887851 165.249326999798 245.31016127492327 158.47286628190534 C 245.31016127492327 157.7034864624066 244.9550628966931 153.56067204972115 244.74792217605886 153.38312286060605 C 244.74792217605886 152.99843295085668 244.18568307719437 147.16890124157783 244.18568307719437 146.39952142207912 C 235.10108290080552 153.76781277035542 224.68486380605347 156.19431835492833 217.1094317371429 156.19431835492833 C 204.97690381427827 156.19431835492833 191.92703841431904 146.0740145753681 191.33520778393543 125.06402719674892 L 246.25709028353714 125.06402719674892 Z M 192.87396742293288 114.67739963351607 C 195.330064539025 104.14281441268729 203.6452848959151 94.17046829072298 214.26864471130145 94.17046829072298 C 217.1094317371429 94.17046829072298 230.3664378577364 94.17046829072298 233.76946398244235 114.67739963351607 L 192.87396742293288 114.67739963351607 Z M 279.39599333752096 35.135362909955006 L 265.39919892894795 35.135362909955006 L 265.39919892894795 165.81156609866247 L 279.39599333752096 165.81156609866247 L 279.39599333752096 35.135362909955006 Z M 321.56066028061537 35.135362909955006 L 307.56386587204224 35.135362909955006 L 307.56386587204224 165.81156609866247 L 321.56066028061537 165.81156609866247 L 321.56066028061537 35.135362909955006 Z M 419.41658954281013 125.68544935865175 C 419.41658954281013 101.42039351292256 401.42493837914753 82.48181334064611 380.20781027989403 82.48181334064611 C 358.42844308177615 82.48181334064611 340.8214818278629 101.98263261178701 340.8214818278629 125.68544935865175 C 340.8214818278629 149.7137729522275 358.99068218064065 167.7054241158901 380.030261090779 167.7054241158901 C 401.6024875682626 167.7054241158901 419.41658954281013 149.15153385336302 419.41658954281013 125.68544935865175 Z M 380.20781027989403 155.83921997669816 C 366.7732549701855 155.83921997669816 355.2029661461853 144.83117025156247 355.2029661461853 124.14668971965429 C 355.2029661461853 102.16018180090211 368.66711298741313 93.99291910160788 380.030261090779 93.99291910160788 C 392.3403382027587 93.99291910160788 405.0055136929686 102.89997008888164 405.0055136929686 124.14668971965429 C 405.0055136929686 145.6005500710612 392.6954365809889 155.83921997669816 380.20781027989403 155.83921997669816\" style=\"vector-effect: non-scaling-stroke;\" /></g></svg>"
      ],
      "text/plain": [
       "Compose(envelope=Primitive(prim_shape=Path(loc_trails=(Located(trail=Trail(segments=Segment(transform=array([[[ 7.65407311e-15,  1.25000500e+02,  5.00000000e-01],\n",
       "        [-1.25000500e+02,  7.65407311e-15,  1.24999500e+02],\n",
       "        [ 0.00000000e+00,  0.00000000e+00,  1.00000000e+00]],\n",
       "\n",
       "       [[ 1.25000500e+02,  0.00000000e+00, -1.24999500e+02],\n",
       "        [ 0.00000000e+00,  1.25000500e+02,  5.00000000e-01],\n",
       "        [ 0.00000000e+00,  0.00000000e+00,  1.00000000e+00]],\n",
       "\n",
       "       [[-2.29622193e-14, -1.25000500e+02, -5.00000000e-01],\n",
       "        [ 1.25000500e+02, -2.29622193e-14, -1.24999500e+02],\n",
       "        [ 0.00000000e+00,  0.00000000e+00,  1.00000000e+00]],\n",
       "\n",
       "       [[-1.25000500e+02,  1.53081462e-14,  1.24999500e+02],\n",
       "        [-1.53081462e-14, -1.25000500e+02, -5.00000000e-01],\n",
       "        [ 0.00000000e+00,  0.00000000e+00,  1.00000000e+00]]]), angles=array([[-0.22918281,  0.45836562],\n",
       "       [-0.22918281,  0.45836562],\n",
       "       [-0.22918281,  0.45836562],\n",
       "       [-0.22918281,  0.45836562]])), closed=array(True)), location=array([[0.],\n",
       "       [0.],\n",
       "       [1.]])),), text=None), style=None, transform=array([[ 2.5 ,  0.  , -1.25],\n",
       "       [ 0.  ,  1.  , -0.5 ],\n",
       "       [ 0.  ,  0.  ,  1.  ]]), order=None), diagrams=(Primitive(prim_shape=Path(loc_trails=(), text=Text(text=array([b'h', b'e', b'l', b'l', b'o'], dtype='|S1'))), style=None, transform=array([[ 1.,  0.,  0.],\n",
       "       [ 0., -1.,  0.],\n",
       "       [ 0.,  0.,  1.]]), order=None),))"
      ]
     },
     "execution_count": 18,
     "metadata": {},
     "output_type": "execute_result"
    }
   ],
   "source": [
    "text(\"hello\", 1).with_envelope(rectangle(2.5, 1))"
   ]
  },
  {
   "cell_type": "markdown",
   "id": "34e10732",
   "metadata": {},
   "source": [
    "## Paths"
   ]
  },
  {
   "cell_type": "code",
   "execution_count": 19,
   "id": "55c1f69c",
   "metadata": {
    "execution": {
     "iopub.execute_input": "2024-08-05T01:29:33.239295Z",
     "iopub.status.busy": "2024-08-05T01:29:33.239193Z",
     "iopub.status.idle": "2024-08-05T01:29:33.242102Z",
     "shell.execute_reply": "2024-08-05T01:29:33.241844Z"
    },
    "tags": [
     "hide_inp"
    ]
   },
   "outputs": [
    {
     "data": {
      "text/html": [
       "<dl><dt><a name=\"-make_path\"><strong>make_path</strong></a>(segments: 'List[Tuple[float, float]]', closed: 'bool' = False) -&gt; 'Diagram'</dt></dl>\n"
      ],
      "text/plain": [
       "<IPython.core.display.HTML object>"
      ]
     },
     "execution_count": 19,
     "metadata": {},
     "output_type": "execute_result"
    }
   ],
   "source": [
    "help(make_path)"
   ]
  },
  {
   "cell_type": "code",
   "execution_count": 20,
   "id": "35aee911",
   "metadata": {
    "execution": {
     "iopub.execute_input": "2024-08-05T01:29:33.243589Z",
     "iopub.status.busy": "2024-08-05T01:29:33.243459Z",
     "iopub.status.idle": "2024-08-05T01:29:33.259656Z",
     "shell.execute_reply": "2024-08-05T01:29:33.259411Z"
    }
   },
   "outputs": [
    {
     "data": {
      "image/svg+xml": [
       "<?xml version=\"1.0\" encoding=\"utf-8\" ?>\n",
       "<svg baseProfile=\"full\" height=\"200\" version=\"1.1\" width=\"100\" xmlns=\"http://www.w3.org/2000/svg\" xmlns:ev=\"http://www.w3.org/2001/xml-events\" xmlns:xlink=\"http://www.w3.org/1999/xlink\"><defs /><g style=\"fill-opacity: 1.0;stroke: rgb(0.0 0.0 0.0);fill: rgb(256.0 256.0 256.0);stroke-width: 0.6000000000000001;\"><path d=\"M 2.3809523809650273 4.757147614292009 C 2.5078096506795924 36.471338185498695 2.5078096506795924 68.18590932889438 2.3809523809663795 99.90009990010034 C 34.09514295217307 99.7732426303864 65.80971409556875 99.7732426303864 97.52390466677471 99.90009990009962 C 97.6507619364899 131.61429047130565 97.6507619364899 163.32886161470134 97.52390466677669 195.0430521859073\" style=\"vector-effect: non-scaling-stroke;\" /></g></svg>"
      ],
      "text/html": [
       "<?xml version=\"1.0\" encoding=\"utf-8\" ?>\n",
       "<svg baseProfile=\"full\" height=\"200\" version=\"1.1\" width=\"100\" xmlns=\"http://www.w3.org/2000/svg\" xmlns:ev=\"http://www.w3.org/2001/xml-events\" xmlns:xlink=\"http://www.w3.org/1999/xlink\"><defs /><g style=\"fill-opacity: 1.0;stroke: rgb(0.0 0.0 0.0);fill: rgb(256.0 256.0 256.0);stroke-width: 0.6000000000000001;\"><path d=\"M 2.3809523809650273 4.757147614292009 C 2.5078096506795924 36.471338185498695 2.5078096506795924 68.18590932889438 2.3809523809663795 99.90009990010034 C 34.09514295217307 99.7732426303864 65.80971409556875 99.7732426303864 97.52390466677471 99.90009990009962 C 97.6507619364899 131.61429047130565 97.6507619364899 163.32886161470134 97.52390466677669 195.0430521859073\" style=\"vector-effect: non-scaling-stroke;\" /></g></svg>"
      ],
      "text/plain": [
       "Primitive(prim_shape=Path(loc_trails=(Located(trail=Trail(segments=Segment(transform=array([[[ 1.25000500e+02,  0.00000000e+00, -1.24999500e+02],\n",
       "        [ 0.00000000e+00,  1.25000500e+02,  5.00000000e-01],\n",
       "        [ 0.00000000e+00,  0.00000000e+00,  1.00000000e+00]],\n",
       "\n",
       "       [[ 7.65407311e-15,  1.25000500e+02,  5.00000000e-01],\n",
       "        [-1.25000500e+02,  7.65407311e-15,  1.24999500e+02],\n",
       "        [ 0.00000000e+00,  0.00000000e+00,  1.00000000e+00]],\n",
       "\n",
       "       [[ 1.25000500e+02,  0.00000000e+00, -1.24999500e+02],\n",
       "        [ 0.00000000e+00,  1.25000500e+02,  5.00000000e-01],\n",
       "        [ 0.00000000e+00,  0.00000000e+00,  1.00000000e+00]]]), angles=array([[-0.22918281,  0.45836562],\n",
       "       [-0.22918281,  0.45836562],\n",
       "       [-0.22918281,  0.45836562]])), closed=array(False)), location=array([[0.],\n",
       "       [0.],\n",
       "       [1.]])),), text=None), style=None, transform=array([[1., 0., 0.],\n",
       "       [0., 1., 0.],\n",
       "       [0., 0., 1.]]), order=None)"
      ]
     },
     "execution_count": 20,
     "metadata": {},
     "output_type": "execute_result"
    }
   ],
   "source": [
    "make_path([(0, 0), (0, 1), (1, 1), (1, 2)])"
   ]
  }
 ],
 "metadata": {
  "jupytext": {
   "cell_metadata_filter": "tags,-all"
  },
  "kernelspec": {
   "display_name": "chalk",
   "language": "python",
   "name": "chalk"
  },
  "language_info": {
   "codemirror_mode": {
    "name": "ipython",
    "version": 3
   },
   "file_extension": ".py",
   "mimetype": "text/x-python",
   "name": "python",
   "nbconvert_exporter": "python",
   "pygments_lexer": "ipython3",
   "version": "3.12.4"
  }
 },
 "nbformat": 4,
 "nbformat_minor": 5
}
