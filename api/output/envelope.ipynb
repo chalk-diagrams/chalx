{
 "cells": [
  {
   "cell_type": "code",
   "execution_count": 1,
   "id": "2511c725",
   "metadata": {
    "execution": {
     "iopub.execute_input": "2024-08-07T15:18:55.128890Z",
     "iopub.status.busy": "2024-08-07T15:18:55.128779Z",
     "iopub.status.idle": "2024-08-07T15:18:55.695922Z",
     "shell.execute_reply": "2024-08-07T15:18:55.695475Z"
    }
   },
   "outputs": [],
   "source": [
    "# from jaxtyping import install_import_hook\n",
    "# with install_import_hook(\"chalk\", \"typeguard.typechecked\"):\n",
    "#     import chalk \n",
    "from chalk import *\n",
    "import numpy as np"
   ]
  },
  {
   "cell_type": "code",
   "execution_count": 2,
   "id": "a89ec2fb",
   "metadata": {
    "execution": {
     "iopub.execute_input": "2024-08-07T15:18:55.698694Z",
     "iopub.status.busy": "2024-08-07T15:18:55.698545Z",
     "iopub.status.idle": "2024-08-07T15:18:55.734609Z",
     "shell.execute_reply": "2024-08-07T15:18:55.734173Z"
    },
    "lines_to_next_cell": 2
   },
   "outputs": [
    {
     "name": "stdout",
     "output_type": "stream",
     "text": [
      "(5, 3, 1)\n"
     ]
    },
    {
     "data": {
      "text/plain": [
       "array([0.70710678, 0.35355339, 0.23570226, 0.1767767 , 0.14142136])"
      ]
     },
     "execution_count": 2,
     "metadata": {},
     "output_type": "execute_result"
    }
   ],
   "source": [
    "env = circle(1).get_envelope()\n",
    "print(V2(np.arange(1, 6), np.arange(1, 6)).shape)\n",
    "env(V2(np.arange(1, 6), np.arange(1, 6)))"
   ]
  },
  {
   "cell_type": "code",
   "execution_count": 3,
   "id": "0e8584cf",
   "metadata": {
    "execution": {
     "iopub.execute_input": "2024-08-07T15:18:55.736650Z",
     "iopub.status.busy": "2024-08-07T15:18:55.736448Z",
     "iopub.status.idle": "2024-08-07T15:18:56.525441Z",
     "shell.execute_reply": "2024-08-07T15:18:56.524994Z"
    },
    "lines_to_next_cell": 2
   },
   "outputs": [
    {
     "name": "stdout",
     "output_type": "stream",
     "text": [
      "() StyleHolder(base=array([0., 0., 0., 0., 0., 0., 1., 0., 0., 0., 0., 0.]), mask=array([False, False, False, False,  True,  True,  True, False, False,\n",
      "       False, False, False]))\n",
      "() StyleHolder(base=array([0., 0., 0., 0., 0., 0., 0., 0., 0., 0., 0., 0.]), mask=array([False, False, False, False, False, False, False, False, False,\n",
      "       False, False, False]))\n",
      "() StyleHolder(base=array([0., 0., 0., 0., 0., 0., 1., 0., 0., 0., 0., 0.]), mask=array([False, False, False, False,  True,  True,  True, False, False,\n",
      "       False, False, False]))\n",
      "() StyleHolder(base=array([0., 0., 0., 0., 0., 0., 0., 0., 0., 0., 0., 0.]), mask=array([False, False, False, False, False, False, False, False, False,\n",
      "       False, False, False]))\n"
     ]
    },
    {
     "data": {
      "image/svg+xml": [
       "<?xml version=\"1.0\" encoding=\"utf-8\" ?>\n",
       "<svg baseProfile=\"full\" height=\"200\" version=\"1.1\" width=\"200\" xmlns=\"http://www.w3.org/2000/svg\" xmlns:ev=\"http://www.w3.org/2001/xml-events\" xmlns:xlink=\"http://www.w3.org/1999/xlink\"><defs /><g style=\"fill-opacity: 1.0;stroke: rgb(0.0 0.0 0.0);fill: rgb(256.0 256.0 256.0);stroke-width: 0.6000000000000001;\"><path d=\"M 195.2380952380941 99.99999999999818 C 195.2380952380941 47.75392663286869 152.24607336712904 4.7619047619036365 99.99999999999955 4.7619047619036365 C 47.753926632870076 4.7619047619036365 4.761904761905015 47.753926632868705 4.761904761905015 99.9999999999982 C 4.761904761905015 152.24607336712765 47.753926632870076 195.2380952380927 99.99999999999957 195.2380952380927 C 152.24607336712904 195.23809523809274 195.2380952380941 152.24607336712768 195.2380952380941 99.99999999999818\" style=\"vector-effect: non-scaling-stroke;\" /></g><g style=\"fill-opacity: 0.0;stroke: rgb(256.0 0.0 0.0);fill: rgb(256.0 256.0 256.0);stroke-width: 0.6000000000000001;\"><path d=\"M 195.2380952380941 99.99999999999818 C 186.05727934349187 122.49627576128802 176.75895493649892 144.9444166519952 167.34350297014805 167.34350297014532 C 144.9444166519975 176.7589549364979 122.49627576129048 186.05727934349017 100.0000000000009 195.23809523809408 C 77.50372423871107 186.05727934349187 55.05558334800387 176.75895493649892 32.65649702985374 167.34350297014805 C 23.24104506350116 144.94441665199716 13.94272065650891 122.49627576129012 4.761904761905001 100.00000000000055 C 13.942720656507205 77.50372423871073 23.241045063500167 55.055583348003516 32.656497029851025 32.656497029853384 C 55.05558334800226 23.241045063501147 77.5037242387093 13.94272065650891 99.99999999999886 4.761904761904987 C 122.49627576128904 13.942720656507191 144.94441665199622 23.241045063500152 167.34350297014637 32.65649702985101 C 176.75895493649793 55.05558334800191 186.05727934349017 77.50372423870894 195.2380952380941 99.99999999999852\" style=\"vector-effect: non-scaling-stroke;\" /></g><g style=\"fill-opacity: 1.0;stroke: rgb(0.0 0.0 256.0);fill: rgb(256.0 256.0 256.0);stroke-width: 0.6000000000000001;\"><path d=\"M 99.99999999999955 99.99999999999818 C 131.7459047617778 99.8730158730139 163.49219047631726 99.8730158730139 195.23809523809481 99.99999999999683\" style=\"vector-effect: non-scaling-stroke;\" /></g><g style=\"fill-opacity: 1.0;stroke: rgb(0.0 0.0 256.0);fill: rgb(256.0 256.0 256.0);stroke-width: 0.6000000000000001;\"><path d=\"M 99.99999999999955 99.99999999999818 C 122.53753586924927 122.35795319465943 144.98554977548574 144.80596710089588 167.34350297014805 167.343502970144\" style=\"vector-effect: non-scaling-stroke;\" /></g><g style=\"fill-opacity: 1.0;stroke: rgb(0.0 0.0 256.0);fill: rgb(256.0 256.0 256.0);stroke-width: 0.6000000000000001;\"><path d=\"M 99.99999999999955 99.99999999999818 C 100.12698412698383 131.74590476177644 100.12698412698383 163.4921904763159 100.0000000000009 195.23809523809345\" style=\"vector-effect: non-scaling-stroke;\" /></g><g style=\"fill-opacity: 1.0;stroke: rgb(0.0 0.0 256.0);fill: rgb(256.0 256.0 256.0);stroke-width: 0.6000000000000001;\"><path d=\"M 99.99999999999955 99.99999999999818 C 77.64204680533695 122.5375358692479 55.19403289910048 144.98554977548437 32.65649702985239 167.3435029701467\" style=\"vector-effect: non-scaling-stroke;\" /></g><g style=\"fill-opacity: 1.0;stroke: rgb(0.0 0.0 256.0);fill: rgb(256.0 256.0 256.0);stroke-width: 0.6000000000000001;\"><path d=\"M 99.99999999999955 99.99999999999818 C 68.25409523822127 100.12698412698246 36.50780952368182 100.12698412698246 4.761904761904276 99.99999999999953\" style=\"vector-effect: non-scaling-stroke;\" /></g><g style=\"fill-opacity: 1.0;stroke: rgb(0.0 0.0 256.0);fill: rgb(256.0 256.0 256.0);stroke-width: 0.6000000000000001;\"><path d=\"M 99.99999999999955 99.99999999999818 C 77.46246413074982 77.64204680533693 55.014450224513354 55.19403289910046 32.65649702985101 32.65649702985239\" style=\"vector-effect: non-scaling-stroke;\" /></g><g style=\"fill-opacity: 1.0;stroke: rgb(0.0 0.0 256.0);fill: rgb(256.0 256.0 256.0);stroke-width: 0.6000000000000001;\"><path d=\"M 99.99999999999955 99.99999999999818 C 99.87301587301526 68.2540952382199 99.87301587301526 36.50780952368046 99.99999999999818 4.761904761902912\" style=\"vector-effect: non-scaling-stroke;\" /></g><g style=\"fill-opacity: 1.0;stroke: rgb(0.0 0.0 256.0);fill: rgb(256.0 256.0 256.0);stroke-width: 0.6000000000000001;\"><path d=\"M 99.99999999999955 99.99999999999818 C 122.3579531946608 77.46246413074846 144.80596710089725 55.01445022451199 167.34350297014535 32.65649702984966\" style=\"vector-effect: non-scaling-stroke;\" /></g><g style=\"fill-opacity: 1.0;stroke: rgb(0.0 0.0 256.0);fill: rgb(256.0 256.0 256.0);stroke-width: 0.6000000000000001;\"><path d=\"M 99.99999999999955 99.99999999999818 C 131.7459047617778 99.8730158730139 163.49219047631726 99.8730158730139 195.23809523809481 99.99999999999682\" style=\"vector-effect: non-scaling-stroke;\" /></g></svg>"
      ],
      "text/html": [
       "<?xml version=\"1.0\" encoding=\"utf-8\" ?>\n",
       "<svg baseProfile=\"full\" height=\"200\" version=\"1.1\" width=\"200\" xmlns=\"http://www.w3.org/2000/svg\" xmlns:ev=\"http://www.w3.org/2001/xml-events\" xmlns:xlink=\"http://www.w3.org/1999/xlink\"><defs /><g style=\"fill-opacity: 1.0;stroke: rgb(0.0 0.0 0.0);fill: rgb(256.0 256.0 256.0);stroke-width: 0.6000000000000001;\"><path d=\"M 195.2380952380941 99.99999999999818 C 195.2380952380941 47.75392663286869 152.24607336712904 4.7619047619036365 99.99999999999955 4.7619047619036365 C 47.753926632870076 4.7619047619036365 4.761904761905015 47.753926632868705 4.761904761905015 99.9999999999982 C 4.761904761905015 152.24607336712765 47.753926632870076 195.2380952380927 99.99999999999957 195.2380952380927 C 152.24607336712904 195.23809523809274 195.2380952380941 152.24607336712768 195.2380952380941 99.99999999999818\" style=\"vector-effect: non-scaling-stroke;\" /></g><g style=\"fill-opacity: 0.0;stroke: rgb(256.0 0.0 0.0);fill: rgb(256.0 256.0 256.0);stroke-width: 0.6000000000000001;\"><path d=\"M 195.2380952380941 99.99999999999818 C 186.05727934349187 122.49627576128802 176.75895493649892 144.9444166519952 167.34350297014805 167.34350297014532 C 144.9444166519975 176.7589549364979 122.49627576129048 186.05727934349017 100.0000000000009 195.23809523809408 C 77.50372423871107 186.05727934349187 55.05558334800387 176.75895493649892 32.65649702985374 167.34350297014805 C 23.24104506350116 144.94441665199716 13.94272065650891 122.49627576129012 4.761904761905001 100.00000000000055 C 13.942720656507205 77.50372423871073 23.241045063500167 55.055583348003516 32.656497029851025 32.656497029853384 C 55.05558334800226 23.241045063501147 77.5037242387093 13.94272065650891 99.99999999999886 4.761904761904987 C 122.49627576128904 13.942720656507191 144.94441665199622 23.241045063500152 167.34350297014637 32.65649702985101 C 176.75895493649793 55.05558334800191 186.05727934349017 77.50372423870894 195.2380952380941 99.99999999999852\" style=\"vector-effect: non-scaling-stroke;\" /></g><g style=\"fill-opacity: 1.0;stroke: rgb(0.0 0.0 256.0);fill: rgb(256.0 256.0 256.0);stroke-width: 0.6000000000000001;\"><path d=\"M 99.99999999999955 99.99999999999818 C 131.7459047617778 99.8730158730139 163.49219047631726 99.8730158730139 195.23809523809481 99.99999999999683\" style=\"vector-effect: non-scaling-stroke;\" /></g><g style=\"fill-opacity: 1.0;stroke: rgb(0.0 0.0 256.0);fill: rgb(256.0 256.0 256.0);stroke-width: 0.6000000000000001;\"><path d=\"M 99.99999999999955 99.99999999999818 C 122.53753586924927 122.35795319465943 144.98554977548574 144.80596710089588 167.34350297014805 167.343502970144\" style=\"vector-effect: non-scaling-stroke;\" /></g><g style=\"fill-opacity: 1.0;stroke: rgb(0.0 0.0 256.0);fill: rgb(256.0 256.0 256.0);stroke-width: 0.6000000000000001;\"><path d=\"M 99.99999999999955 99.99999999999818 C 100.12698412698383 131.74590476177644 100.12698412698383 163.4921904763159 100.0000000000009 195.23809523809345\" style=\"vector-effect: non-scaling-stroke;\" /></g><g style=\"fill-opacity: 1.0;stroke: rgb(0.0 0.0 256.0);fill: rgb(256.0 256.0 256.0);stroke-width: 0.6000000000000001;\"><path d=\"M 99.99999999999955 99.99999999999818 C 77.64204680533695 122.5375358692479 55.19403289910048 144.98554977548437 32.65649702985239 167.3435029701467\" style=\"vector-effect: non-scaling-stroke;\" /></g><g style=\"fill-opacity: 1.0;stroke: rgb(0.0 0.0 256.0);fill: rgb(256.0 256.0 256.0);stroke-width: 0.6000000000000001;\"><path d=\"M 99.99999999999955 99.99999999999818 C 68.25409523822127 100.12698412698246 36.50780952368182 100.12698412698246 4.761904761904276 99.99999999999953\" style=\"vector-effect: non-scaling-stroke;\" /></g><g style=\"fill-opacity: 1.0;stroke: rgb(0.0 0.0 256.0);fill: rgb(256.0 256.0 256.0);stroke-width: 0.6000000000000001;\"><path d=\"M 99.99999999999955 99.99999999999818 C 77.46246413074982 77.64204680533693 55.014450224513354 55.19403289910046 32.65649702985101 32.65649702985239\" style=\"vector-effect: non-scaling-stroke;\" /></g><g style=\"fill-opacity: 1.0;stroke: rgb(0.0 0.0 256.0);fill: rgb(256.0 256.0 256.0);stroke-width: 0.6000000000000001;\"><path d=\"M 99.99999999999955 99.99999999999818 C 99.87301587301526 68.2540952382199 99.87301587301526 36.50780952368046 99.99999999999818 4.761904761902912\" style=\"vector-effect: non-scaling-stroke;\" /></g><g style=\"fill-opacity: 1.0;stroke: rgb(0.0 0.0 256.0);fill: rgb(256.0 256.0 256.0);stroke-width: 0.6000000000000001;\"><path d=\"M 99.99999999999955 99.99999999999818 C 122.3579531946608 77.46246413074846 144.80596710089725 55.01445022451199 167.34350297014535 32.65649702984966\" style=\"vector-effect: non-scaling-stroke;\" /></g><g style=\"fill-opacity: 1.0;stroke: rgb(0.0 0.0 256.0);fill: rgb(256.0 256.0 256.0);stroke-width: 0.6000000000000001;\"><path d=\"M 99.99999999999955 99.99999999999818 C 131.7459047617778 99.8730158730139 163.49219047631726 99.8730158730139 195.23809523809481 99.99999999999682\" style=\"vector-effect: non-scaling-stroke;\" /></g></svg>"
      ],
      "text/plain": [
       "Compose(envelope=None, diagrams=(Primitive(prim_shape=Path(loc_trails=(Located(trail=Trail(segments=Segment(transform=array([[[ 1.0000000e+00,  0.0000000e+00, -1.0000000e+00],\n",
       "        [ 0.0000000e+00,  1.0000000e+00,  0.0000000e+00],\n",
       "        [ 0.0000000e+00,  0.0000000e+00,  1.0000000e+00]],\n",
       "\n",
       "       [[ 6.1232340e-17,  1.0000000e+00, -6.1232340e-17],\n",
       "        [-1.0000000e+00,  6.1232340e-17,  1.0000000e+00],\n",
       "        [ 0.0000000e+00,  0.0000000e+00,  1.0000000e+00]],\n",
       "\n",
       "       [[-1.0000000e+00,  1.2246468e-16,  1.0000000e+00],\n",
       "        [-1.2246468e-16, -1.0000000e+00,  1.2246468e-16],\n",
       "        [ 0.0000000e+00,  0.0000000e+00,  1.0000000e+00]],\n",
       "\n",
       "       [[-1.8369702e-16, -1.0000000e+00,  1.8369702e-16],\n",
       "        [ 1.0000000e+00, -1.8369702e-16, -1.0000000e+00],\n",
       "        [ 0.0000000e+00,  0.0000000e+00,  1.0000000e+00]]]), angles=array([[  0., -90.],\n",
       "       [  0., -90.],\n",
       "       [  0., -90.],\n",
       "       [  0., -90.]])), closed=array(True)), location=array([[0.],\n",
       "       [0.],\n",
       "       [1.]])),), text=None), style=None, transform=array([[1., 0., 1.],\n",
       "       [0., 1., 0.],\n",
       "       [0., 0., 1.]]), order=None), Primitive(prim_shape=Path(loc_trails=(Located(trail=Trail(segments=Segment(transform=array([[[ 67.64997446, -28.02153691, -67.79549719],\n",
       "        [ 28.02153691,  67.64997446, -27.66760084],\n",
       "        [  0.        ,   0.        ,   1.        ]],\n",
       "\n",
       "       [[ 28.02153691, -67.64997446, -28.37470762],\n",
       "        [ 67.64997446,  28.02153691, -67.50260397],\n",
       "        [  0.        ,   0.        ,   1.        ]],\n",
       "\n",
       "       [[-28.02153691, -67.64997446,  27.66760084],\n",
       "        [ 67.64997446, -28.02153691, -67.79549719],\n",
       "        [  0.        ,   0.        ,   1.        ]],\n",
       "\n",
       "       [[-67.64997446, -28.02153691,  67.50260397],\n",
       "        [ 28.02153691, -67.64997446, -28.37470762],\n",
       "        [  0.        ,   0.        ,   1.        ]],\n",
       "\n",
       "       [[-67.64997446,  28.02153691,  67.79549719],\n",
       "        [-28.02153691, -67.64997446,  27.66760084],\n",
       "        [  0.        ,   0.        ,   1.        ]],\n",
       "\n",
       "       [[-28.02153691,  67.64997446,  28.37470762],\n",
       "        [-67.64997446, -28.02153691,  67.50260397],\n",
       "        [  0.        ,   0.        ,   1.        ]],\n",
       "\n",
       "       [[ 28.02153691,  67.64997446, -27.66760084],\n",
       "        [-67.64997446,  28.02153691,  67.79549719],\n",
       "        [  0.        ,   0.        ,   1.        ]],\n",
       "\n",
       "       [[ 67.64997446,  28.02153691, -67.50260397],\n",
       "        [-28.02153691,  67.64997446,  28.37470762],\n",
       "        [  0.        ,   0.        ,   1.        ]]]), angles=array([[-0.29944149,  0.59888299],\n",
       "       [-0.29944149,  0.59888299],\n",
       "       [-0.29944149,  0.59888299],\n",
       "       [-0.29944149,  0.59888299],\n",
       "       [-0.29944149,  0.59888299],\n",
       "       [-0.29944149,  0.59888299],\n",
       "       [-0.29944149,  0.59888299],\n",
       "       [-0.29944149,  0.59888299]])), closed=array(False)), location=array([[1.],\n",
       "       [0.],\n",
       "       [1.]])),), text=None), style=StyleHolder(base=array([0., 0., 0., 0., 1., 0., 0., 0., 0., 0., 0., 0.]), mask=array([False, False, False,  True,  True,  True,  True, False, False,\n",
       "       False, False, False])), transform=array([[1., 0., 0.],\n",
       "       [0., 1., 0.],\n",
       "       [0., 0., 1.]]), order=None), ApplyStyle(style=StyleHolder(base=array([0., 0., 0., 0., 0., 0., 1., 0., 0., 0., 0., 0.]), mask=array([False, False, False, False,  True,  True,  True, False, False,\n",
       "       False, False, False])), diagram=Compose(envelope=None, diagrams=(Compose(envelope=None, diagrams=(Primitive(prim_shape=Path(loc_trails=(Located(trail=Trail(segments=Segment(transform=array([[[ 7.65407311e-15,  1.25000500e+02,  5.00000000e-01],\n",
       "        [-1.25000500e+02,  7.65407311e-15,  1.24999500e+02],\n",
       "        [ 0.00000000e+00,  0.00000000e+00,  1.00000000e+00]]]), angles=array([[-0.22918281,  0.45836562]])), closed=array(False)), location=array([[0.],\n",
       "       [0.],\n",
       "       [1.]])),), text=None), style=None, transform=array([[1., 0., 0.],\n",
       "       [0., 1., 0.],\n",
       "       [0., 0., 1.]]), order=None), Primitive(prim_shape=Path(loc_trails=(Located(trail=Trail(segments=Segment(transform=array([[[ 88.3887012 ,  88.3887012 , -88.0344407 ],\n",
       "        [-88.3887012 ,  88.3887012 ,  88.74154749],\n",
       "        [  0.        ,   0.        ,   1.        ]]]), angles=array([[-0.22918281,  0.45836562]])), closed=array(False)), location=array([[0.],\n",
       "       [0.],\n",
       "       [1.]])),), text=None), style=None, transform=array([[1., 0., 0.],\n",
       "       [0., 1., 0.],\n",
       "       [0., 0., 1.]]), order=None), Primitive(prim_shape=Path(loc_trails=(Located(trail=Trail(segments=Segment(transform=array([[[ 125.0005,    0.    , -124.9995],\n",
       "        [   0.    ,  125.0005,    0.5   ],\n",
       "        [   0.    ,    0.    ,    1.    ]]]), angles=array([[-0.22918281,  0.45836562]])), closed=array(False)), location=array([[0.],\n",
       "       [0.],\n",
       "       [1.]])),), text=None), style=None, transform=array([[1., 0., 0.],\n",
       "       [0., 1., 0.],\n",
       "       [0., 0., 1.]]), order=None), Primitive(prim_shape=Path(loc_trails=(Located(trail=Trail(segments=Segment(transform=array([[[ 88.3887012 , -88.3887012 , -88.74154749],\n",
       "        [ 88.3887012 ,  88.3887012 , -88.0344407 ],\n",
       "        [  0.        ,   0.        ,   1.        ]]]), angles=array([[-0.22918281,  0.45836562]])), closed=array(False)), location=array([[0.],\n",
       "       [0.],\n",
       "       [1.]])),), text=None), style=None, transform=array([[1., 0., 0.],\n",
       "       [0., 1., 0.],\n",
       "       [0., 0., 1.]]), order=None), Primitive(prim_shape=Path(loc_trails=(Located(trail=Trail(segments=Segment(transform=array([[[ 7.65407311e-15, -1.25000500e+02, -5.00000000e-01],\n",
       "        [ 1.25000500e+02,  7.65407311e-15, -1.24999500e+02],\n",
       "        [ 0.00000000e+00,  0.00000000e+00,  1.00000000e+00]]]), angles=array([[-0.22918281,  0.45836562]])), closed=array(False)), location=array([[0.],\n",
       "       [0.],\n",
       "       [1.]])),), text=None), style=None, transform=array([[1., 0., 0.],\n",
       "       [0., 1., 0.],\n",
       "       [0., 0., 1.]]), order=None), Primitive(prim_shape=Path(loc_trails=(Located(trail=Trail(segments=Segment(transform=array([[[-88.3887012 , -88.3887012 ,  88.0344407 ],\n",
       "        [ 88.3887012 , -88.3887012 , -88.74154749],\n",
       "        [  0.        ,   0.        ,   1.        ]]]), angles=array([[-0.22918281,  0.45836562]])), closed=array(False)), location=array([[0.],\n",
       "       [0.],\n",
       "       [1.]])),), text=None), style=None, transform=array([[1., 0., 0.],\n",
       "       [0., 1., 0.],\n",
       "       [0., 0., 1.]]), order=None), Primitive(prim_shape=Path(loc_trails=(Located(trail=Trail(segments=Segment(transform=array([[[-1.25000500e+02, -1.24475404e-14,  1.24999500e+02],\n",
       "        [ 1.24475404e-14, -1.25000500e+02, -5.00000000e-01],\n",
       "        [ 0.00000000e+00,  0.00000000e+00,  1.00000000e+00]]]), angles=array([[-0.22918281,  0.45836562]])), closed=array(False)), location=array([[0.],\n",
       "       [0.],\n",
       "       [1.]])),), text=None), style=None, transform=array([[1., 0., 0.],\n",
       "       [0., 1., 0.],\n",
       "       [0., 0., 1.]]), order=None), Primitive(prim_shape=Path(loc_trails=(Located(trail=Trail(segments=Segment(transform=array([[[-88.3887012 ,  88.3887012 ,  88.74154749],\n",
       "        [-88.3887012 , -88.3887012 ,  88.0344407 ],\n",
       "        [  0.        ,   0.        ,   1.        ]]]), angles=array([[-0.22918281,  0.45836562]])), closed=array(False)), location=array([[0.],\n",
       "       [0.],\n",
       "       [1.]])),), text=None), style=None, transform=array([[1., 0., 0.],\n",
       "       [0., 1., 0.],\n",
       "       [0., 0., 1.]]), order=None))), Primitive(prim_shape=Path(loc_trails=(Located(trail=Trail(segments=Segment(transform=array([[[-2.29622193e-14,  1.25000500e+02,  5.00000000e-01],\n",
       "        [-1.25000500e+02, -2.29622193e-14,  1.24999500e+02],\n",
       "        [ 0.00000000e+00,  0.00000000e+00,  1.00000000e+00]]]), angles=array([[-0.22918281,  0.45836562]])), closed=array(False)), location=array([[0.],\n",
       "       [0.],\n",
       "       [1.]])),), text=None), style=None, transform=array([[1., 0., 0.],\n",
       "       [0., 1., 0.],\n",
       "       [0., 0., 1.]]), order=None))))))"
      ]
     },
     "execution_count": 3,
     "metadata": {},
     "output_type": "execute_result"
    }
   ],
   "source": [
    "circle(1).show_envelope()"
   ]
  },
  {
   "cell_type": "code",
   "execution_count": 4,
   "id": "57ae9926",
   "metadata": {
    "execution": {
     "iopub.execute_input": "2024-08-07T15:18:56.527218Z",
     "iopub.status.busy": "2024-08-07T15:18:56.527104Z",
     "iopub.status.idle": "2024-08-07T15:18:56.551082Z",
     "shell.execute_reply": "2024-08-07T15:18:56.550845Z"
    }
   },
   "outputs": [
    {
     "name": "stdout",
     "output_type": "stream",
     "text": [
      "2.003999999999678 4.007999999999356\n"
     ]
    }
   ],
   "source": [
    "r = rectangle(2, 4)\n",
    "env = r.get_envelope()\n",
    "print(env.width, env.height)\n",
    "assert int(env.width) == 2\n",
    "assert int(env.height) == 4"
   ]
  },
  {
   "cell_type": "code",
   "execution_count": null,
   "id": "95060b11",
   "metadata": {},
   "outputs": [],
   "source": []
  },
  {
   "cell_type": "code",
   "execution_count": 5,
   "id": "dad61822",
   "metadata": {
    "execution": {
     "iopub.execute_input": "2024-08-07T15:18:56.552481Z",
     "iopub.status.busy": "2024-08-07T15:18:56.552374Z",
     "iopub.status.idle": "2024-08-07T15:18:56.607624Z",
     "shell.execute_reply": "2024-08-07T15:18:56.607330Z"
    },
    "lines_to_next_cell": 2
   },
   "outputs": [],
   "source": [
    "r = r | rectangle(5, 3)\n",
    "env = r.get_envelope()\n",
    "assert int(env.width) == 2 + 5\n",
    "assert int(env.height) == 4"
   ]
  },
  {
   "cell_type": "code",
   "execution_count": 6,
   "id": "69d0618d",
   "metadata": {
    "execution": {
     "iopub.execute_input": "2024-08-07T15:18:56.609060Z",
     "iopub.status.busy": "2024-08-07T15:18:56.608960Z",
     "iopub.status.idle": "2024-08-07T15:18:56.770012Z",
     "shell.execute_reply": "2024-08-07T15:18:56.769599Z"
    },
    "lines_to_next_cell": 2
   },
   "outputs": [
    {
     "ename": "AssertionError",
     "evalue": "Must be a size () diagram",
     "output_type": "error",
     "traceback": [
      "\u001b[0;31m---------------------------------------------------------------------------\u001b[0m",
      "\u001b[0;31mAssertionError\u001b[0m                            Traceback (most recent call last)",
      "File \u001b[0;32m~/Projects/chalk/.venv12/lib/python3.12/site-packages/IPython/core/formatters.py:347\u001b[0m, in \u001b[0;36mBaseFormatter.__call__\u001b[0;34m(self, obj)\u001b[0m\n\u001b[1;32m    345\u001b[0m     method \u001b[38;5;241m=\u001b[39m get_real_method(obj, \u001b[38;5;28mself\u001b[39m\u001b[38;5;241m.\u001b[39mprint_method)\n\u001b[1;32m    346\u001b[0m     \u001b[38;5;28;01mif\u001b[39;00m method \u001b[38;5;129;01mis\u001b[39;00m \u001b[38;5;129;01mnot\u001b[39;00m \u001b[38;5;28;01mNone\u001b[39;00m:\n\u001b[0;32m--> 347\u001b[0m         \u001b[38;5;28;01mreturn\u001b[39;00m \u001b[43mmethod\u001b[49m\u001b[43m(\u001b[49m\u001b[43m)\u001b[49m\n\u001b[1;32m    348\u001b[0m     \u001b[38;5;28;01mreturn\u001b[39;00m \u001b[38;5;28;01mNone\u001b[39;00m\n\u001b[1;32m    349\u001b[0m \u001b[38;5;28;01melse\u001b[39;00m:\n",
      "    \u001b[0;31m[... skipping hidden 1 frame]\u001b[0m\n",
      "File \u001b[0;32m~/Projects/chalk/.venv12/lib/python3.12/site-packages/jaxtyping/_decorator.py:449\u001b[0m, in \u001b[0;36mjaxtyped.<locals>.wrapped_fn_impl\u001b[0;34m(args, kwargs, bound, memos)\u001b[0m\n\u001b[1;32m    446\u001b[0m             \u001b[38;5;28;01mraise\u001b[39;00m TypeCheckError(msg) \u001b[38;5;28;01mfrom\u001b[39;00m \u001b[38;5;21;01me\u001b[39;00m\n\u001b[1;32m    448\u001b[0m \u001b[38;5;66;03m# Actually call the function.\u001b[39;00m\n\u001b[0;32m--> 449\u001b[0m out \u001b[38;5;241m=\u001b[39m \u001b[43mfn\u001b[49m\u001b[43m(\u001b[49m\u001b[38;5;241;43m*\u001b[39;49m\u001b[43margs\u001b[49m\u001b[43m,\u001b[49m\u001b[43m \u001b[49m\u001b[38;5;241;43m*\u001b[39;49m\u001b[38;5;241;43m*\u001b[39;49m\u001b[43mkwargs\u001b[49m\u001b[43m)\u001b[49m\n\u001b[1;32m    451\u001b[0m \u001b[38;5;28;01mif\u001b[39;00m full_signature\u001b[38;5;241m.\u001b[39mreturn_annotation \u001b[38;5;129;01mis\u001b[39;00m \u001b[38;5;129;01mnot\u001b[39;00m inspect\u001b[38;5;241m.\u001b[39mSignature\u001b[38;5;241m.\u001b[39mempty:\n\u001b[1;32m    452\u001b[0m     \u001b[38;5;66;03m# Now type-check the return value. We need to include the\u001b[39;00m\n\u001b[1;32m    453\u001b[0m     \u001b[38;5;66;03m# parameters in the type-checking here in case there are any\u001b[39;00m\n\u001b[0;32m   (...)\u001b[0m\n\u001b[1;32m    464\u001b[0m     \u001b[38;5;66;03m# checking of the parameters. Unfortunately there doesn't seem\u001b[39;00m\n\u001b[1;32m    465\u001b[0m     \u001b[38;5;66;03m# to be a way around that, so c'est la vie.\u001b[39;00m\n\u001b[1;32m    466\u001b[0m     kwargs[output_name] \u001b[38;5;241m=\u001b[39m out\n",
      "File \u001b[0;32m~/Projects/chalk/chalk/core.py:223\u001b[0m, in \u001b[0;36mBaseDiagram._repr_html_\u001b[0;34m(self)\u001b[0m\n\u001b[1;32m    221\u001b[0m \u001b[38;5;28;01mdef\u001b[39;00m \u001b[38;5;21m_repr_html_\u001b[39m(\u001b[38;5;28mself\u001b[39m) \u001b[38;5;241m-\u001b[39m\u001b[38;5;241m>\u001b[39m \u001b[38;5;28mstr\u001b[39m \u001b[38;5;241m|\u001b[39m \u001b[38;5;28mtuple\u001b[39m[\u001b[38;5;28mstr\u001b[39m, Any]:\n\u001b[1;32m    222\u001b[0m \u001b[38;5;250m    \u001b[39m\u001b[38;5;124;03m\"\"\"Returns a rich HTML representation of an object.\"\"\"\u001b[39;00m\n\u001b[0;32m--> 223\u001b[0m     \u001b[38;5;28;01mreturn\u001b[39;00m \u001b[38;5;28;43mself\u001b[39;49m\u001b[38;5;241;43m.\u001b[39;49m\u001b[43m_repr_svg_\u001b[49m\u001b[43m(\u001b[49m\u001b[43m)\u001b[49m\n",
      "    \u001b[0;31m[... skipping hidden 1 frame]\u001b[0m\n",
      "File \u001b[0;32m~/Projects/chalk/.venv12/lib/python3.12/site-packages/jaxtyping/_decorator.py:449\u001b[0m, in \u001b[0;36mjaxtyped.<locals>.wrapped_fn_impl\u001b[0;34m(args, kwargs, bound, memos)\u001b[0m\n\u001b[1;32m    446\u001b[0m             \u001b[38;5;28;01mraise\u001b[39;00m TypeCheckError(msg) \u001b[38;5;28;01mfrom\u001b[39;00m \u001b[38;5;21;01me\u001b[39;00m\n\u001b[1;32m    448\u001b[0m \u001b[38;5;66;03m# Actually call the function.\u001b[39;00m\n\u001b[0;32m--> 449\u001b[0m out \u001b[38;5;241m=\u001b[39m \u001b[43mfn\u001b[49m\u001b[43m(\u001b[49m\u001b[38;5;241;43m*\u001b[39;49m\u001b[43margs\u001b[49m\u001b[43m,\u001b[49m\u001b[43m \u001b[49m\u001b[38;5;241;43m*\u001b[39;49m\u001b[38;5;241;43m*\u001b[39;49m\u001b[43mkwargs\u001b[49m\u001b[43m)\u001b[49m\n\u001b[1;32m    451\u001b[0m \u001b[38;5;28;01mif\u001b[39;00m full_signature\u001b[38;5;241m.\u001b[39mreturn_annotation \u001b[38;5;129;01mis\u001b[39;00m \u001b[38;5;129;01mnot\u001b[39;00m inspect\u001b[38;5;241m.\u001b[39mSignature\u001b[38;5;241m.\u001b[39mempty:\n\u001b[1;32m    452\u001b[0m     \u001b[38;5;66;03m# Now type-check the return value. We need to include the\u001b[39;00m\n\u001b[1;32m    453\u001b[0m     \u001b[38;5;66;03m# parameters in the type-checking here in case there are any\u001b[39;00m\n\u001b[0;32m   (...)\u001b[0m\n\u001b[1;32m    464\u001b[0m     \u001b[38;5;66;03m# checking of the parameters. Unfortunately there doesn't seem\u001b[39;00m\n\u001b[1;32m    465\u001b[0m     \u001b[38;5;66;03m# to be a way around that, so c'est la vie.\u001b[39;00m\n\u001b[1;32m    466\u001b[0m     kwargs[output_name] \u001b[38;5;241m=\u001b[39m out\n",
      "File \u001b[0;32m~/Projects/chalk/chalk/core.py:215\u001b[0m, in \u001b[0;36mBaseDiagram._repr_svg_\u001b[0;34m(self)\u001b[0m\n\u001b[1;32m    213\u001b[0m \u001b[38;5;28;01mglobal\u001b[39;00m SVG_HEIGHT\n\u001b[1;32m    214\u001b[0m f \u001b[38;5;241m=\u001b[39m tempfile\u001b[38;5;241m.\u001b[39mNamedTemporaryFile(delete\u001b[38;5;241m=\u001b[39m\u001b[38;5;28;01mFalse\u001b[39;00m)\n\u001b[0;32m--> 215\u001b[0m \u001b[38;5;28;43mself\u001b[39;49m\u001b[38;5;241;43m.\u001b[39;49m\u001b[43mrender_svg\u001b[49m\u001b[43m(\u001b[49m\u001b[43mf\u001b[49m\u001b[38;5;241;43m.\u001b[39;49m\u001b[43mname\u001b[49m\u001b[43m,\u001b[49m\u001b[43m \u001b[49m\u001b[43mheight\u001b[49m\u001b[38;5;241;43m=\u001b[39;49m\u001b[43mSVG_HEIGHT\u001b[49m\u001b[43m,\u001b[49m\u001b[43m \u001b[49m\u001b[43mdraw_height\u001b[49m\u001b[38;5;241;43m=\u001b[39;49m\u001b[43mSVG_DRAW_HEIGHT\u001b[49m\u001b[43m)\u001b[49m\n\u001b[1;32m    216\u001b[0m f\u001b[38;5;241m.\u001b[39mclose()\n\u001b[1;32m    217\u001b[0m svg \u001b[38;5;241m=\u001b[39m \u001b[38;5;28mopen\u001b[39m(f\u001b[38;5;241m.\u001b[39mname)\u001b[38;5;241m.\u001b[39mread()\n",
      "    \u001b[0;31m[... skipping hidden 1 frame]\u001b[0m\n",
      "File \u001b[0;32m~/Projects/chalk/.venv12/lib/python3.12/site-packages/jaxtyping/_decorator.py:449\u001b[0m, in \u001b[0;36mjaxtyped.<locals>.wrapped_fn_impl\u001b[0;34m(args, kwargs, bound, memos)\u001b[0m\n\u001b[1;32m    446\u001b[0m             \u001b[38;5;28;01mraise\u001b[39;00m TypeCheckError(msg) \u001b[38;5;28;01mfrom\u001b[39;00m \u001b[38;5;21;01me\u001b[39;00m\n\u001b[1;32m    448\u001b[0m \u001b[38;5;66;03m# Actually call the function.\u001b[39;00m\n\u001b[0;32m--> 449\u001b[0m out \u001b[38;5;241m=\u001b[39m \u001b[43mfn\u001b[49m\u001b[43m(\u001b[49m\u001b[38;5;241;43m*\u001b[39;49m\u001b[43margs\u001b[49m\u001b[43m,\u001b[49m\u001b[43m \u001b[49m\u001b[38;5;241;43m*\u001b[39;49m\u001b[38;5;241;43m*\u001b[39;49m\u001b[43mkwargs\u001b[49m\u001b[43m)\u001b[49m\n\u001b[1;32m    451\u001b[0m \u001b[38;5;28;01mif\u001b[39;00m full_signature\u001b[38;5;241m.\u001b[39mreturn_annotation \u001b[38;5;129;01mis\u001b[39;00m \u001b[38;5;129;01mnot\u001b[39;00m inspect\u001b[38;5;241m.\u001b[39mSignature\u001b[38;5;241m.\u001b[39mempty:\n\u001b[1;32m    452\u001b[0m     \u001b[38;5;66;03m# Now type-check the return value. We need to include the\u001b[39;00m\n\u001b[1;32m    453\u001b[0m     \u001b[38;5;66;03m# parameters in the type-checking here in case there are any\u001b[39;00m\n\u001b[0;32m   (...)\u001b[0m\n\u001b[1;32m    464\u001b[0m     \u001b[38;5;66;03m# checking of the parameters. Unfortunately there doesn't seem\u001b[39;00m\n\u001b[1;32m    465\u001b[0m     \u001b[38;5;66;03m# to be a way around that, so c'est la vie.\u001b[39;00m\n\u001b[1;32m    466\u001b[0m     kwargs[output_name] \u001b[38;5;241m=\u001b[39m out\n",
      "File \u001b[0;32m~/Projects/chalk/chalk/backend/svg.py:100\u001b[0m, in \u001b[0;36mrender\u001b[0;34m(self, path, height, width, draw_height)\u001b[0m\n\u001b[1;32m     80\u001b[0m \u001b[38;5;28;01mdef\u001b[39;00m \u001b[38;5;21mrender\u001b[39m(\n\u001b[1;32m     81\u001b[0m     \u001b[38;5;28mself\u001b[39m: Diagram,\n\u001b[1;32m     82\u001b[0m     path: \u001b[38;5;28mstr\u001b[39m,\n\u001b[0;32m   (...)\u001b[0m\n\u001b[1;32m     85\u001b[0m     draw_height: Optional[\u001b[38;5;28mint\u001b[39m] \u001b[38;5;241m=\u001b[39m \u001b[38;5;28;01mNone\u001b[39;00m,\n\u001b[1;32m     86\u001b[0m ) \u001b[38;5;241m-\u001b[39m\u001b[38;5;241m>\u001b[39m \u001b[38;5;28;01mNone\u001b[39;00m:\n\u001b[1;32m     87\u001b[0m \u001b[38;5;250m    \u001b[39m\u001b[38;5;124;03m\"\"\"Render the diagram to an SVG file.\u001b[39;00m\n\u001b[1;32m     88\u001b[0m \n\u001b[1;32m     89\u001b[0m \u001b[38;5;124;03m    Args:\u001b[39;00m\n\u001b[0;32m   (...)\u001b[0m\n\u001b[1;32m     98\u001b[0m \n\u001b[1;32m     99\u001b[0m \u001b[38;5;124;03m    \"\"\"\u001b[39;00m\n\u001b[0;32m--> 100\u001b[0m     \u001b[38;5;28;01massert\u001b[39;00m \u001b[38;5;28mself\u001b[39m\u001b[38;5;241m.\u001b[39msize() \u001b[38;5;241m==\u001b[39m (), \u001b[38;5;124m\"\u001b[39m\u001b[38;5;124mMust be a size () diagram\u001b[39m\u001b[38;5;124m\"\u001b[39m\n\u001b[1;32m    101\u001b[0m     patches, h, w \u001b[38;5;241m=\u001b[39m \u001b[38;5;28mself\u001b[39m\u001b[38;5;241m.\u001b[39mlayout(height, width)\n\u001b[1;32m    102\u001b[0m     patches_to_file(patches, path, h, w, draw_height)\n",
      "\u001b[0;31mAssertionError\u001b[0m: Must be a size () diagram"
     ]
    },
    {
     "ename": "AssertionError",
     "evalue": "Must be a size () diagram",
     "output_type": "error",
     "traceback": [
      "\u001b[0;31m---------------------------------------------------------------------------\u001b[0m",
      "\u001b[0;31mAssertionError\u001b[0m                            Traceback (most recent call last)",
      "File \u001b[0;32m~/Projects/chalk/.venv12/lib/python3.12/site-packages/IPython/core/formatters.py:347\u001b[0m, in \u001b[0;36mBaseFormatter.__call__\u001b[0;34m(self, obj)\u001b[0m\n\u001b[1;32m    345\u001b[0m     method \u001b[38;5;241m=\u001b[39m get_real_method(obj, \u001b[38;5;28mself\u001b[39m\u001b[38;5;241m.\u001b[39mprint_method)\n\u001b[1;32m    346\u001b[0m     \u001b[38;5;28;01mif\u001b[39;00m method \u001b[38;5;129;01mis\u001b[39;00m \u001b[38;5;129;01mnot\u001b[39;00m \u001b[38;5;28;01mNone\u001b[39;00m:\n\u001b[0;32m--> 347\u001b[0m         \u001b[38;5;28;01mreturn\u001b[39;00m \u001b[43mmethod\u001b[49m\u001b[43m(\u001b[49m\u001b[43m)\u001b[49m\n\u001b[1;32m    348\u001b[0m     \u001b[38;5;28;01mreturn\u001b[39;00m \u001b[38;5;28;01mNone\u001b[39;00m\n\u001b[1;32m    349\u001b[0m \u001b[38;5;28;01melse\u001b[39;00m:\n",
      "    \u001b[0;31m[... skipping hidden 1 frame]\u001b[0m\n",
      "File \u001b[0;32m~/Projects/chalk/.venv12/lib/python3.12/site-packages/jaxtyping/_decorator.py:449\u001b[0m, in \u001b[0;36mjaxtyped.<locals>.wrapped_fn_impl\u001b[0;34m(args, kwargs, bound, memos)\u001b[0m\n\u001b[1;32m    446\u001b[0m             \u001b[38;5;28;01mraise\u001b[39;00m TypeCheckError(msg) \u001b[38;5;28;01mfrom\u001b[39;00m \u001b[38;5;21;01me\u001b[39;00m\n\u001b[1;32m    448\u001b[0m \u001b[38;5;66;03m# Actually call the function.\u001b[39;00m\n\u001b[0;32m--> 449\u001b[0m out \u001b[38;5;241m=\u001b[39m \u001b[43mfn\u001b[49m\u001b[43m(\u001b[49m\u001b[38;5;241;43m*\u001b[39;49m\u001b[43margs\u001b[49m\u001b[43m,\u001b[49m\u001b[43m \u001b[49m\u001b[38;5;241;43m*\u001b[39;49m\u001b[38;5;241;43m*\u001b[39;49m\u001b[43mkwargs\u001b[49m\u001b[43m)\u001b[49m\n\u001b[1;32m    451\u001b[0m \u001b[38;5;28;01mif\u001b[39;00m full_signature\u001b[38;5;241m.\u001b[39mreturn_annotation \u001b[38;5;129;01mis\u001b[39;00m \u001b[38;5;129;01mnot\u001b[39;00m inspect\u001b[38;5;241m.\u001b[39mSignature\u001b[38;5;241m.\u001b[39mempty:\n\u001b[1;32m    452\u001b[0m     \u001b[38;5;66;03m# Now type-check the return value. We need to include the\u001b[39;00m\n\u001b[1;32m    453\u001b[0m     \u001b[38;5;66;03m# parameters in the type-checking here in case there are any\u001b[39;00m\n\u001b[0;32m   (...)\u001b[0m\n\u001b[1;32m    464\u001b[0m     \u001b[38;5;66;03m# checking of the parameters. Unfortunately there doesn't seem\u001b[39;00m\n\u001b[1;32m    465\u001b[0m     \u001b[38;5;66;03m# to be a way around that, so c'est la vie.\u001b[39;00m\n\u001b[1;32m    466\u001b[0m     kwargs[output_name] \u001b[38;5;241m=\u001b[39m out\n",
      "File \u001b[0;32m~/Projects/chalk/chalk/core.py:215\u001b[0m, in \u001b[0;36mBaseDiagram._repr_svg_\u001b[0;34m(self)\u001b[0m\n\u001b[1;32m    213\u001b[0m \u001b[38;5;28;01mglobal\u001b[39;00m SVG_HEIGHT\n\u001b[1;32m    214\u001b[0m f \u001b[38;5;241m=\u001b[39m tempfile\u001b[38;5;241m.\u001b[39mNamedTemporaryFile(delete\u001b[38;5;241m=\u001b[39m\u001b[38;5;28;01mFalse\u001b[39;00m)\n\u001b[0;32m--> 215\u001b[0m \u001b[38;5;28;43mself\u001b[39;49m\u001b[38;5;241;43m.\u001b[39;49m\u001b[43mrender_svg\u001b[49m\u001b[43m(\u001b[49m\u001b[43mf\u001b[49m\u001b[38;5;241;43m.\u001b[39;49m\u001b[43mname\u001b[49m\u001b[43m,\u001b[49m\u001b[43m \u001b[49m\u001b[43mheight\u001b[49m\u001b[38;5;241;43m=\u001b[39;49m\u001b[43mSVG_HEIGHT\u001b[49m\u001b[43m,\u001b[49m\u001b[43m \u001b[49m\u001b[43mdraw_height\u001b[49m\u001b[38;5;241;43m=\u001b[39;49m\u001b[43mSVG_DRAW_HEIGHT\u001b[49m\u001b[43m)\u001b[49m\n\u001b[1;32m    216\u001b[0m f\u001b[38;5;241m.\u001b[39mclose()\n\u001b[1;32m    217\u001b[0m svg \u001b[38;5;241m=\u001b[39m \u001b[38;5;28mopen\u001b[39m(f\u001b[38;5;241m.\u001b[39mname)\u001b[38;5;241m.\u001b[39mread()\n",
      "    \u001b[0;31m[... skipping hidden 1 frame]\u001b[0m\n",
      "File \u001b[0;32m~/Projects/chalk/.venv12/lib/python3.12/site-packages/jaxtyping/_decorator.py:449\u001b[0m, in \u001b[0;36mjaxtyped.<locals>.wrapped_fn_impl\u001b[0;34m(args, kwargs, bound, memos)\u001b[0m\n\u001b[1;32m    446\u001b[0m             \u001b[38;5;28;01mraise\u001b[39;00m TypeCheckError(msg) \u001b[38;5;28;01mfrom\u001b[39;00m \u001b[38;5;21;01me\u001b[39;00m\n\u001b[1;32m    448\u001b[0m \u001b[38;5;66;03m# Actually call the function.\u001b[39;00m\n\u001b[0;32m--> 449\u001b[0m out \u001b[38;5;241m=\u001b[39m \u001b[43mfn\u001b[49m\u001b[43m(\u001b[49m\u001b[38;5;241;43m*\u001b[39;49m\u001b[43margs\u001b[49m\u001b[43m,\u001b[49m\u001b[43m \u001b[49m\u001b[38;5;241;43m*\u001b[39;49m\u001b[38;5;241;43m*\u001b[39;49m\u001b[43mkwargs\u001b[49m\u001b[43m)\u001b[49m\n\u001b[1;32m    451\u001b[0m \u001b[38;5;28;01mif\u001b[39;00m full_signature\u001b[38;5;241m.\u001b[39mreturn_annotation \u001b[38;5;129;01mis\u001b[39;00m \u001b[38;5;129;01mnot\u001b[39;00m inspect\u001b[38;5;241m.\u001b[39mSignature\u001b[38;5;241m.\u001b[39mempty:\n\u001b[1;32m    452\u001b[0m     \u001b[38;5;66;03m# Now type-check the return value. We need to include the\u001b[39;00m\n\u001b[1;32m    453\u001b[0m     \u001b[38;5;66;03m# parameters in the type-checking here in case there are any\u001b[39;00m\n\u001b[0;32m   (...)\u001b[0m\n\u001b[1;32m    464\u001b[0m     \u001b[38;5;66;03m# checking of the parameters. Unfortunately there doesn't seem\u001b[39;00m\n\u001b[1;32m    465\u001b[0m     \u001b[38;5;66;03m# to be a way around that, so c'est la vie.\u001b[39;00m\n\u001b[1;32m    466\u001b[0m     kwargs[output_name] \u001b[38;5;241m=\u001b[39m out\n",
      "File \u001b[0;32m~/Projects/chalk/chalk/backend/svg.py:100\u001b[0m, in \u001b[0;36mrender\u001b[0;34m(self, path, height, width, draw_height)\u001b[0m\n\u001b[1;32m     80\u001b[0m \u001b[38;5;28;01mdef\u001b[39;00m \u001b[38;5;21mrender\u001b[39m(\n\u001b[1;32m     81\u001b[0m     \u001b[38;5;28mself\u001b[39m: Diagram,\n\u001b[1;32m     82\u001b[0m     path: \u001b[38;5;28mstr\u001b[39m,\n\u001b[0;32m   (...)\u001b[0m\n\u001b[1;32m     85\u001b[0m     draw_height: Optional[\u001b[38;5;28mint\u001b[39m] \u001b[38;5;241m=\u001b[39m \u001b[38;5;28;01mNone\u001b[39;00m,\n\u001b[1;32m     86\u001b[0m ) \u001b[38;5;241m-\u001b[39m\u001b[38;5;241m>\u001b[39m \u001b[38;5;28;01mNone\u001b[39;00m:\n\u001b[1;32m     87\u001b[0m \u001b[38;5;250m    \u001b[39m\u001b[38;5;124;03m\"\"\"Render the diagram to an SVG file.\u001b[39;00m\n\u001b[1;32m     88\u001b[0m \n\u001b[1;32m     89\u001b[0m \u001b[38;5;124;03m    Args:\u001b[39;00m\n\u001b[0;32m   (...)\u001b[0m\n\u001b[1;32m     98\u001b[0m \n\u001b[1;32m     99\u001b[0m \u001b[38;5;124;03m    \"\"\"\u001b[39;00m\n\u001b[0;32m--> 100\u001b[0m     \u001b[38;5;28;01massert\u001b[39;00m \u001b[38;5;28mself\u001b[39m\u001b[38;5;241m.\u001b[39msize() \u001b[38;5;241m==\u001b[39m (), \u001b[38;5;124m\"\u001b[39m\u001b[38;5;124mMust be a size () diagram\u001b[39m\u001b[38;5;124m\"\u001b[39m\n\u001b[1;32m    101\u001b[0m     patches, h, w \u001b[38;5;241m=\u001b[39m \u001b[38;5;28mself\u001b[39m\u001b[38;5;241m.\u001b[39mlayout(height, width)\n\u001b[1;32m    102\u001b[0m     patches_to_file(patches, path, h, w, draw_height)\n",
      "\u001b[0;31mAssertionError\u001b[0m: Must be a size () diagram"
     ]
    },
    {
     "data": {
      "text/plain": [
       "Primitive(prim_shape=Path(loc_trails=(Located(trail=Trail(segments=Segment(transform=array([[[[ 1.0000000e+00,  0.0000000e+00, -1.0000000e+00],\n",
       "         [ 0.0000000e+00,  1.0000000e+00,  0.0000000e+00],\n",
       "         [ 0.0000000e+00,  0.0000000e+00,  1.0000000e+00]],\n",
       "\n",
       "        [[ 6.1232340e-17,  1.0000000e+00, -6.1232340e-17],\n",
       "         [-1.0000000e+00,  6.1232340e-17,  1.0000000e+00],\n",
       "         [ 0.0000000e+00,  0.0000000e+00,  1.0000000e+00]],\n",
       "\n",
       "        [[-1.0000000e+00,  1.2246468e-16,  1.0000000e+00],\n",
       "         [-1.2246468e-16, -1.0000000e+00,  1.2246468e-16],\n",
       "         [ 0.0000000e+00,  0.0000000e+00,  1.0000000e+00]],\n",
       "\n",
       "        [[-1.8369702e-16, -1.0000000e+00,  1.8369702e-16],\n",
       "         [ 1.0000000e+00, -1.8369702e-16, -1.0000000e+00],\n",
       "         [ 0.0000000e+00,  0.0000000e+00,  1.0000000e+00]]],\n",
       "\n",
       "\n",
       "       [[[ 1.0000000e+00,  0.0000000e+00, -1.0000000e+00],\n",
       "         [ 0.0000000e+00,  1.0000000e+00,  0.0000000e+00],\n",
       "         [ 0.0000000e+00,  0.0000000e+00,  1.0000000e+00]],\n",
       "\n",
       "        [[ 6.1232340e-17,  1.0000000e+00, -6.1232340e-17],\n",
       "         [-1.0000000e+00,  6.1232340e-17,  1.0000000e+00],\n",
       "         [ 0.0000000e+00,  0.0000000e+00,  1.0000000e+00]],\n",
       "\n",
       "        [[-1.0000000e+00,  1.2246468e-16,  1.0000000e+00],\n",
       "         [-1.2246468e-16, -1.0000000e+00,  1.2246468e-16],\n",
       "         [ 0.0000000e+00,  0.0000000e+00,  1.0000000e+00]],\n",
       "\n",
       "        [[-1.8369702e-16, -1.0000000e+00,  1.8369702e-16],\n",
       "         [ 1.0000000e+00, -1.8369702e-16, -1.0000000e+00],\n",
       "         [ 0.0000000e+00,  0.0000000e+00,  1.0000000e+00]]],\n",
       "\n",
       "\n",
       "       [[[ 1.0000000e+00,  0.0000000e+00, -1.0000000e+00],\n",
       "         [ 0.0000000e+00,  1.0000000e+00,  0.0000000e+00],\n",
       "         [ 0.0000000e+00,  0.0000000e+00,  1.0000000e+00]],\n",
       "\n",
       "        [[ 6.1232340e-17,  1.0000000e+00, -6.1232340e-17],\n",
       "         [-1.0000000e+00,  6.1232340e-17,  1.0000000e+00],\n",
       "         [ 0.0000000e+00,  0.0000000e+00,  1.0000000e+00]],\n",
       "\n",
       "        [[-1.0000000e+00,  1.2246468e-16,  1.0000000e+00],\n",
       "         [-1.2246468e-16, -1.0000000e+00,  1.2246468e-16],\n",
       "         [ 0.0000000e+00,  0.0000000e+00,  1.0000000e+00]],\n",
       "\n",
       "        [[-1.8369702e-16, -1.0000000e+00,  1.8369702e-16],\n",
       "         [ 1.0000000e+00, -1.8369702e-16, -1.0000000e+00],\n",
       "         [ 0.0000000e+00,  0.0000000e+00,  1.0000000e+00]]],\n",
       "\n",
       "\n",
       "       [[[ 1.0000000e+00,  0.0000000e+00, -1.0000000e+00],\n",
       "         [ 0.0000000e+00,  1.0000000e+00,  0.0000000e+00],\n",
       "         [ 0.0000000e+00,  0.0000000e+00,  1.0000000e+00]],\n",
       "\n",
       "        [[ 6.1232340e-17,  1.0000000e+00, -6.1232340e-17],\n",
       "         [-1.0000000e+00,  6.1232340e-17,  1.0000000e+00],\n",
       "         [ 0.0000000e+00,  0.0000000e+00,  1.0000000e+00]],\n",
       "\n",
       "        [[-1.0000000e+00,  1.2246468e-16,  1.0000000e+00],\n",
       "         [-1.2246468e-16, -1.0000000e+00,  1.2246468e-16],\n",
       "         [ 0.0000000e+00,  0.0000000e+00,  1.0000000e+00]],\n",
       "\n",
       "        [[-1.8369702e-16, -1.0000000e+00,  1.8369702e-16],\n",
       "         [ 1.0000000e+00, -1.8369702e-16, -1.0000000e+00],\n",
       "         [ 0.0000000e+00,  0.0000000e+00,  1.0000000e+00]]]]), angles=array([[[  0., -90.],\n",
       "        [  0., -90.],\n",
       "        [  0., -90.],\n",
       "        [  0., -90.]],\n",
       "\n",
       "       [[  0., -90.],\n",
       "        [  0., -90.],\n",
       "        [  0., -90.],\n",
       "        [  0., -90.]],\n",
       "\n",
       "       [[  0., -90.],\n",
       "        [  0., -90.],\n",
       "        [  0., -90.],\n",
       "        [  0., -90.]],\n",
       "\n",
       "       [[  0., -90.],\n",
       "        [  0., -90.],\n",
       "        [  0., -90.],\n",
       "        [  0., -90.]]])), closed=array([ True,  True,  True,  True])), location=array([[[0.],\n",
       "        [0.],\n",
       "        [1.]],\n",
       "\n",
       "       [[0.],\n",
       "        [0.],\n",
       "        [1.]],\n",
       "\n",
       "       [[0.],\n",
       "        [0.],\n",
       "        [1.]],\n",
       "\n",
       "       [[0.],\n",
       "        [0.],\n",
       "        [1.]]])),), text=None), style=None, transform=array([[[1., 0., 2.],\n",
       "        [0., 1., 1.],\n",
       "        [0., 0., 1.]],\n",
       "\n",
       "       [[2., 0., 4.],\n",
       "        [0., 2., 2.],\n",
       "        [0., 0., 1.]],\n",
       "\n",
       "       [[3., 0., 6.],\n",
       "        [0., 3., 3.],\n",
       "        [0., 0., 1.]],\n",
       "\n",
       "       [[4., 0., 8.],\n",
       "        [0., 4., 4.],\n",
       "        [0., 0., 1.]]]), order=None)"
      ]
     },
     "execution_count": 6,
     "metadata": {},
     "output_type": "execute_result"
    }
   ],
   "source": [
    "c = circle(np.arange(1, 5)).translate(np.arange(1,5), np.arange(1,5))\n",
    "c"
   ]
  },
  {
   "cell_type": "code",
   "execution_count": 7,
   "id": "dc4ce8fe",
   "metadata": {
    "execution": {
     "iopub.execute_input": "2024-08-07T15:18:56.771525Z",
     "iopub.status.busy": "2024-08-07T15:18:56.771423Z",
     "iopub.status.idle": "2024-08-07T15:18:56.957715Z",
     "shell.execute_reply": "2024-08-07T15:18:56.957318Z"
    }
   },
   "outputs": [
    {
     "name": "stdout",
     "output_type": "stream",
     "text": [
      "() StyleHolder(base=array([0., 0., 0., 0., 0., 0., 0., 0., 0., 0., 0., 0.]), mask=array([False, False, False, False, False, False, False, False, False,\n",
      "       False, False, False]))\n",
      "() StyleHolder(base=array([0., 0., 0., 0., 0., 0., 0., 0., 0., 0., 0., 0.]), mask=array([False, False, False, False, False, False, False, False, False,\n",
      "       False, False, False]))\n"
     ]
    },
    {
     "data": {
      "image/svg+xml": [
       "<?xml version=\"1.0\" encoding=\"utf-8\" ?>\n",
       "<svg baseProfile=\"full\" height=\"200\" version=\"1.1\" width=\"200\" xmlns=\"http://www.w3.org/2000/svg\" xmlns:ev=\"http://www.w3.org/2001/xml-events\" xmlns:xlink=\"http://www.w3.org/1999/xlink\"><defs /><g style=\"fill-opacity: 1.0;stroke: rgb(0.0 0.0 0.0);fill: rgb(256.0 256.0 256.0);stroke-width: 0.6000000000000001;\"><path d=\"M 52.38095238095238 28.57142857142857 C 52.38095238095238 15.509910229646103 41.63294691321103 4.761904761904759 28.571428571428566 4.761904761904759 C 15.509910229646103 4.761904761904759 4.761904761904759 15.509910229646104 4.761904761904759 28.571428571428573 C 4.761904761904759 41.63294691321103 15.509910229646103 52.38095238095238 28.571428571428573 52.38095238095238 C 41.63294691321103 52.38095238095238 52.38095238095238 41.632946913211036 52.38095238095238 28.57142857142857\" style=\"vector-effect: non-scaling-stroke;\" /></g><g style=\"fill-opacity: 1.0;stroke: rgb(0.0 0.0 0.0);fill: rgb(256.0 256.0 256.0);stroke-width: 0.6000000000000001;\"><path d=\"M 100.0 52.38095238095238 C 100.0 26.257915697387446 78.5039890645173 4.761904761904759 52.38095238095237 4.761904761904759 C 26.257915697387446 4.761904761904759 4.761904761904759 26.25791569738745 4.761904761904759 52.38095238095239 C 4.761904761904759 78.5039890645173 26.257915697387446 100.0 52.38095238095239 100.0 C 78.5039890645173 100.0 100.0 78.50398906451731 100.0 52.38095238095238\" style=\"vector-effect: non-scaling-stroke;\" /></g><g style=\"fill-opacity: 1.0;stroke: rgb(0.0 0.0 0.0);fill: rgb(256.0 256.0 256.0);stroke-width: 0.6000000000000001;\"><path d=\"M 147.61904761904762 76.19047619047619 C 147.61904761904762 37.00592116512879 115.37503121582358 4.761904761904759 76.19047619047618 4.761904761904759 C 37.0059211651288 4.761904761904759 4.761904761904759 37.0059211651288 4.761904761904759 76.1904761904762 C 4.761904761904759 115.37503121582358 37.0059211651288 147.6190476190476 76.1904761904762 147.6190476190476 C 115.37503121582358 147.61904761904762 147.61904761904762 115.37503121582358 147.61904761904762 76.19047619047619\" style=\"vector-effect: non-scaling-stroke;\" /></g><g style=\"fill-opacity: 1.0;stroke: rgb(0.0 0.0 0.0);fill: rgb(256.0 256.0 256.0);stroke-width: 0.6000000000000001;\"><path d=\"M 195.23809523809524 100.0 C 195.23809523809524 47.75392663287013 152.24607336712984 4.761904761904759 99.99999999999999 4.761904761904759 C 47.75392663287013 4.761904761904759 4.761904761904759 47.75392663287014 4.761904761904759 100.00000000000001 C 4.761904761904759 152.24607336712984 47.75392663287013 195.23809523809524 100.00000000000001 195.23809523809524 C 152.24607336712984 195.23809523809524 195.23809523809524 152.24607336712987 195.23809523809524 100.0\" style=\"vector-effect: non-scaling-stroke;\" /></g></svg>"
      ],
      "text/html": [
       "<?xml version=\"1.0\" encoding=\"utf-8\" ?>\n",
       "<svg baseProfile=\"full\" height=\"200\" version=\"1.1\" width=\"200\" xmlns=\"http://www.w3.org/2000/svg\" xmlns:ev=\"http://www.w3.org/2001/xml-events\" xmlns:xlink=\"http://www.w3.org/1999/xlink\"><defs /><g style=\"fill-opacity: 1.0;stroke: rgb(0.0 0.0 0.0);fill: rgb(256.0 256.0 256.0);stroke-width: 0.6000000000000001;\"><path d=\"M 52.38095238095238 28.57142857142857 C 52.38095238095238 15.509910229646103 41.63294691321103 4.761904761904759 28.571428571428566 4.761904761904759 C 15.509910229646103 4.761904761904759 4.761904761904759 15.509910229646104 4.761904761904759 28.571428571428573 C 4.761904761904759 41.63294691321103 15.509910229646103 52.38095238095238 28.571428571428573 52.38095238095238 C 41.63294691321103 52.38095238095238 52.38095238095238 41.632946913211036 52.38095238095238 28.57142857142857\" style=\"vector-effect: non-scaling-stroke;\" /></g><g style=\"fill-opacity: 1.0;stroke: rgb(0.0 0.0 0.0);fill: rgb(256.0 256.0 256.0);stroke-width: 0.6000000000000001;\"><path d=\"M 100.0 52.38095238095238 C 100.0 26.257915697387446 78.5039890645173 4.761904761904759 52.38095238095237 4.761904761904759 C 26.257915697387446 4.761904761904759 4.761904761904759 26.25791569738745 4.761904761904759 52.38095238095239 C 4.761904761904759 78.5039890645173 26.257915697387446 100.0 52.38095238095239 100.0 C 78.5039890645173 100.0 100.0 78.50398906451731 100.0 52.38095238095238\" style=\"vector-effect: non-scaling-stroke;\" /></g><g style=\"fill-opacity: 1.0;stroke: rgb(0.0 0.0 0.0);fill: rgb(256.0 256.0 256.0);stroke-width: 0.6000000000000001;\"><path d=\"M 147.61904761904762 76.19047619047619 C 147.61904761904762 37.00592116512879 115.37503121582358 4.761904761904759 76.19047619047618 4.761904761904759 C 37.0059211651288 4.761904761904759 4.761904761904759 37.0059211651288 4.761904761904759 76.1904761904762 C 4.761904761904759 115.37503121582358 37.0059211651288 147.6190476190476 76.1904761904762 147.6190476190476 C 115.37503121582358 147.61904761904762 147.61904761904762 115.37503121582358 147.61904761904762 76.19047619047619\" style=\"vector-effect: non-scaling-stroke;\" /></g><g style=\"fill-opacity: 1.0;stroke: rgb(0.0 0.0 0.0);fill: rgb(256.0 256.0 256.0);stroke-width: 0.6000000000000001;\"><path d=\"M 195.23809523809524 100.0 C 195.23809523809524 47.75392663287013 152.24607336712984 4.761904761904759 99.99999999999999 4.761904761904759 C 47.75392663287013 4.761904761904759 4.761904761904759 47.75392663287014 4.761904761904759 100.00000000000001 C 4.761904761904759 152.24607336712984 47.75392663287013 195.23809523809524 100.00000000000001 195.23809523809524 C 152.24607336712984 195.23809523809524 195.23809523809524 152.24607336712987 195.23809523809524 100.0\" style=\"vector-effect: non-scaling-stroke;\" /></g></svg>"
      ],
      "text/plain": [
       "ComposeAxis(diagrams=Primitive(prim_shape=Path(loc_trails=(Located(trail=Trail(segments=Segment(transform=array([[[[ 1.0000000e+00,  0.0000000e+00, -1.0000000e+00],\n",
       "         [ 0.0000000e+00,  1.0000000e+00,  0.0000000e+00],\n",
       "         [ 0.0000000e+00,  0.0000000e+00,  1.0000000e+00]],\n",
       "\n",
       "        [[ 6.1232340e-17,  1.0000000e+00, -6.1232340e-17],\n",
       "         [-1.0000000e+00,  6.1232340e-17,  1.0000000e+00],\n",
       "         [ 0.0000000e+00,  0.0000000e+00,  1.0000000e+00]],\n",
       "\n",
       "        [[-1.0000000e+00,  1.2246468e-16,  1.0000000e+00],\n",
       "         [-1.2246468e-16, -1.0000000e+00,  1.2246468e-16],\n",
       "         [ 0.0000000e+00,  0.0000000e+00,  1.0000000e+00]],\n",
       "\n",
       "        [[-1.8369702e-16, -1.0000000e+00,  1.8369702e-16],\n",
       "         [ 1.0000000e+00, -1.8369702e-16, -1.0000000e+00],\n",
       "         [ 0.0000000e+00,  0.0000000e+00,  1.0000000e+00]]],\n",
       "\n",
       "\n",
       "       [[[ 1.0000000e+00,  0.0000000e+00, -1.0000000e+00],\n",
       "         [ 0.0000000e+00,  1.0000000e+00,  0.0000000e+00],\n",
       "         [ 0.0000000e+00,  0.0000000e+00,  1.0000000e+00]],\n",
       "\n",
       "        [[ 6.1232340e-17,  1.0000000e+00, -6.1232340e-17],\n",
       "         [-1.0000000e+00,  6.1232340e-17,  1.0000000e+00],\n",
       "         [ 0.0000000e+00,  0.0000000e+00,  1.0000000e+00]],\n",
       "\n",
       "        [[-1.0000000e+00,  1.2246468e-16,  1.0000000e+00],\n",
       "         [-1.2246468e-16, -1.0000000e+00,  1.2246468e-16],\n",
       "         [ 0.0000000e+00,  0.0000000e+00,  1.0000000e+00]],\n",
       "\n",
       "        [[-1.8369702e-16, -1.0000000e+00,  1.8369702e-16],\n",
       "         [ 1.0000000e+00, -1.8369702e-16, -1.0000000e+00],\n",
       "         [ 0.0000000e+00,  0.0000000e+00,  1.0000000e+00]]],\n",
       "\n",
       "\n",
       "       [[[ 1.0000000e+00,  0.0000000e+00, -1.0000000e+00],\n",
       "         [ 0.0000000e+00,  1.0000000e+00,  0.0000000e+00],\n",
       "         [ 0.0000000e+00,  0.0000000e+00,  1.0000000e+00]],\n",
       "\n",
       "        [[ 6.1232340e-17,  1.0000000e+00, -6.1232340e-17],\n",
       "         [-1.0000000e+00,  6.1232340e-17,  1.0000000e+00],\n",
       "         [ 0.0000000e+00,  0.0000000e+00,  1.0000000e+00]],\n",
       "\n",
       "        [[-1.0000000e+00,  1.2246468e-16,  1.0000000e+00],\n",
       "         [-1.2246468e-16, -1.0000000e+00,  1.2246468e-16],\n",
       "         [ 0.0000000e+00,  0.0000000e+00,  1.0000000e+00]],\n",
       "\n",
       "        [[-1.8369702e-16, -1.0000000e+00,  1.8369702e-16],\n",
       "         [ 1.0000000e+00, -1.8369702e-16, -1.0000000e+00],\n",
       "         [ 0.0000000e+00,  0.0000000e+00,  1.0000000e+00]]],\n",
       "\n",
       "\n",
       "       [[[ 1.0000000e+00,  0.0000000e+00, -1.0000000e+00],\n",
       "         [ 0.0000000e+00,  1.0000000e+00,  0.0000000e+00],\n",
       "         [ 0.0000000e+00,  0.0000000e+00,  1.0000000e+00]],\n",
       "\n",
       "        [[ 6.1232340e-17,  1.0000000e+00, -6.1232340e-17],\n",
       "         [-1.0000000e+00,  6.1232340e-17,  1.0000000e+00],\n",
       "         [ 0.0000000e+00,  0.0000000e+00,  1.0000000e+00]],\n",
       "\n",
       "        [[-1.0000000e+00,  1.2246468e-16,  1.0000000e+00],\n",
       "         [-1.2246468e-16, -1.0000000e+00,  1.2246468e-16],\n",
       "         [ 0.0000000e+00,  0.0000000e+00,  1.0000000e+00]],\n",
       "\n",
       "        [[-1.8369702e-16, -1.0000000e+00,  1.8369702e-16],\n",
       "         [ 1.0000000e+00, -1.8369702e-16, -1.0000000e+00],\n",
       "         [ 0.0000000e+00,  0.0000000e+00,  1.0000000e+00]]]]), angles=array([[[  0., -90.],\n",
       "        [  0., -90.],\n",
       "        [  0., -90.],\n",
       "        [  0., -90.]],\n",
       "\n",
       "       [[  0., -90.],\n",
       "        [  0., -90.],\n",
       "        [  0., -90.],\n",
       "        [  0., -90.]],\n",
       "\n",
       "       [[  0., -90.],\n",
       "        [  0., -90.],\n",
       "        [  0., -90.],\n",
       "        [  0., -90.]],\n",
       "\n",
       "       [[  0., -90.],\n",
       "        [  0., -90.],\n",
       "        [  0., -90.],\n",
       "        [  0., -90.]]])), closed=array([ True,  True,  True,  True])), location=array([[[0.],\n",
       "        [0.],\n",
       "        [1.]],\n",
       "\n",
       "       [[0.],\n",
       "        [0.],\n",
       "        [1.]],\n",
       "\n",
       "       [[0.],\n",
       "        [0.],\n",
       "        [1.]],\n",
       "\n",
       "       [[0.],\n",
       "        [0.],\n",
       "        [1.]]])),), text=None), style=None, transform=array([[[1., 0., 2.],\n",
       "        [0., 1., 1.],\n",
       "        [0., 0., 1.]],\n",
       "\n",
       "       [[2., 0., 4.],\n",
       "        [0., 2., 2.],\n",
       "        [0., 0., 1.]],\n",
       "\n",
       "       [[3., 0., 6.],\n",
       "        [0., 3., 3.],\n",
       "        [0., 0., 1.]],\n",
       "\n",
       "       [[4., 0., 8.],\n",
       "        [0., 4., 4.],\n",
       "        [0., 0., 1.]]]), order=None))"
      ]
     },
     "execution_count": 7,
     "metadata": {},
     "output_type": "execute_result"
    }
   ],
   "source": [
    "c.align_l()\n",
    "c.concat()"
   ]
  }
 ],
 "metadata": {
  "jupytext": {
   "cell_metadata_filter": "-all",
   "main_language": "python",
   "notebook_metadata_filter": "-all"
  },
  "language_info": {
   "codemirror_mode": {
    "name": "ipython",
    "version": 3
   },
   "file_extension": ".py",
   "mimetype": "text/x-python",
   "name": "python",
   "nbconvert_exporter": "python",
   "pygments_lexer": "ipython3",
   "version": "3.12.4"
  }
 },
 "nbformat": 4,
 "nbformat_minor": 5
}
