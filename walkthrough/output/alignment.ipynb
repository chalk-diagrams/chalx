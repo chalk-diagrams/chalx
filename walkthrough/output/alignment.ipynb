{
 "cells": [
  {
   "cell_type": "code",
   "execution_count": null,
   "id": "ae26d059",
   "metadata": {
    "lines_to_next_cell": 2,
    "tags": [
     "hide_inp"
    ]
   },
   "outputs": [],
   "source": [
    "from jaxtyping import install_import_hook\n",
    "\n",
    "with install_import_hook(\"chalk\", \"typeguard.typechecked\"):\n",
    "    pass\n",
    "from chalk.core import BaseDiagram\n",
    "from chalk import *"
   ]
  },
  {
   "cell_type": "markdown",
   "id": "f60c5fff",
   "metadata": {},
   "source": [
    "Each diagram has an origin and an envelope.\n",
    "Manipulating the position of the diagram with respect to its origin and envelope allows for precise control of the layout.\n",
    "Note that the Chalk API is immutable and always returns a new ``Diagram`` object."
   ]
  },
  {
   "cell_type": "markdown",
   "id": "38bbaae0",
   "metadata": {},
   "source": [
    "### Diagram.show_origin"
   ]
  },
  {
   "cell_type": "code",
   "execution_count": null,
   "id": "3c896f9a",
   "metadata": {
    "tags": [
     "hide_inp"
    ]
   },
   "outputs": [],
   "source": [
    "help(BaseDiagram.show_origin)"
   ]
  },
  {
   "cell_type": "markdown",
   "id": "62789380",
   "metadata": {},
   "source": []
  },
  {
   "cell_type": "code",
   "execution_count": null,
   "id": "1c6d5a3b",
   "metadata": {
    "lines_to_next_cell": 2
   },
   "outputs": [],
   "source": [
    "triangle(1).show_origin()"
   ]
  },
  {
   "cell_type": "code",
   "execution_count": null,
   "id": "4ba0ba42",
   "metadata": {},
   "outputs": [],
   "source": [
    "triangle(1).show_origin().render_svg(\"/tmp/test.svg\")"
   ]
  },
  {
   "cell_type": "markdown",
   "id": "a425c1e3",
   "metadata": {},
   "source": [
    "### Diagram.show_envelope"
   ]
  },
  {
   "cell_type": "code",
   "execution_count": null,
   "id": "0bf400da",
   "metadata": {
    "tags": [
     "hide_inp"
    ]
   },
   "outputs": [],
   "source": [
    "help(BaseDiagram.show_envelope)"
   ]
  },
  {
   "cell_type": "code",
   "execution_count": null,
   "id": "72b5f9ad",
   "metadata": {
    "lines_to_next_cell": 2
   },
   "outputs": [],
   "source": [
    "rectangle(1, 1).show_envelope()"
   ]
  },
  {
   "cell_type": "code",
   "execution_count": null,
   "id": "243ebb4c",
   "metadata": {
    "lines_to_next_cell": 2
   },
   "outputs": [],
   "source": [
    "triangle(1).show_envelope()"
   ]
  },
  {
   "cell_type": "code",
   "execution_count": null,
   "id": "95ea8ffc",
   "metadata": {
    "lines_to_next_cell": 2
   },
   "outputs": [],
   "source": [
    "rectangle(1, 1).show_beside(triangle(1), unit_x)"
   ]
  },
  {
   "cell_type": "code",
   "execution_count": null,
   "id": "01ff0e6c",
   "metadata": {
    "lines_to_next_cell": 2
   },
   "outputs": [],
   "source": [
    "(rectangle(1, 1) | triangle(1)).pad(1.4)"
   ]
  },
  {
   "cell_type": "code",
   "execution_count": null,
   "id": "73a640c5",
   "metadata": {},
   "outputs": [],
   "source": [
    "arc(1, 0, 90)"
   ]
  },
  {
   "cell_type": "markdown",
   "id": "d979e340",
   "metadata": {},
   "source": [
    "### Diagram.align_*"
   ]
  },
  {
   "cell_type": "code",
   "execution_count": null,
   "id": "1ed675e2",
   "metadata": {
    "tags": [
     "hide_inp"
    ]
   },
   "outputs": [],
   "source": [
    "help(BaseDiagram.align_t)"
   ]
  },
  {
   "cell_type": "markdown",
   "id": "fe0479b5",
   "metadata": {},
   "source": []
  },
  {
   "cell_type": "code",
   "execution_count": null,
   "id": "beb0eb82",
   "metadata": {},
   "outputs": [],
   "source": [
    "triangle(1).align_t().show_origin()"
   ]
  },
  {
   "cell_type": "code",
   "execution_count": null,
   "id": "b60795af",
   "metadata": {},
   "outputs": [],
   "source": []
  },
  {
   "cell_type": "code",
   "execution_count": null,
   "id": "42114cd2",
   "metadata": {
    "lines_to_next_cell": 2
   },
   "outputs": [],
   "source": [
    "triangle(1).align_t().show_beside(rectangle(1, 1).align_b(), unit_x)"
   ]
  },
  {
   "cell_type": "code",
   "execution_count": null,
   "id": "b9b27e19",
   "metadata": {
    "tags": [
     "hide_inp"
    ]
   },
   "outputs": [],
   "source": [
    "help(BaseDiagram.align_r)"
   ]
  },
  {
   "cell_type": "markdown",
   "id": "b4ceac57",
   "metadata": {},
   "source": [
    "### Diagram.center_xy"
   ]
  },
  {
   "cell_type": "code",
   "execution_count": null,
   "id": "a05b293d",
   "metadata": {
    "tags": [
     "hide_inp"
    ]
   },
   "outputs": [],
   "source": [
    "help(BaseDiagram.center_xy)"
   ]
  },
  {
   "cell_type": "markdown",
   "id": "0772924c",
   "metadata": {},
   "source": []
  },
  {
   "cell_type": "code",
   "execution_count": null,
   "id": "e4b20446",
   "metadata": {
    "lines_to_next_cell": 2
   },
   "outputs": [],
   "source": [
    "triangle(1).center_xy().show_envelope().show_origin()"
   ]
  },
  {
   "cell_type": "markdown",
   "id": "faf1ce89",
   "metadata": {},
   "source": [
    "### Diagram.pad_*"
   ]
  },
  {
   "cell_type": "code",
   "execution_count": null,
   "id": "481393d0",
   "metadata": {
    "lines_to_next_cell": 2,
    "tags": [
     "hide_inp"
    ]
   },
   "outputs": [],
   "source": [
    "help(BaseDiagram.pad)"
   ]
  },
  {
   "cell_type": "markdown",
   "id": "b6767879",
   "metadata": {},
   "source": []
  },
  {
   "cell_type": "code",
   "execution_count": null,
   "id": "f3c98910",
   "metadata": {
    "lines_to_next_cell": 2
   },
   "outputs": [],
   "source": [
    "triangle(1).pad(1.5).show_envelope().show_origin()"
   ]
  },
  {
   "cell_type": "markdown",
   "id": "9a2d15f3",
   "metadata": {},
   "source": [
    "### Diagram.with_envelope"
   ]
  },
  {
   "cell_type": "code",
   "execution_count": null,
   "id": "0ba546d4",
   "metadata": {
    "lines_to_next_cell": 2,
    "tags": [
     "hide_inp"
    ]
   },
   "outputs": [],
   "source": [
    "help(BaseDiagram.with_envelope)"
   ]
  },
  {
   "cell_type": "markdown",
   "id": "61194dea",
   "metadata": {},
   "source": []
  },
  {
   "cell_type": "code",
   "execution_count": null,
   "id": "2cac3812",
   "metadata": {},
   "outputs": [],
   "source": []
  },
  {
   "cell_type": "code",
   "execution_count": null,
   "id": "1dfc952e",
   "metadata": {
    "lines_to_next_cell": 2
   },
   "outputs": [],
   "source": [
    "(rectangle(1, 1) + triangle(0.5)) | rectangle(1, 1)"
   ]
  },
  {
   "cell_type": "code",
   "execution_count": null,
   "id": "0f5497cb",
   "metadata": {},
   "outputs": [],
   "source": [
    "(rectangle(1, 1) + triangle(0.5)).with_envelope(triangle(0.5)) | rectangle(\n",
    "    1, 1\n",
    ").fill_color(\"red\")"
   ]
  }
 ],
 "metadata": {
  "jupytext": {
   "cell_metadata_filter": "tags,-all",
   "main_language": "python",
   "notebook_metadata_filter": "-all"
  }
 },
 "nbformat": 4,
 "nbformat_minor": 5
}
