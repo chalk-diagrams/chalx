{
 "cells": [
  {
   "cell_type": "code",
   "execution_count": 1,
   "id": "781dcd27",
   "metadata": {
    "execution": {
     "iopub.execute_input": "2024-08-05T01:29:42.380610Z",
     "iopub.status.busy": "2024-08-05T01:29:42.380346Z",
     "iopub.status.idle": "2024-08-05T01:29:42.910594Z",
     "shell.execute_reply": "2024-08-05T01:29:42.910163Z"
    }
   },
   "outputs": [],
   "source": [
    "# from jaxtyping import install_import_hook\n",
    "# with install_import_hook(\"chalk\", \"typeguard.typechecked\"):\n",
    "#     import chalk\n",
    "from chalk import *\n",
    "import numpy as np"
   ]
  },
  {
   "cell_type": "code",
   "execution_count": 2,
   "id": "3284a532",
   "metadata": {
    "execution": {
     "iopub.execute_input": "2024-08-05T01:29:42.912502Z",
     "iopub.status.busy": "2024-08-05T01:29:42.912353Z",
     "iopub.status.idle": "2024-08-05T01:29:42.938963Z",
     "shell.execute_reply": "2024-08-05T01:29:42.938712Z"
    }
   },
   "outputs": [
    {
     "data": {
      "image/svg+xml": [
       "<?xml version=\"1.0\" encoding=\"utf-8\" ?>\n",
       "<svg baseProfile=\"full\" height=\"200\" version=\"1.1\" width=\"400\" xmlns=\"http://www.w3.org/2000/svg\" xmlns:ev=\"http://www.w3.org/2001/xml-events\" xmlns:xlink=\"http://www.w3.org/1999/xlink\"><defs /><g style=\"fill-opacity: 1.0;stroke: rgb(0.0 0.0 0.0);fill: rgb(0.0 0.0 0.0);stroke-width: 0.6000000000000001;\"><path d=\"M 200.0 100.0 C 200.0 47.75392663287013 157.0079781290346 4.761904761904759 104.76190476190474 4.761904761904759 C 52.51583139477489 4.761904761904759 9.523809523809518 47.75392663287014 9.523809523809518 100.00000000000001 C 9.523809523809518 152.24607336712984 52.51583139477489 195.23809523809524 104.76190476190477 195.23809523809524 C 157.0079781290346 195.23809523809524 200.0 152.24607336712987 200.0 100.0\" style=\"vector-effect: non-scaling-stroke;\" /></g><g style=\"fill-opacity: 1.0;stroke: rgb(0.0 0.0 0.0);fill: rgb(0.0 0.0 256.0);stroke-width: 0.6000000000000001;\"><path d=\"M 390.4761904761905 100.0 C 390.4761904761905 47.75392663287013 347.4841686052251 4.761904761904759 295.23809523809524 4.761904761904759 C 242.99202187096537 4.761904761904759 200.0 47.75392663287014 200.0 100.00000000000001 C 200.0 152.24607336712984 242.99202187096537 195.23809523809524 295.23809523809524 195.23809523809524 C 347.4841686052251 195.23809523809524 390.4761904761905 152.24607336712987 390.4761904761905 100.0\" style=\"vector-effect: non-scaling-stroke;\" /></g><g style=\"fill-opacity: 1.0;stroke: rgb(0.0 0.0 0.0);fill: rgb(256.0 0.0 0.0);stroke-width: 0.6000000000000001;\"><path d=\"M 152.38095238095238 100.0 C 152.38095238095238 73.87696331643507 130.88494144546968 52.38095238095238 104.76190476190476 52.38095238095238 C 78.63886807833983 52.38095238095238 57.14285714285714 73.87696331643507 57.14285714285714 100.0 C 57.14285714285714 126.12303668356492 78.63886807833983 147.61904761904762 104.76190476190476 147.61904761904762 C 130.88494144546968 147.61904761904762 152.38095238095238 126.12303668356493 152.38095238095238 100.0\" style=\"vector-effect: non-scaling-stroke;\" /></g></svg>"
      ],
      "text/html": [
       "<?xml version=\"1.0\" encoding=\"utf-8\" ?>\n",
       "<svg baseProfile=\"full\" height=\"200\" version=\"1.1\" width=\"400\" xmlns=\"http://www.w3.org/2000/svg\" xmlns:ev=\"http://www.w3.org/2001/xml-events\" xmlns:xlink=\"http://www.w3.org/1999/xlink\"><defs /><g style=\"fill-opacity: 1.0;stroke: rgb(0.0 0.0 0.0);fill: rgb(0.0 0.0 0.0);stroke-width: 0.6000000000000001;\"><path d=\"M 200.0 100.0 C 200.0 47.75392663287013 157.0079781290346 4.761904761904759 104.76190476190474 4.761904761904759 C 52.51583139477489 4.761904761904759 9.523809523809518 47.75392663287014 9.523809523809518 100.00000000000001 C 9.523809523809518 152.24607336712984 52.51583139477489 195.23809523809524 104.76190476190477 195.23809523809524 C 157.0079781290346 195.23809523809524 200.0 152.24607336712987 200.0 100.0\" style=\"vector-effect: non-scaling-stroke;\" /></g><g style=\"fill-opacity: 1.0;stroke: rgb(0.0 0.0 0.0);fill: rgb(0.0 0.0 256.0);stroke-width: 0.6000000000000001;\"><path d=\"M 390.4761904761905 100.0 C 390.4761904761905 47.75392663287013 347.4841686052251 4.761904761904759 295.23809523809524 4.761904761904759 C 242.99202187096537 4.761904761904759 200.0 47.75392663287014 200.0 100.00000000000001 C 200.0 152.24607336712984 242.99202187096537 195.23809523809524 295.23809523809524 195.23809523809524 C 347.4841686052251 195.23809523809524 390.4761904761905 152.24607336712987 390.4761904761905 100.0\" style=\"vector-effect: non-scaling-stroke;\" /></g><g style=\"fill-opacity: 1.0;stroke: rgb(0.0 0.0 0.0);fill: rgb(256.0 0.0 0.0);stroke-width: 0.6000000000000001;\"><path d=\"M 152.38095238095238 100.0 C 152.38095238095238 73.87696331643507 130.88494144546968 52.38095238095238 104.76190476190476 52.38095238095238 C 78.63886807833983 52.38095238095238 57.14285714285714 73.87696331643507 57.14285714285714 100.0 C 57.14285714285714 126.12303668356492 78.63886807833983 147.61904761904762 104.76190476190476 147.61904761904762 C 130.88494144546968 147.61904761904762 152.38095238095238 126.12303668356493 152.38095238095238 100.0\" style=\"vector-effect: non-scaling-stroke;\" /></g></svg>"
      ],
      "text/plain": [
       "Compose(envelope=None, diagrams=(Compose(envelope=None, diagrams=(ApplyName(dname=Name(atomic_names=('a',)), diagram=Primitive(prim_shape=Path(loc_trails=(Located(trail=Trail(segments=Segment(transform=array([[[ 1.0000000e+00,  0.0000000e+00, -1.0000000e+00],\n",
       "        [ 0.0000000e+00,  1.0000000e+00,  0.0000000e+00],\n",
       "        [ 0.0000000e+00,  0.0000000e+00,  1.0000000e+00]],\n",
       "\n",
       "       [[ 6.1232340e-17,  1.0000000e+00, -6.1232340e-17],\n",
       "        [-1.0000000e+00,  6.1232340e-17,  1.0000000e+00],\n",
       "        [ 0.0000000e+00,  0.0000000e+00,  1.0000000e+00]],\n",
       "\n",
       "       [[-1.0000000e+00,  1.2246468e-16,  1.0000000e+00],\n",
       "        [-1.2246468e-16, -1.0000000e+00,  1.2246468e-16],\n",
       "        [ 0.0000000e+00,  0.0000000e+00,  1.0000000e+00]],\n",
       "\n",
       "       [[-1.8369702e-16, -1.0000000e+00,  1.8369702e-16],\n",
       "        [ 1.0000000e+00, -1.8369702e-16, -1.0000000e+00],\n",
       "        [ 0.0000000e+00,  0.0000000e+00,  1.0000000e+00]]]), angles=array([[  0., -90.],\n",
       "       [  0., -90.],\n",
       "       [  0., -90.],\n",
       "       [  0., -90.]])), closed=array(True)), location=array([[0.],\n",
       "       [0.],\n",
       "       [1.]])),), text=None), style=StyleHolder(base=array([0., 0., 0., 0., 0., 0., 0., 0., 0., 0., 0., 0.]), mask=array([ True,  True,  True, False, False, False, False, False, False,\n",
       "       False, False, False])), transform=array([[2., 0., 2.],\n",
       "       [0., 2., 0.],\n",
       "       [0., 0., 1.]]), order=None)), Primitive(prim_shape=Path(loc_trails=(Located(trail=Trail(segments=Segment(transform=array([[[ 1.0000000e+00,  0.0000000e+00, -1.0000000e+00],\n",
       "        [ 0.0000000e+00,  1.0000000e+00,  0.0000000e+00],\n",
       "        [ 0.0000000e+00,  0.0000000e+00,  1.0000000e+00]],\n",
       "\n",
       "       [[ 6.1232340e-17,  1.0000000e+00, -6.1232340e-17],\n",
       "        [-1.0000000e+00,  6.1232340e-17,  1.0000000e+00],\n",
       "        [ 0.0000000e+00,  0.0000000e+00,  1.0000000e+00]],\n",
       "\n",
       "       [[-1.0000000e+00,  1.2246468e-16,  1.0000000e+00],\n",
       "        [-1.2246468e-16, -1.0000000e+00,  1.2246468e-16],\n",
       "        [ 0.0000000e+00,  0.0000000e+00,  1.0000000e+00]],\n",
       "\n",
       "       [[-1.8369702e-16, -1.0000000e+00,  1.8369702e-16],\n",
       "        [ 1.0000000e+00, -1.8369702e-16, -1.0000000e+00],\n",
       "        [ 0.0000000e+00,  0.0000000e+00,  1.0000000e+00]]]), angles=array([[  0., -90.],\n",
       "       [  0., -90.],\n",
       "       [  0., -90.],\n",
       "       [  0., -90.]])), closed=array(True)), location=array([[0.],\n",
       "       [0.],\n",
       "       [1.]])),), text=None), style=StyleHolder(base=array([0., 0., 1., 0., 0., 0., 0., 0., 0., 0., 0., 0.]), mask=array([ True,  True,  True, False, False, False, False, False, False,\n",
       "       False, False, False])), transform=array([[2., 0., 6.],\n",
       "       [0., 2., 0.],\n",
       "       [0., 0., 1.]]), order=None))), Primitive(prim_shape=Path(loc_trails=(Located(trail=Trail(segments=Segment(transform=array([[[ 1.0000000e+00,  0.0000000e+00, -1.0000000e+00],\n",
       "        [ 0.0000000e+00,  1.0000000e+00,  0.0000000e+00],\n",
       "        [ 0.0000000e+00,  0.0000000e+00,  1.0000000e+00]],\n",
       "\n",
       "       [[ 6.1232340e-17,  1.0000000e+00, -6.1232340e-17],\n",
       "        [-1.0000000e+00,  6.1232340e-17,  1.0000000e+00],\n",
       "        [ 0.0000000e+00,  0.0000000e+00,  1.0000000e+00]],\n",
       "\n",
       "       [[-1.0000000e+00,  1.2246468e-16,  1.0000000e+00],\n",
       "        [-1.2246468e-16, -1.0000000e+00,  1.2246468e-16],\n",
       "        [ 0.0000000e+00,  0.0000000e+00,  1.0000000e+00]],\n",
       "\n",
       "       [[-1.8369702e-16, -1.0000000e+00,  1.8369702e-16],\n",
       "        [ 1.0000000e+00, -1.8369702e-16, -1.0000000e+00],\n",
       "        [ 0.0000000e+00,  0.0000000e+00,  1.0000000e+00]]]), angles=array([[  0., -90.],\n",
       "       [  0., -90.],\n",
       "       [  0., -90.],\n",
       "       [  0., -90.]])), closed=array(True)), location=array([[0.],\n",
       "       [0.],\n",
       "       [1.]])),), text=None), style=StyleHolder(base=array([1., 0., 0., 0., 0., 0., 0., 0., 0., 0., 0., 0.]), mask=array([ True,  True,  True, False, False, False, False, False, False,\n",
       "       False, False, False])), transform=array([[1., 0., 1.],\n",
       "       [0., 1., 0.],\n",
       "       [0., 0., 1.]]), order=None)))"
      ]
     },
     "execution_count": 2,
     "metadata": {},
     "output_type": "execute_result"
    }
   ],
   "source": [
    "d = circle(2).fill_color(\"black\").named(Name(\"a\")) | circle(2).fill_color(\"blue\")\n",
    "\n",
    "\n",
    "def f(subs, d):\n",
    "    return d + circle(1).fill_color(\"red\").translate_by(subs[0].get_location())\n",
    "\n",
    "\n",
    "d.with_names([Name(\"a\")], f)"
   ]
  },
  {
   "cell_type": "code",
   "execution_count": 3,
   "id": "9190b02c",
   "metadata": {
    "execution": {
     "iopub.execute_input": "2024-08-05T01:29:42.940807Z",
     "iopub.status.busy": "2024-08-05T01:29:42.940628Z",
     "iopub.status.idle": "2024-08-05T01:29:42.945659Z",
     "shell.execute_reply": "2024-08-05T01:29:42.945394Z"
    }
   },
   "outputs": [],
   "source": [
    "v = circle(np.arange(1, 5)).get_envelope()"
   ]
  },
  {
   "cell_type": "code",
   "execution_count": 4,
   "id": "b53c5654",
   "metadata": {
    "execution": {
     "iopub.execute_input": "2024-08-05T01:29:42.947056Z",
     "iopub.status.busy": "2024-08-05T01:29:42.946834Z",
     "iopub.status.idle": "2024-08-05T01:29:42.954283Z",
     "shell.execute_reply": "2024-08-05T01:29:42.954011Z"
    },
    "lines_to_next_cell": 1
   },
   "outputs": [],
   "source": [
    "d = circle(np.arange(1, 5)).fill_color(\"black\").named(Name(\"a\")).hcat()"
   ]
  },
  {
   "cell_type": "code",
   "execution_count": 5,
   "id": "e845ed35",
   "metadata": {
    "execution": {
     "iopub.execute_input": "2024-08-05T01:29:42.955527Z",
     "iopub.status.busy": "2024-08-05T01:29:42.955371Z",
     "iopub.status.idle": "2024-08-05T01:29:42.957285Z",
     "shell.execute_reply": "2024-08-05T01:29:42.956989Z"
    },
    "lines_to_next_cell": 1
   },
   "outputs": [],
   "source": [
    "def f(subs, d):\n",
    "    print(subs[0].get_location())\n",
    "    return d + circle(1).fill_color(\"red\").translate_by(subs[0].get_location()).concat()"
   ]
  },
  {
   "cell_type": "code",
   "execution_count": 6,
   "id": "07750ec2",
   "metadata": {
    "execution": {
     "iopub.execute_input": "2024-08-05T01:29:42.958561Z",
     "iopub.status.busy": "2024-08-05T01:29:42.958364Z",
     "iopub.status.idle": "2024-08-05T01:29:42.971984Z",
     "shell.execute_reply": "2024-08-05T01:29:42.971710Z"
    }
   },
   "outputs": [
    {
     "name": "stdout",
     "output_type": "stream",
     "text": [
      "[[[ 0.]\n",
      "  [ 0.]\n",
      "  [ 1.]]\n",
      "\n",
      " [[ 3.]\n",
      "  [ 0.]\n",
      "  [ 1.]]\n",
      "\n",
      " [[ 8.]\n",
      "  [ 0.]\n",
      "  [ 1.]]\n",
      "\n",
      " [[15.]\n",
      "  [ 0.]\n",
      "  [ 1.]]]\n"
     ]
    }
   ],
   "source": [
    "d = d.with_names([Name(\"a\")], f)\n",
    "d.render_svg(\"tmp.svg\")"
   ]
  }
 ],
 "metadata": {
  "jupytext": {
   "cell_metadata_filter": "-all"
  },
  "kernelspec": {
   "display_name": "chalk",
   "language": "python",
   "name": "chalk"
  },
  "language_info": {
   "codemirror_mode": {
    "name": "ipython",
    "version": 3
   },
   "file_extension": ".py",
   "mimetype": "text/x-python",
   "name": "python",
   "nbconvert_exporter": "python",
   "pygments_lexer": "ipython3",
   "version": "3.12.4"
  }
 },
 "nbformat": 4,
 "nbformat_minor": 5
}
