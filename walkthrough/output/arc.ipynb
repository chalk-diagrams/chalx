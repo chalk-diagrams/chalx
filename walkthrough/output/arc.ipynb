{
 "cells": [
  {
   "cell_type": "code",
   "execution_count": 1,
   "id": "7a0c8578",
   "metadata": {
    "execution": {
     "iopub.execute_input": "2024-08-08T02:26:04.387465Z",
     "iopub.status.busy": "2024-08-08T02:26:04.387351Z",
     "iopub.status.idle": "2024-08-08T02:26:04.966442Z",
     "shell.execute_reply": "2024-08-08T02:26:04.966038Z"
    }
   },
   "outputs": [],
   "source": [
    "from chalk import *"
   ]
  },
  {
   "cell_type": "code",
   "execution_count": 2,
   "id": "5faf3ec7",
   "metadata": {
    "execution": {
     "iopub.execute_input": "2024-08-08T02:26:04.968635Z",
     "iopub.status.busy": "2024-08-08T02:26:04.968498Z",
     "iopub.status.idle": "2024-08-08T02:26:04.978644Z",
     "shell.execute_reply": "2024-08-08T02:26:04.978397Z"
    }
   },
   "outputs": [
    {
     "name": "stdout",
     "output_type": "stream",
     "text": [
      "Primitive(prim_shape=Path(loc_trails=(Located(trail=Trail(segments=Segment(transform=array([[[ 1.,  0., -1.],\n",
      "        [ 0.,  1., -0.],\n",
      "        [ 0.,  0.,  1.]]]), angles=array([[ 0., 90.]])), closed=array(False)), location=array([[1.],\n",
      "       [0.],\n",
      "       [1.]])),), text=None, scale_invariant=None), style=StyleHolder(base=array([0., 0., 0., 0., 0., 0., 0., 0., 0., 0., 0., 0.]), mask=array([False, False, False,  True, False, False, False, False, False,\n",
      "       False, False, False])), transform=array([[1., 0., 0.],\n",
      "       [0., 1., 0.],\n",
      "       [0., 0., 1.]]), order=None)\n"
     ]
    }
   ],
   "source": [
    "print(arc(1, 0, 90))"
   ]
  },
  {
   "cell_type": "code",
   "execution_count": 3,
   "id": "9192dc15",
   "metadata": {
    "execution": {
     "iopub.execute_input": "2024-08-08T02:26:04.980446Z",
     "iopub.status.busy": "2024-08-08T02:26:04.980297Z",
     "iopub.status.idle": "2024-08-08T02:26:05.195783Z",
     "shell.execute_reply": "2024-08-08T02:26:05.195345Z"
    }
   },
   "outputs": [
    {
     "data": {
      "image/svg+xml": [
       "<?xml version=\"1.0\" encoding=\"utf-8\" ?>\n",
       "<svg baseProfile=\"full\" height=\"200\" version=\"1.1\" width=\"200\" xmlns=\"http://www.w3.org/2000/svg\" xmlns:ev=\"http://www.w3.org/2001/xml-events\" xmlns:xlink=\"http://www.w3.org/1999/xlink\"><defs /><g style=\"fill-opacity: 1.0;stroke: rgb(0.0 0.0 0.0);fill: rgb(256.0 165.64705882352933 0.0);stroke-width: 0.6000000000000001;\"><path d=\"M 4.952000760388742 4.95200076039238 C 68.31708012522627 4.698539429086385 131.68291987481666 4.698539429086389 195.0479992396527 4.9520007603896845 C 195.30146057096 68.3170801252272 195.30146057096 131.68291987481757 195.0479992396567 195.04799923965368 C 131.68291987481786 195.3014605709609 68.31708012522749 195.3014605709609 4.952000760391423 195.0479992396576 C 4.69853942908545 131.68291987481882 4.69853942908545 68.31708012522843 4.952000760388742 4.952000760392359\" style=\"vector-effect: non-scaling-stroke;\" /></g><g style=\"fill-opacity: 0;stroke: rgb(0.0 0.0 0.0);fill: rgb(256.0 256.0 256.0);stroke-width: 0.6000000000000001;\"><path d=\"M 195.0479992396513 100.00000000002365 C 195.0479992396513 152.14178978758676 152.14178978758312 195.04799923965493 100.00000000002001 195.04799923965493\" style=\"vector-effect: non-scaling-stroke;\" /></g></svg>"
      ],
      "text/html": [
       "<?xml version=\"1.0\" encoding=\"utf-8\" ?>\n",
       "<svg baseProfile=\"full\" height=\"200\" version=\"1.1\" width=\"200\" xmlns=\"http://www.w3.org/2000/svg\" xmlns:ev=\"http://www.w3.org/2001/xml-events\" xmlns:xlink=\"http://www.w3.org/1999/xlink\"><defs /><g style=\"fill-opacity: 1.0;stroke: rgb(0.0 0.0 0.0);fill: rgb(256.0 165.64705882352933 0.0);stroke-width: 0.6000000000000001;\"><path d=\"M 4.952000760388742 4.95200076039238 C 68.31708012522627 4.698539429086385 131.68291987481666 4.698539429086389 195.0479992396527 4.9520007603896845 C 195.30146057096 68.3170801252272 195.30146057096 131.68291987481757 195.0479992396567 195.04799923965368 C 131.68291987481786 195.3014605709609 68.31708012522749 195.3014605709609 4.952000760391423 195.0479992396576 C 4.69853942908545 131.68291987481882 4.69853942908545 68.31708012522843 4.952000760388742 4.952000760392359\" style=\"vector-effect: non-scaling-stroke;\" /></g><g style=\"fill-opacity: 0;stroke: rgb(0.0 0.0 0.0);fill: rgb(256.0 256.0 256.0);stroke-width: 0.6000000000000001;\"><path d=\"M 195.0479992396513 100.00000000002365 C 195.0479992396513 152.14178978758676 152.14178978758312 195.04799923965493 100.00000000002001 195.04799923965493\" style=\"vector-effect: non-scaling-stroke;\" /></g></svg>"
      ],
      "text/plain": [
       "Compose(envelope=None, diagrams=(Primitive(prim_shape=Path(loc_trails=(Located(trail=Trail(segments=Segment(transform=array([[[ 7.65407311e-15,  1.25000500e+02,  5.00000000e-01],\n",
       "        [-1.25000500e+02,  7.65407311e-15,  1.24999500e+02],\n",
       "        [ 0.00000000e+00,  0.00000000e+00,  1.00000000e+00]],\n",
       "\n",
       "       [[ 1.25000500e+02,  0.00000000e+00, -1.24999500e+02],\n",
       "        [ 0.00000000e+00,  1.25000500e+02,  5.00000000e-01],\n",
       "        [ 0.00000000e+00,  0.00000000e+00,  1.00000000e+00]],\n",
       "\n",
       "       [[-2.29622193e-14, -1.25000500e+02, -5.00000000e-01],\n",
       "        [ 1.25000500e+02, -2.29622193e-14, -1.24999500e+02],\n",
       "        [ 0.00000000e+00,  0.00000000e+00,  1.00000000e+00]],\n",
       "\n",
       "       [[-1.25000500e+02,  1.53081462e-14,  1.24999500e+02],\n",
       "        [-1.53081462e-14, -1.25000500e+02, -5.00000000e-01],\n",
       "        [ 0.00000000e+00,  0.00000000e+00,  1.00000000e+00]]]), angles=array([[-0.22918281,  0.45836562],\n",
       "       [-0.22918281,  0.45836562],\n",
       "       [-0.22918281,  0.45836562],\n",
       "       [-0.22918281,  0.45836562]])), closed=array(True)), location=array([[0.],\n",
       "       [0.],\n",
       "       [1.]])),), text=None, scale_invariant=None), style=StyleHolder(base=array([1.        , 0.64705882, 0.        , 0.        , 0.        ,\n",
       "       0.        , 0.        , 0.        , 0.        , 0.        ,\n",
       "       0.        , 0.        ]), mask=array([ True,  True,  True, False, False, False, False, False, False,\n",
       "       False, False, False])), transform=array([[ 2.,  0., -1.],\n",
       "       [ 0.,  2., -1.],\n",
       "       [ 0.,  0.,  1.]]), order=None), Primitive(prim_shape=Path(loc_trails=(Located(trail=Trail(segments=Segment(transform=array([[[ 1.,  0., -1.],\n",
       "        [ 0.,  1., -0.],\n",
       "        [ 0.,  0.,  1.]]]), angles=array([[ 0., 90.]])), closed=array(False)), location=array([[1.],\n",
       "       [0.],\n",
       "       [1.]])),), text=None, scale_invariant=None), style=StyleHolder(base=array([0., 0., 0., 0., 0., 0., 0., 0., 0., 0., 0., 0.]), mask=array([False, False, False,  True, False, False, False, False, False,\n",
       "       False, False, False])), transform=array([[1., 0., 0.],\n",
       "       [0., 1., 0.],\n",
       "       [0., 0., 1.]]), order=None)))"
      ]
     },
     "execution_count": 3,
     "metadata": {},
     "output_type": "execute_result"
    }
   ],
   "source": [
    "square(2).fill_color(\"orange\") + arc(1, 0, 90)"
   ]
  }
 ],
 "metadata": {
  "jupytext": {
   "cell_metadata_filter": "-all",
   "main_language": "python",
   "notebook_metadata_filter": "-all"
  },
  "language_info": {
   "codemirror_mode": {
    "name": "ipython",
    "version": 3
   },
   "file_extension": ".py",
   "mimetype": "text/x-python",
   "name": "python",
   "nbconvert_exporter": "python",
   "pygments_lexer": "ipython3",
   "version": "3.12.4"
  }
 },
 "nbformat": 4,
 "nbformat_minor": 5
}
